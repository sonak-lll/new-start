{
 "cells": [
  {
   "cell_type": "markdown",
   "id": "acute-vermont",
   "metadata": {},
   "source": [
    "# 학습 목표\n",
    "1. Extractive/Abstractive summarization 이해하기\n",
    "2. 단어장 크기를 줄이는 다양한 text normalization 적용해보기\n",
    "3. seq2seq의 성능을 Up시키는 Attention Mechanism 적용하기\n",
    "\n",
    "\n",
    "## 텍스트 요약(Text Summarization)이란?\n",
    "긴 길이의 문서(Document) 원문을 핵심 주제만으로 구성된 짧은 요약(Summary) 문장들로 변환하는 것을 말합니다. 요약문은 문서 원문이 담고 있는 정보를 최대한 보존하고 있어야 합니다. 추출적 요약(Extractive Summarization)과 추상적 요약(Abstractive Summarization)의 두가지 접근으로 나누어볼 수 있습니다.\n",
    "\n",
    "```추출적 요약(Extractive Summarization)```  \n",
    " 단어 그대로 원문에서 문장들을 추출해서 요약하는 방식   \n",
    " 결과로 나온 문장들 간의 호응이 자연스럽지 않을 수 있다는 것이죠.\n",
    "\n",
    "```추상적 요약(Abstractive Summarization)```\n",
    "원문으로부터 내용이 요약된 새로운 문장을 생성해내는 것이죠. 여기서 새로운 문장이라는 것은 결과로 나온 문장이 원문에 원래 없던 문장일 수도 있다는 것을 의미합니다. 자연어 처리 분야 중 자연어 생성(Natural Language Generation, NLG)의 영역인 셈이죠. 반면, 추출적 요약은 원문을 구성하는 문장 중 어느 것이 요약문에 들어갈 핵심문장인지를 판별한다는 점에서 문장 분류(Text Classification) 문제로 볼 수 있을 것\n",
    "\n",
    "***우리는 seq2seq 모델을 통해서 Abstractive summarization 방식의 텍스트 요약기를 만들어볼거에요.***\n",
    "\n",
    "## 텍스트 요약기\n",
    "![텍스트요약기](https://aiffelstaticprd.blob.core.windows.net/media/images/E-21-2.max-800x600.png)\n",
    "\n",
    "```원문을 첫번째 RNN인 인코더로 입력하면, 인코더는 이를 하나의 고정된 벡터로 변환해요. 이 벡터를 문맥 정보를 가지고 있는 벡터라고 하여 컨텍스트 벡터(context vector)라고 합니다. 두번째 RNN인 디코더는 이 컨텍스트 벡터를 전달받아 한 단어씩 생성해내서 요약 문장을 완성하는거죠.```\n",
    "\n",
    "## 시작토큰과 종료토큰\n",
    "![시작토큰과 종료토큰](https://aiffelstaticprd.blob.core.windows.net/media/original_images/E-21-4.png)\n",
    "\n",
    "\n",
    "1. seq2seq를 사용합니다.\n",
    "2. RNN 계열 중 LSTM을 사용하므로 hidden state뿐만 아니라 cell state도 사용해야 합니다.\n",
    "3. 디코더의 예측 시퀀스에는 시작 토큰 SOS와 예측 토큰 EOS를 시퀀스의 앞, 뒤로 붙입니다.\n",
    "4. seq2seq를 구동시키면 디코더는 시작 토큰을 입력받아 예측을 시작합니다.\n",
    "5. seq2seq 기본 모델과 달리, 어텐션 메커니즘을 이용해 인코더의 hidden state의 중요도를 취합한 컨텍스트 벡터를 디코더 스텝별로 계산합니다.\n",
    "6. 계산된 컨텍스트 벡터를 이용해서 디코더는 다음 등장할 단어를 예측합니다."
   ]
  },
  {
   "cell_type": "markdown",
   "id": "wrapped-income",
   "metadata": {},
   "source": [
    "# 데이터 준비\n",
    "\n",
    "이 데이터는 기사의 본문에 해당되는 text와 headlines 두 가지 열로 구성되어져 있습니다.\n",
    "\n",
    "추상적 요약을 하는 경우에는 text를 본문, headlines를 이미 요약된 데이터로 삼아서 모델을 학습할 수 있어요.    \n",
    "추출적 요약을 하는 경우에는 오직 text열만을 사용하세요."
   ]
  },
  {
   "cell_type": "code",
   "execution_count": 1,
   "id": "ultimate-statistics",
   "metadata": {},
   "outputs": [
    {
     "name": "stderr",
     "output_type": "stream",
     "text": [
      "[nltk_data] Downloading package stopwords to /home/aiffel-\n",
      "[nltk_data]     dj57/nltk_data...\n",
      "[nltk_data]   Package stopwords is already up-to-date!\n"
     ]
    }
   ],
   "source": [
    "import nltk\n",
    "nltk.download('stopwords')\n",
    "\n",
    "import numpy as np\n",
    "import pandas as pd\n",
    "import os\n",
    "import re\n",
    "import matplotlib.pyplot as plt\n",
    "from nltk.corpus import stopwords\n",
    "from bs4 import BeautifulSoup \n",
    "from tensorflow.keras.preprocessing.text import Tokenizer \n",
    "from tensorflow.keras.preprocessing.sequence import pad_sequences\n",
    "import urllib.request"
   ]
  },
  {
   "cell_type": "code",
   "execution_count": 2,
   "id": "committed-europe",
   "metadata": {},
   "outputs": [],
   "source": [
    "import urllib.request\n",
    "urllib.request.urlretrieve(\"https://raw.githubusercontent.com/sunnysai12345/News_Summary/master/news_summary_more.csv\", filename=\"news_summary_more.csv\")\n",
    "data = pd.read_csv('news_summary_more.csv', encoding='iso-8859-1')"
   ]
  },
  {
   "cell_type": "code",
   "execution_count": 3,
   "id": "australian-overhead",
   "metadata": {},
   "outputs": [
    {
     "data": {
      "text/html": [
       "<div>\n",
       "<style scoped>\n",
       "    .dataframe tbody tr th:only-of-type {\n",
       "        vertical-align: middle;\n",
       "    }\n",
       "\n",
       "    .dataframe tbody tr th {\n",
       "        vertical-align: top;\n",
       "    }\n",
       "\n",
       "    .dataframe thead th {\n",
       "        text-align: right;\n",
       "    }\n",
       "</style>\n",
       "<table border=\"1\" class=\"dataframe\">\n",
       "  <thead>\n",
       "    <tr style=\"text-align: right;\">\n",
       "      <th></th>\n",
       "      <th>headlines</th>\n",
       "      <th>text</th>\n",
       "    </tr>\n",
       "  </thead>\n",
       "  <tbody>\n",
       "    <tr>\n",
       "      <th>57894</th>\n",
       "      <td>Pakistan is incomplete without Kashmir: Ex-Pak...</td>\n",
       "      <td>Pakistan is incomplete without Kashmir and the...</td>\n",
       "    </tr>\n",
       "    <tr>\n",
       "      <th>96118</th>\n",
       "      <td>Snapdeal may partly vacate its Gurugram office...</td>\n",
       "      <td>E-commerce major Snapdeal is vacating about 50...</td>\n",
       "    </tr>\n",
       "    <tr>\n",
       "      <th>54792</th>\n",
       "      <td>After Kohli's reception, Dhoni attends Salman'...</td>\n",
       "      <td>Former India captain MS Dhoni attended Bollywo...</td>\n",
       "    </tr>\n",
       "    <tr>\n",
       "      <th>14648</th>\n",
       "      <td>India-Windies Test scorers' car gets toppled b...</td>\n",
       "      <td>Tushar Trivedi, one of BCCI's affiliated score...</td>\n",
       "    </tr>\n",
       "    <tr>\n",
       "      <th>96043</th>\n",
       "      <td>90% of rumours about actors are true, says Soo...</td>\n",
       "      <td>Actor Sooraj Pancholi has said that ninety per...</td>\n",
       "    </tr>\n",
       "    <tr>\n",
       "      <th>57978</th>\n",
       "      <td>UP's Shamli becomes 23rd district to be includ...</td>\n",
       "      <td>Uttar Pradesh's Shamli district was included i...</td>\n",
       "    </tr>\n",
       "    <tr>\n",
       "      <th>9115</th>\n",
       "      <td>Man suffers permanent hearing loss after ear-b...</td>\n",
       "      <td>Mukesh Sharma, a passenger who suffered ear-bl...</td>\n",
       "    </tr>\n",
       "    <tr>\n",
       "      <th>57551</th>\n",
       "      <td>French court orders supermarket shut for not s...</td>\n",
       "      <td>A French court has ordered a halal supermarket...</td>\n",
       "    </tr>\n",
       "    <tr>\n",
       "      <th>34806</th>\n",
       "      <td>CFO of Deepak Kochhar's firm quizzed in ICICI-...</td>\n",
       "      <td>The CBI on Wednesday questioned Sunil Bhuta, t...</td>\n",
       "    </tr>\n",
       "    <tr>\n",
       "      <th>83574</th>\n",
       "      <td>Insulin in brain may suppress hunger sensation...</td>\n",
       "      <td>Insulin in the brain may help regulate hunger ...</td>\n",
       "    </tr>\n",
       "  </tbody>\n",
       "</table>\n",
       "</div>"
      ],
      "text/plain": [
       "                                               headlines  \\\n",
       "57894  Pakistan is incomplete without Kashmir: Ex-Pak...   \n",
       "96118  Snapdeal may partly vacate its Gurugram office...   \n",
       "54792  After Kohli's reception, Dhoni attends Salman'...   \n",
       "14648  India-Windies Test scorers' car gets toppled b...   \n",
       "96043  90% of rumours about actors are true, says Soo...   \n",
       "57978  UP's Shamli becomes 23rd district to be includ...   \n",
       "9115   Man suffers permanent hearing loss after ear-b...   \n",
       "57551  French court orders supermarket shut for not s...   \n",
       "34806  CFO of Deepak Kochhar's firm quizzed in ICICI-...   \n",
       "83574  Insulin in brain may suppress hunger sensation...   \n",
       "\n",
       "                                                    text  \n",
       "57894  Pakistan is incomplete without Kashmir and the...  \n",
       "96118  E-commerce major Snapdeal is vacating about 50...  \n",
       "54792  Former India captain MS Dhoni attended Bollywo...  \n",
       "14648  Tushar Trivedi, one of BCCI's affiliated score...  \n",
       "96043  Actor Sooraj Pancholi has said that ninety per...  \n",
       "57978  Uttar Pradesh's Shamli district was included i...  \n",
       "9115   Mukesh Sharma, a passenger who suffered ear-bl...  \n",
       "57551  A French court has ordered a halal supermarket...  \n",
       "34806  The CBI on Wednesday questioned Sunil Bhuta, t...  \n",
       "83574  Insulin in the brain may help regulate hunger ...  "
      ]
     },
     "execution_count": 3,
     "metadata": {},
     "output_type": "execute_result"
    }
   ],
   "source": [
    "data.sample(10)"
   ]
  },
  {
   "cell_type": "code",
   "execution_count": 4,
   "id": "constant-access",
   "metadata": {},
   "outputs": [],
   "source": [
    "#data = pd.read_csv(os.getenv(\"HOME\")+\"/aiffel/news_summarization/data/Reviews.csv\", nrows = 100000)\n",
    "#print('전체 샘플수 :',(len(data))) #데이터 중 10만개의 샘플만 사용합니다."
   ]
  },
  {
   "cell_type": "markdown",
   "id": "occupied-cattle",
   "metadata": {},
   "source": [
    "# 데이터 전처리하기 (1) 데이터 정리하기"
   ]
  },
  {
   "cell_type": "code",
   "execution_count": 5,
   "id": "cubic-arrival",
   "metadata": {},
   "outputs": [
    {
     "name": "stdout",
     "output_type": "stream",
     "text": [
      "headlines 열에서 중복을 배제한 유일한 샘플의 수 : 98280\n",
      "text 열에서 중복을 배제한 유일한 샘플의 수 : 98360\n"
     ]
    }
   ],
   "source": [
    "print('headlines 열에서 중복을 배제한 유일한 샘플의 수 :', data['headlines'].nunique())\n",
    "print('text 열에서 중복을 배제한 유일한 샘플의 수 :', data['text'].nunique())"
   ]
  },
  {
   "cell_type": "code",
   "execution_count": 6,
   "id": "marine-favor",
   "metadata": {},
   "outputs": [
    {
     "name": "stdout",
     "output_type": "stream",
     "text": [
      "전체 샘플수 : 98360\n"
     ]
    }
   ],
   "source": [
    "data.drop_duplicates(subset = ['text'], inplace = True)\n",
    "print('전체 샘플수 :',(len(data)))# 중복샘플 제거"
   ]
  },
  {
   "cell_type": "code",
   "execution_count": 7,
   "id": "established-midnight",
   "metadata": {},
   "outputs": [
    {
     "name": "stdout",
     "output_type": "stream",
     "text": [
      "headlines    0\n",
      "text         0\n",
      "dtype: int64\n"
     ]
    }
   ],
   "source": [
    "print(data.isnull().sum()) #NULL값 확인"
   ]
  },
  {
   "cell_type": "code",
   "execution_count": 8,
   "id": "sorted-harrison",
   "metadata": {},
   "outputs": [
    {
     "name": "stdout",
     "output_type": "stream",
     "text": [
      "전체 샘플수 : 98360\n"
     ]
    }
   ],
   "source": [
    "data.dropna(axis = 0, inplace = True)\n",
    "print('전체 샘플수 :',(len(data))) #null값 제거"
   ]
  },
  {
   "cell_type": "markdown",
   "id": "considerable-immunology",
   "metadata": {},
   "source": [
    "### 텍스트 정규화와 불용어 제거"
   ]
  },
  {
   "cell_type": "code",
   "execution_count": 9,
   "id": "nasty-newspaper",
   "metadata": {},
   "outputs": [
    {
     "name": "stdout",
     "output_type": "stream",
     "text": [
      "정규화 사전의 수:  120\n"
     ]
    }
   ],
   "source": [
    "contractions = {\"ain't\": \"is not\", \"aren't\": \"are not\",\"can't\": \"cannot\", \"'cause\": \"because\", \"could've\": \"could have\", \"couldn't\": \"could not\",\n",
    "                           \"didn't\": \"did not\",  \"doesn't\": \"does not\", \"don't\": \"do not\", \"hadn't\": \"had not\", \"hasn't\": \"has not\", \"haven't\": \"have not\",\n",
    "                           \"he'd\": \"he would\",\"he'll\": \"he will\", \"he's\": \"he is\", \"how'd\": \"how did\", \"how'd'y\": \"how do you\", \"how'll\": \"how will\", \"how's\": \"how is\",\n",
    "                           \"I'd\": \"I would\", \"I'd've\": \"I would have\", \"I'll\": \"I will\", \"I'll've\": \"I will have\",\"I'm\": \"I am\", \"I've\": \"I have\", \"i'd\": \"i would\",\n",
    "                           \"i'd've\": \"i would have\", \"i'll\": \"i will\",  \"i'll've\": \"i will have\",\"i'm\": \"i am\", \"i've\": \"i have\", \"isn't\": \"is not\", \"it'd\": \"it would\",\n",
    "                           \"it'd've\": \"it would have\", \"it'll\": \"it will\", \"it'll've\": \"it will have\",\"it's\": \"it is\", \"let's\": \"let us\", \"ma'am\": \"madam\",\n",
    "                           \"mayn't\": \"may not\", \"might've\": \"might have\",\"mightn't\": \"might not\",\"mightn't've\": \"might not have\", \"must've\": \"must have\",\n",
    "                           \"mustn't\": \"must not\", \"mustn't've\": \"must not have\", \"needn't\": \"need not\", \"needn't've\": \"need not have\",\"o'clock\": \"of the clock\",\n",
    "                           \"oughtn't\": \"ought not\", \"oughtn't've\": \"ought not have\", \"shan't\": \"shall not\", \"sha'n't\": \"shall not\", \"shan't've\": \"shall not have\",\n",
    "                           \"she'd\": \"she would\", \"she'd've\": \"she would have\", \"she'll\": \"she will\", \"she'll've\": \"she will have\", \"she's\": \"she is\",\n",
    "                           \"should've\": \"should have\", \"shouldn't\": \"should not\", \"shouldn't've\": \"should not have\", \"so've\": \"so have\",\"so's\": \"so as\",\n",
    "                           \"this's\": \"this is\",\"that'd\": \"that would\", \"that'd've\": \"that would have\", \"that's\": \"that is\", \"there'd\": \"there would\",\n",
    "                           \"there'd've\": \"there would have\", \"there's\": \"there is\", \"here's\": \"here is\",\"they'd\": \"they would\", \"they'd've\": \"they would have\",\n",
    "                           \"they'll\": \"they will\", \"they'll've\": \"they will have\", \"they're\": \"they are\", \"they've\": \"they have\", \"to've\": \"to have\",\n",
    "                           \"wasn't\": \"was not\", \"we'd\": \"we would\", \"we'd've\": \"we would have\", \"we'll\": \"we will\", \"we'll've\": \"we will have\", \"we're\": \"we are\",\n",
    "                           \"we've\": \"we have\", \"weren't\": \"were not\", \"what'll\": \"what will\", \"what'll've\": \"what will have\", \"what're\": \"what are\",\n",
    "                           \"what's\": \"what is\", \"what've\": \"what have\", \"when's\": \"when is\", \"when've\": \"when have\", \"where'd\": \"where did\", \"where's\": \"where is\",\n",
    "                           \"where've\": \"where have\", \"who'll\": \"who will\", \"who'll've\": \"who will have\", \"who's\": \"who is\", \"who've\": \"who have\",\n",
    "                           \"why's\": \"why is\", \"why've\": \"why have\", \"will've\": \"will have\", \"won't\": \"will not\", \"won't've\": \"will not have\",\n",
    "                           \"would've\": \"would have\", \"wouldn't\": \"would not\", \"wouldn't've\": \"would not have\", \"y'all\": \"you all\",\n",
    "                           \"y'all'd\": \"you all would\",\"y'all'd've\": \"you all would have\",\"y'all're\": \"you all are\",\"y'all've\": \"you all have\",\n",
    "                           \"you'd\": \"you would\", \"you'd've\": \"you would have\", \"you'll\": \"you will\", \"you'll've\": \"you will have\",\n",
    "                           \"you're\": \"you are\", \"you've\": \"you have\"}\n",
    "\n",
    "print(\"정규화 사전의 수: \",len(contractions))"
   ]
  },
  {
   "cell_type": "code",
   "execution_count": 10,
   "id": "fantastic-disclosure",
   "metadata": {},
   "outputs": [
    {
     "name": "stdout",
     "output_type": "stream",
     "text": [
      "불용어 개수 : 179\n",
      "['i', 'me', 'my', 'myself', 'we', 'our', 'ours', 'ourselves', 'you', \"you're\", \"you've\", \"you'll\", \"you'd\", 'your', 'yours', 'yourself', 'yourselves', 'he', 'him', 'his', 'himself', 'she', \"she's\", 'her', 'hers', 'herself', 'it', \"it's\", 'its', 'itself', 'they', 'them', 'their', 'theirs', 'themselves', 'what', 'which', 'who', 'whom', 'this', 'that', \"that'll\", 'these', 'those', 'am', 'is', 'are', 'was', 'were', 'be', 'been', 'being', 'have', 'has', 'had', 'having', 'do', 'does', 'did', 'doing', 'a', 'an', 'the', 'and', 'but', 'if', 'or', 'because', 'as', 'until', 'while', 'of', 'at', 'by', 'for', 'with', 'about', 'against', 'between', 'into', 'through', 'during', 'before', 'after', 'above', 'below', 'to', 'from', 'up', 'down', 'in', 'out', 'on', 'off', 'over', 'under', 'again', 'further', 'then', 'once', 'here', 'there', 'when', 'where', 'why', 'how', 'all', 'any', 'both', 'each', 'few', 'more', 'most', 'other', 'some', 'such', 'no', 'nor', 'not', 'only', 'own', 'same', 'so', 'than', 'too', 'very', 's', 't', 'can', 'will', 'just', 'don', \"don't\", 'should', \"should've\", 'now', 'd', 'll', 'm', 'o', 're', 've', 'y', 'ain', 'aren', \"aren't\", 'couldn', \"couldn't\", 'didn', \"didn't\", 'doesn', \"doesn't\", 'hadn', \"hadn't\", 'hasn', \"hasn't\", 'haven', \"haven't\", 'isn', \"isn't\", 'ma', 'mightn', \"mightn't\", 'mustn', \"mustn't\", 'needn', \"needn't\", 'shan', \"shan't\", 'shouldn', \"shouldn't\", 'wasn', \"wasn't\", 'weren', \"weren't\", 'won', \"won't\", 'wouldn', \"wouldn't\"]\n"
     ]
    }
   ],
   "source": [
    "print('불용어 개수 :', len(stopwords.words('english') ))\n",
    "print(stopwords.words('english'))"
   ]
  },
  {
   "cell_type": "markdown",
   "id": "progressive-reality",
   "metadata": {},
   "source": [
    "함수의 하단을 보면, NLTK를 이용해 불용어를 제거하는 파트가 있는데, 이는 Text 전처리 시에서만 호출하고 이미 상대적으로 문장 길이가 짧은 Summary 전처리할 때는 호출하지 않을 예정이에요. Abstractive한 문장 요약 결과문이 자연스러운 문장이 되려면 이 불용어들이 Summary에는 남아 있는게 더 좋을 것 같습니다. 이 처리를 위해서 함수의 인자로 remove_stopwords를 추가하고, if문을 추가했어요."
   ]
  },
  {
   "cell_type": "code",
   "execution_count": 11,
   "id": "monetary-castle",
   "metadata": {},
   "outputs": [],
   "source": [
    "#데이터 전처리 함수\n",
    "def preprocess_sentence(sentence, remove_stopwords=True):\n",
    "    sentence = sentence.lower() # 텍스트 소문자화\n",
    "    sentence = BeautifulSoup(sentence, \"lxml\").text # <br />, <a href = ...> 등의 html 태그 제거\n",
    "    sentence = re.sub(r'\\([^)]*\\)', '', sentence) # 괄호로 닫힌 문자열 (...) 제거 Ex) my husband (and myself!) for => my husband for\n",
    "    sentence = re.sub('\"','', sentence) # 쌍따옴표 \" 제거\n",
    "    sentence = ' '.join([contractions[t] if t in contractions else t for t in sentence.split(\" \")]) # 약어 정규화\n",
    "    sentence = re.sub(r\"'s\\b\",\"\",sentence) # 소유격 제거. Ex) roland's -> roland\n",
    "    sentence = re.sub(\"[^a-zA-Z]\", \" \", sentence) # 영어 외 문자(숫자, 특수문자 등) 공백으로 변환\n",
    "    sentence = re.sub('[m]{2,}', 'mm', sentence) # m이 3개 이상이면 2개로 변경. Ex) ummmmmmm yeah -> umm yeah\n",
    "    \n",
    "    # 불용어 제거 (Text)\n",
    "    if remove_stopwords:\n",
    "        tokens = ' '.join(word for word in sentence.split() if not word in stopwords.words('english') if len(word) > 1)\n",
    "    # 불용어 미제거 (Summary)\n",
    "    else:\n",
    "        tokens = ' '.join(word for word in sentence.split() if len(word) > 1)\n",
    "    return tokens"
   ]
  },
  {
   "cell_type": "code",
   "execution_count": 12,
   "id": "flying-turtle",
   "metadata": {},
   "outputs": [
    {
     "name": "stdout",
     "output_type": "stream",
     "text": [
      "everything bought great infact ordered twice third ordered wasfor mother father\n",
      "great way to start the day\n"
     ]
    }
   ],
   "source": [
    "temp_text = 'Everything I bought was great, infact I ordered twice and the third ordered was<br />for my mother and father.'\n",
    "temp_headlines = 'Great way to start (or finish) the day!!!'\n",
    "\n",
    "print(preprocess_sentence(temp_text))\n",
    "print(preprocess_sentence(temp_headlines, False))  # 불용어를 제거하지 않습니다."
   ]
  },
  {
   "cell_type": "markdown",
   "id": "instrumental-crest",
   "metadata": {},
   "source": [
    "이제 함수가 잘 작동하는 것을 확인했으니, 훈련 데이터 전체에 대해서 전처리를 수행해볼게요. 이때, Text의 경우에는 불용어를 제거하고, Summary의 경우에는 불용어를 제거하지 않을 것이므로 따로 호출해서 진행해야해요. 먼저 Text를 전처리하고, 결과를 확인하기 위해서 상위 5개의 줄을 출력해볼게요.\n",
    "\n"
   ]
  },
  {
   "cell_type": "code",
   "execution_count": 13,
   "id": "authentic-aging",
   "metadata": {},
   "outputs": [
    {
     "data": {
      "text/plain": [
       "['upgrad learner switches career ml al salary hike',\n",
       " 'delhi techie wins free food swiggy one year cred',\n",
       " 'new zealand end rohit sharma led india match winning streak',\n",
       " 'aegon life iterm insurance plan helps customers save tax',\n",
       " 'known hirani yrs metoo claims true sonam']"
      ]
     },
     "execution_count": 13,
     "metadata": {},
     "output_type": "execute_result"
    }
   ],
   "source": [
    "clean_headlines = []\n",
    "\n",
    "for s in data['headlines']:\n",
    "    clean_headlines.append(preprocess_sentence(s))\n",
    "\n",
    "# 전처리 후 출력\n",
    "clean_headlines[:5]"
   ]
  },
  {
   "cell_type": "code",
   "execution_count": 14,
   "id": "patent-netscape",
   "metadata": {},
   "outputs": [
    {
     "data": {
      "text/plain": [
       "['saurav kant an alumnus of upgrad and iiit pg program in machine learning and artificial intelligence was sr systems engineer at infosys with almost years of work experience the program and upgrad degree career support helped him transition to data scientist at tech mahindra with salary hike upgrad online power learning has powered lakh careers',\n",
       " 'kunal shah credit card bill payment platform cred gave users chance to win free food from swiggy for one year pranav kaushik delhi techie bagged this reward after spending cred coins users get one cred coin per rupee of bill paid which can be used to avail rewards from brands like ixigo bookmyshow ubereats cult fit and more',\n",
       " 'new zealand defeated india by wickets in the fourth odi at hamilton on thursday to win their first match of the five match odi series india lost an international match under rohit sharma captaincy after consecutive victories dating back to march the match witnessed india getting all out for their seventh lowest total in odi cricket history',\n",
       " 'with aegon life iterm insurance plan customers can enjoy tax benefits on your premiums paid and save up to on taxes the plan provides life cover up to the age of years also customers have options to insure against critical illnesses disability and accidental death benefit rider with life cover up to the age of years',\n",
       " 'speaking about the sexual harassment allegations against rajkumar hirani sonam kapoor said have known hirani for many years what if it is not true the metoo movement will get derailed in the metoo movement always believe woman but in this case we need to reserve our judgment she added hirani has been accused by an assistant who worked in sanju']"
      ]
     },
     "execution_count": 14,
     "metadata": {},
     "output_type": "execute_result"
    }
   ],
   "source": [
    "clean_text = []\n",
    "for s in data['text']:\n",
    "    clean_text.append(preprocess_sentence(s, False))\n",
    "clean_text[:5]"
   ]
  },
  {
   "cell_type": "markdown",
   "id": "specialized-hunter",
   "metadata": {},
   "source": [
    "이렇게 텍스트 정제의 과정을 거친 후에는 다시 한번 빈(empty) 샘플이 생겼는지 확인해보는 것이 좋아요. 정제 전에는 데이터가 존재했지만, 정제 과정에서 문장의 모든 단어가 사라지는 경우가 있을 수 있어요. 이렇게 되면 샘플 자체가 빈 값을 가지게 되겠죠."
   ]
  },
  {
   "cell_type": "code",
   "execution_count": 15,
   "id": "entitled-alfred",
   "metadata": {},
   "outputs": [],
   "source": [
    "data['headlines'] = clean_headlines\n",
    "data['text'] = clean_text\n",
    "\n",
    "# 빈 값을 Null 값으로 변환\n",
    "data.replace('', np.nan, inplace=True)"
   ]
  },
  {
   "cell_type": "code",
   "execution_count": 16,
   "id": "known-creation",
   "metadata": {},
   "outputs": [
    {
     "data": {
      "text/plain": [
       "headlines    0\n",
       "text         0\n",
       "dtype: int64"
      ]
     },
     "execution_count": 16,
     "metadata": {},
     "output_type": "execute_result"
    }
   ],
   "source": [
    "data.isnull().sum()"
   ]
  },
  {
   "cell_type": "code",
   "execution_count": 17,
   "id": "worth-missile",
   "metadata": {},
   "outputs": [
    {
     "name": "stdout",
     "output_type": "stream",
     "text": [
      "전체 샘플수 : 98360\n"
     ]
    }
   ],
   "source": [
    "data.dropna(axis=0, inplace=True)\n",
    "print('전체 샘플수 :',(len(data)))#데이터 전처리 후에 생긴 공백들을 제거해줍니다"
   ]
  },
  {
   "cell_type": "markdown",
   "id": "theoretical-disorder",
   "metadata": {},
   "source": [
    "# 데이터 전처리하기 (2) 훈련데이터와 테스트데이터 나누기"
   ]
  },
  {
   "cell_type": "code",
   "execution_count": 18,
   "id": "ready-alcohol",
   "metadata": {},
   "outputs": [
    {
     "name": "stdout",
     "output_type": "stream",
     "text": [
      "텍스트의 최소 길이 : 1\n",
      "텍스트의 최대 길이 : 69\n",
      "텍스트의 평균 길이 : 56.180195201301345\n",
      "요약의 최소 길이 : 1\n",
      "요약의 최대 길이 : 13\n",
      "요약의 평균 길이 : 7.136183407889386\n"
     ]
    },
    {
     "data": {
      "image/png": "[encoded data removed]",
      "text/plain": [
       "<Figure size 432x288 with 2 Axes>"
      ]
     },
     "metadata": {
      "needs_background": "light"
     },
     "output_type": "display_data"
    },
    {
     "data": {
      "image/png": "[encoded data removed]",
      "text/plain": [
       "<Figure size 432x288 with 1 Axes>"
      ]
     },
     "metadata": {
      "needs_background": "light"
     },
     "output_type": "display_data"
    },
    {
     "data": {
      "image/png": "[encoded data removed]",
      "text/plain": [
       "<Figure size 432x288 with 1 Axes>"
      ]
     },
     "metadata": {
      "needs_background": "light"
     },
     "output_type": "display_data"
    }
   ],
   "source": [
    "# 길이 분포 출력\n",
    "import matplotlib.pyplot as plt\n",
    "\n",
    "text_len = [len(s.split()) for s in data['text']]\n",
    "headlines_len = [len(s.split()) for s in data['headlines']]\n",
    "\n",
    "print('텍스트의 최소 길이 : {}'.format(np.min(text_len)))\n",
    "print('텍스트의 최대 길이 : {}'.format(np.max(text_len)))\n",
    "print('텍스트의 평균 길이 : {}'.format(np.mean(text_len)))\n",
    "print('요약의 최소 길이 : {}'.format(np.min(headlines_len)))\n",
    "print('요약의 최대 길이 : {}'.format(np.max(headlines_len)))\n",
    "print('요약의 평균 길이 : {}'.format(np.mean(headlines_len)))\n",
    "\n",
    "plt.subplot(1,2,1)\n",
    "plt.boxplot(text_len)\n",
    "plt.title('text')\n",
    "plt.subplot(1,2,2)\n",
    "plt.boxplot(headlines_len)\n",
    "plt.title('headlines')\n",
    "plt.tight_layout()\n",
    "plt.show()\n",
    "\n",
    "plt.title('text')\n",
    "plt.hist(text_len, bins = 40)\n",
    "plt.xlabel('length of samples')\n",
    "plt.ylabel('number of samples')\n",
    "plt.show()\n",
    "\n",
    "plt.title('headlines')\n",
    "plt.hist(headlines_len, bins = 40)\n",
    "plt.xlabel('length of samples')\n",
    "plt.ylabel('number of samples')\n",
    "plt.show()"
   ]
  },
  {
   "cell_type": "markdown",
   "id": "faced-knife",
   "metadata": {},
   "source": [
    "위의 그래프처럼, 많은 양의 데이터를 다룰때는 데이터를 시각화하여 보는 것이 도움이 돼요. 위에서 부터 차례대로 그래프는 각각 요약과 실제 텍스트의 길이 분포, 요약본 샘플 길이별 갯수, 실제 텍스트 샘플 길이별 갯수를 나타내고 있어요."
   ]
  },
  {
   "cell_type": "code",
   "execution_count": 19,
   "id": "amazing-yorkshire",
   "metadata": {},
   "outputs": [],
   "source": [
    "text_max_len = 80\n",
    "headlines_max_len = 8\n",
    "# Text의 최대 길이와 Summary의 적절한 최대 길이를 임의로 정해둡니다."
   ]
  },
  {
   "cell_type": "markdown",
   "id": "local-prevention",
   "metadata": {},
   "source": [
    "각각 50과 8로 정했는데 이 길이를 선택했을 때, 얼마나 많은 샘플들을 자르지 않고 포함할 수 있는지 통계로 확인하는 편이 객관적으로 길이를 결정하는데 도움이 될거에요. 훈련 데이터와 샘플의 길이를 입력하면, 데이터의 몇 %가 해당하는지 계산하는 함수를 만들어서 좀 더 정확하게 판단해볼게요."
   ]
  },
  {
   "cell_type": "code",
   "execution_count": 20,
   "id": "supported-evening",
   "metadata": {},
   "outputs": [],
   "source": [
    "def below_threshold_len(max_len, nested_list):\n",
    "  cnt = 0\n",
    "  for s in nested_list:\n",
    "    if(len(s.split()) <= max_len):\n",
    "        cnt = cnt + 1\n",
    "  print('전체 샘플 중 길이가 %s 이하인 샘플의 비율: %s'%(max_len, (cnt / len(nested_list))))"
   ]
  },
  {
   "cell_type": "code",
   "execution_count": 21,
   "id": "indie-planning",
   "metadata": {},
   "outputs": [
    {
     "name": "stdout",
     "output_type": "stream",
     "text": [
      "전체 샘플 중 길이가 80 이하인 샘플의 비율: 1.0\n",
      "전체 샘플 중 길이가 8 이하인 샘플의 비율: 0.8925782838552258\n"
     ]
    }
   ],
   "source": [
    "below_threshold_len(text_max_len, data['text'])\n",
    "below_threshold_len(headlines_max_len,  data['headlines'])"
   ]
  },
  {
   "cell_type": "markdown",
   "id": "sensitive-bulgaria",
   "metadata": {},
   "source": [
    "각각 50과 8로 패딩을 하게되면 해당 길이보다 긴 샘플들은 내용이 잘리게 되는데, Text 열의 경우에는 약 23%의 샘플들이 내용이 망가지게 된다고 하네요.\n",
    "\n",
    "우리는 정해진 길이에 맞춰 자르는 것이 아니라, 정해진 길이보다 길면 제외하는 방법으로 데이터를 정제할게요."
   ]
  },
  {
   "cell_type": "code",
   "execution_count": 22,
   "id": "political-pacific",
   "metadata": {},
   "outputs": [
    {
     "name": "stdout",
     "output_type": "stream",
     "text": [
      "전체 샘플수 : 87794\n"
     ]
    }
   ],
   "source": [
    "data = data[data['text'].apply(lambda x: len(x.split()) <= text_max_len)]\n",
    "data = data[data['headlines'].apply(lambda x: len(x.split()) <= headlines_max_len)]\n",
    "print('전체 샘플수 :',(len(data)))"
   ]
  },
  {
   "cell_type": "markdown",
   "id": "super-jungle",
   "metadata": {},
   "source": [
    "## 시작 토큰과 종료 토큰 추가하기"
   ]
  },
  {
   "cell_type": "code",
   "execution_count": 23,
   "id": "nuclear-insulation",
   "metadata": {},
   "outputs": [
    {
     "data": {
      "text/html": [
       "<div>\n",
       "<style scoped>\n",
       "    .dataframe tbody tr th:only-of-type {\n",
       "        vertical-align: middle;\n",
       "    }\n",
       "\n",
       "    .dataframe tbody tr th {\n",
       "        vertical-align: top;\n",
       "    }\n",
       "\n",
       "    .dataframe thead th {\n",
       "        text-align: right;\n",
       "    }\n",
       "</style>\n",
       "<table border=\"1\" class=\"dataframe\">\n",
       "  <thead>\n",
       "    <tr style=\"text-align: right;\">\n",
       "      <th></th>\n",
       "      <th>headlines</th>\n",
       "      <th>text</th>\n",
       "      <th>decoder_input</th>\n",
       "      <th>decoder_target</th>\n",
       "    </tr>\n",
       "  </thead>\n",
       "  <tbody>\n",
       "    <tr>\n",
       "      <th>0</th>\n",
       "      <td>upgrad learner switches career ml al salary hike</td>\n",
       "      <td>saurav kant an alumnus of upgrad and iiit pg p...</td>\n",
       "      <td>sostoken upgrad learner switches career ml al ...</td>\n",
       "      <td>upgrad learner switches career ml al salary hi...</td>\n",
       "    </tr>\n",
       "    <tr>\n",
       "      <th>4</th>\n",
       "      <td>known hirani yrs metoo claims true sonam</td>\n",
       "      <td>speaking about the sexual harassment allegatio...</td>\n",
       "      <td>sostoken known hirani yrs metoo claims true sonam</td>\n",
       "      <td>known hirani yrs metoo claims true sonam eostoken</td>\n",
       "    </tr>\n",
       "    <tr>\n",
       "      <th>6</th>\n",
       "      <td>india get lowest odi total new zealand</td>\n",
       "      <td>india recorded their lowest odi total in new z...</td>\n",
       "      <td>sostoken india get lowest odi total new zealand</td>\n",
       "      <td>india get lowest odi total new zealand eostoken</td>\n",
       "    </tr>\n",
       "    <tr>\n",
       "      <th>7</th>\n",
       "      <td>govt directs alok verma join work day retirement</td>\n",
       "      <td>weeks after ex cbi director alok verma told th...</td>\n",
       "      <td>sostoken govt directs alok verma join work day...</td>\n",
       "      <td>govt directs alok verma join work day retireme...</td>\n",
       "    </tr>\n",
       "    <tr>\n",
       "      <th>9</th>\n",
       "      <td>cong wins ramgarh bypoll rajasthan takes total...</td>\n",
       "      <td>congress candidate shafia zubair won the ramga...</td>\n",
       "      <td>sostoken cong wins ramgarh bypoll rajasthan ta...</td>\n",
       "      <td>cong wins ramgarh bypoll rajasthan takes total...</td>\n",
       "    </tr>\n",
       "  </tbody>\n",
       "</table>\n",
       "</div>"
      ],
      "text/plain": [
       "                                           headlines  \\\n",
       "0   upgrad learner switches career ml al salary hike   \n",
       "4           known hirani yrs metoo claims true sonam   \n",
       "6             india get lowest odi total new zealand   \n",
       "7   govt directs alok verma join work day retirement   \n",
       "9  cong wins ramgarh bypoll rajasthan takes total...   \n",
       "\n",
       "                                                text  \\\n",
       "0  saurav kant an alumnus of upgrad and iiit pg p...   \n",
       "4  speaking about the sexual harassment allegatio...   \n",
       "6  india recorded their lowest odi total in new z...   \n",
       "7  weeks after ex cbi director alok verma told th...   \n",
       "9  congress candidate shafia zubair won the ramga...   \n",
       "\n",
       "                                       decoder_input  \\\n",
       "0  sostoken upgrad learner switches career ml al ...   \n",
       "4  sostoken known hirani yrs metoo claims true sonam   \n",
       "6    sostoken india get lowest odi total new zealand   \n",
       "7  sostoken govt directs alok verma join work day...   \n",
       "9  sostoken cong wins ramgarh bypoll rajasthan ta...   \n",
       "\n",
       "                                      decoder_target  \n",
       "0  upgrad learner switches career ml al salary hi...  \n",
       "4  known hirani yrs metoo claims true sonam eostoken  \n",
       "6    india get lowest odi total new zealand eostoken  \n",
       "7  govt directs alok verma join work day retireme...  \n",
       "9  cong wins ramgarh bypoll rajasthan takes total...  "
      ]
     },
     "execution_count": 23,
     "metadata": {},
     "output_type": "execute_result"
    }
   ],
   "source": [
    "#요약 데이터에는 시작 토큰과 종료 토큰을 추가한다.\n",
    "data['decoder_input'] = data['headlines'].apply(lambda x : 'sostoken '+ x)\n",
    "data['decoder_target'] = data['headlines'].apply(lambda x : x + ' eostoken')\n",
    "data.head()"
   ]
  },
  {
   "cell_type": "code",
   "execution_count": 24,
   "id": "atlantic-affairs",
   "metadata": {},
   "outputs": [],
   "source": [
    "encoder_input = np.array(data['text']) # 인코더의 입력\n",
    "decoder_input = np.array(data['decoder_input']) # 디코더의 입력\n",
    "decoder_target = np.array(data['decoder_target']) # 디코더의 레이블\n",
    "#앞뒤로 토큰이 잘 붙었죠? 인코더의 입력, 디코더의 입력과 레이블을 각각 다시 Numpy 타입으로 저장해줄게요."
   ]
  },
  {
   "cell_type": "markdown",
   "id": "appreciated-hypothetical",
   "metadata": {},
   "source": [
    "이제 훈련 데이터와 테스트 데이터를 분리할거에요.\n",
    "\n",
    "훈련 데이터와 테스트 데이터를 분리하는 방법은 분리 패키지를 사용하는 방법, 또는 직접 코딩을 통해서 분리하는 방법 등 여러가지 방법이 있을텐데 여기서는 직접 해볼게요. 우선, encoder_input과 크기와 형태가 같은 순서가 섞인 정수 시퀀스를 만들어줄게요."
   ]
  },
  {
   "cell_type": "code",
   "execution_count": 25,
   "id": "aggregate-tunnel",
   "metadata": {},
   "outputs": [
    {
     "name": "stdout",
     "output_type": "stream",
     "text": [
      "[71371  4039  3494 ... 29112 52623 15527]\n"
     ]
    }
   ],
   "source": [
    "indices = np.arange(encoder_input.shape[0])\n",
    "np.random.shuffle(indices)\n",
    "print(indices)"
   ]
  },
  {
   "cell_type": "code",
   "execution_count": 26,
   "id": "advanced-namibia",
   "metadata": {},
   "outputs": [],
   "source": [
    "encoder_input = encoder_input[indices]\n",
    "decoder_input = decoder_input[indices]\n",
    "decoder_target = decoder_target[indices]\n",
    "#이 정수 시퀀스를 이용해 다시 데이터의 샘플 순서를 정의해주면 잘 섞인 샘플이 되겠죠."
   ]
  },
  {
   "cell_type": "code",
   "execution_count": 27,
   "id": "raised-information",
   "metadata": {},
   "outputs": [
    {
     "name": "stdout",
     "output_type": "stream",
     "text": [
      "테스트 데이터의 수 : 17558\n"
     ]
    }
   ],
   "source": [
    "n_of_val = int(len(encoder_input)*0.2)\n",
    "print('테스트 데이터의 수 :',n_of_val)\n",
    "#이제 섞인 데이터를 8:2의 비율로 훈련 데이터와 테스트 데이터로 분리해줄게요. 전체 데이터의 크기에서 0.2를 곱해서 테스트 데이터의 크기를 정의해줄게요."
   ]
  },
  {
   "cell_type": "code",
   "execution_count": 28,
   "id": "related-projection",
   "metadata": {},
   "outputs": [
    {
     "name": "stdout",
     "output_type": "stream",
     "text": [
      "훈련 데이터의 개수 : 70236\n",
      "훈련 레이블의 개수 : 70236\n",
      "테스트 데이터의 개수 : 17558\n",
      "테스트 레이블의 개수 : 17558\n"
     ]
    }
   ],
   "source": [
    "#이렇게 정의한 테스트 데이터의 갯수를 이용해 전체 데이터를 양분할게요. :표시의 위치에 주의해주세요.\n",
    "encoder_input_train = encoder_input[:-n_of_val]\n",
    "decoder_input_train = decoder_input[:-n_of_val]\n",
    "decoder_target_train = decoder_target[:-n_of_val]\n",
    "\n",
    "encoder_input_test = encoder_input[-n_of_val:]\n",
    "decoder_input_test = decoder_input[-n_of_val:]\n",
    "decoder_target_test = decoder_target[-n_of_val:]\n",
    "\n",
    "print('훈련 데이터의 개수 :', len(encoder_input_train))\n",
    "print('훈련 레이블의 개수 :',len(decoder_input_train))\n",
    "print('테스트 데이터의 개수 :',len(encoder_input_test))\n",
    "print('테스트 레이블의 개수 :',len(decoder_input_test))"
   ]
  },
  {
   "cell_type": "markdown",
   "id": "amber-generation",
   "metadata": {},
   "source": [
    "# 데이터 전처리하기 (3) 정수 인코딩\n"
   ]
  },
  {
   "cell_type": "markdown",
   "id": "noted-memorial",
   "metadata": {},
   "source": [
    "## 단어 집합(vocaburary) 만들기 및 정수 인코딩\n",
    "이제 기계가 텍스트를 숫자로 처리할 수 있도록 훈련 데이터와 테스트 데이터의 단어들을 모두 정수로 바꾸어 주어야 해요. 이를 위해서는 각 단어에 고유한 정수를 맵핑하는 작업이 필요해요. 이 과정을 단어 집합(vocaburary)을 만든다고 표현해요. 훈련 데이터에 대해서 단어 집합을 만들어볼게요. 우선, 원문에 해당되는 encoder_input_train에 대해서 단어 집합을 만들게요.\n",
    "\n",
    "Keras의 토크나이저를 사용하면, 입력된 훈련 데이터로부터 단어 집합을 만들 수 있어요.\n",
    "\n"
   ]
  },
  {
   "cell_type": "code",
   "execution_count": 29,
   "id": "resistant-balance",
   "metadata": {},
   "outputs": [],
   "source": [
    "src_tokenizer = Tokenizer() # 토크나이저 정의\n",
    "src_tokenizer.fit_on_texts(encoder_input_train) # 입력된 데이터로부터 단어 집합 생성"
   ]
  },
  {
   "cell_type": "markdown",
   "id": "looking-generation",
   "metadata": {},
   "source": [
    "이제 단어 집합이 생성되는 동시에 각 단어에 고유한 정수가 부여되었어요. 현재 생성된 단어 집합은 src_tokenizer.word_index에 저장되어있어요. 그런데 우리는 이렇게 만든 단어 집합에 있는 모든 단어를 사용하는 것이 아니라, 빈도수가 낮은 단어들은 훈련 데이터에서 제외하고 진행하려고 해요.\n",
    "\n",
    "등장 빈도수가 7회 미만인 단어들이 이 데이터에서 얼만큼의 비중을 차지하는지 확인해볼게요.\n",
    "\n",
    "src_tokenizer.word_counts.items()에는 단어와 각 단어의 등장 빈도수가 저장되어져 있는데, 이를 통해서 통계적인 정보를 얻을 수 있어요."
   ]
  },
  {
   "cell_type": "code",
   "execution_count": 30,
   "id": "classified-banking",
   "metadata": {},
   "outputs": [
    {
     "name": "stdout",
     "output_type": "stream",
     "text": [
      "단어 집합(vocabulary)의 크기 : 66416\n",
      "등장 빈도가 6번 이하인 희귀 단어의 수: 45277\n",
      "단어 집합에서 희귀 단어를 제외시킬 경우의 단어 집합의 크기 21139\n",
      "단어 집합에서 희귀 단어의 비율: 68.1718260660082\n",
      "전체 등장 빈도에서 희귀 단어 등장 빈도 비율: 2.3294046837271285\n"
     ]
    }
   ],
   "source": [
    "threshold = 7\n",
    "total_cnt = len(src_tokenizer.word_index) # 단어의 수\n",
    "rare_cnt = 0 # 등장 빈도수가 threshold보다 작은 단어의 개수를 카운트\n",
    "total_freq = 0 # 훈련 데이터의 전체 단어 빈도수 총 합\n",
    "rare_freq = 0 # 등장 빈도수가 threshold보다 작은 단어의 등장 빈도수의 총 합\n",
    "\n",
    "# 단어와 빈도수의 쌍(pair)을 key와 value로 받는다.\n",
    "for key, value in src_tokenizer.word_counts.items():\n",
    "    total_freq = total_freq + value\n",
    "\n",
    "    # 단어의 등장 빈도수가 threshold보다 작으면\n",
    "    if(value < threshold):\n",
    "        rare_cnt = rare_cnt + 1\n",
    "        rare_freq = rare_freq + value\n",
    "\n",
    "print('단어 집합(vocabulary)의 크기 :',total_cnt)\n",
    "print('등장 빈도가 %s번 이하인 희귀 단어의 수: %s'%(threshold - 1, rare_cnt))\n",
    "print('단어 집합에서 희귀 단어를 제외시킬 경우의 단어 집합의 크기 %s'%(total_cnt - rare_cnt))\n",
    "print(\"단어 집합에서 희귀 단어의 비율:\", (rare_cnt / total_cnt)*100)\n",
    "print(\"전체 등장 빈도에서 희귀 단어 등장 빈도 비율:\", (rare_freq / total_freq)*100)"
   ]
  },
  {
   "cell_type": "markdown",
   "id": "located-profession",
   "metadata": {},
   "source": [
    "등장 빈도가 threshold 값인 7회 미만, 즉, 6회 이하인 단어들은 단어 집합에서 무려 70% 이상을 차지하네요. 하지만, 실제로 훈련 데이터에서 등장 빈도로 차지하는 비중은 상대적으로 적은 수치인 3.39%밖에 되지 않아요.\n",
    "\n",
    "그래서 등장 빈도가 6회 이하인 단어들은 정수 인코딩 과정에서 빼고, 훈련 데이터에서 제거하고자 합니다. 위에서 이를 제외한 단어 집합의 크기를 8,233으로 계산했는데, 이와 비슷한 값으로 어림잡아 단어 집합의 크기를 8000으로 제한해볼게요. 토크나이저를 정의할 때 num_words의 값을 정해주면, 단어 집합의 크기를 제한할 수 있어요."
   ]
  },
  {
   "cell_type": "code",
   "execution_count": 31,
   "id": "accessible-athletics",
   "metadata": {},
   "outputs": [],
   "source": [
    "src_vocab = 8000\n",
    "src_tokenizer = Tokenizer(num_words = src_vocab) # 단어 집합의 크기를 8,000으로 제한\n",
    "src_tokenizer.fit_on_texts(encoder_input_train) # 단어 집합 재생성."
   ]
  },
  {
   "cell_type": "markdown",
   "id": "latter-defense",
   "metadata": {},
   "source": [
    "texts_to_sequences()는 생성된 단어 집합에 기반하여 입력으로 주어진 텍스트 데이터의 단어들을 모두 정수로 변환하는 정수 인코딩을 수행해요. 현재 단어 집합의 크기를 8,000으로 제한했으니까 이제 8,000이 넘는 숫자들은 정수 인코딩 후에는 데이터에 존재하지 않아요."
   ]
  },
  {
   "cell_type": "code",
   "execution_count": 32,
   "id": "bulgarian-trade",
   "metadata": {},
   "outputs": [
    {
     "name": "stdout",
     "output_type": "stream",
     "text": [
      "[[728, 189, 4, 1364, 353, 11, 1947, 5, 5857, 14, 2459, 4, 303, 6, 499, 3, 247, 126, 6, 124, 1, 189, 11, 2006, 18, 543, 991, 65, 1, 165, 4, 303, 1655, 15, 5, 6260, 1, 499, 5, 1104, 1, 189, 83, 5790, 26, 32, 117, 3, 1121, 15, 1, 293], [6, 75, 132, 14, 1220, 6, 209, 50, 339, 15, 1320, 219, 955, 901, 106, 9, 1718, 58, 812, 3185, 291, 658, 4533, 8, 182, 1421, 6, 113, 600, 12, 479, 2, 1649, 16, 1320, 28, 20, 24, 251, 245, 3, 7, 1028, 15, 901, 3, 402, 5, 2801], [229, 706, 1434, 110, 14, 207, 862, 2, 178, 617, 3, 1, 83, 171, 152, 239, 6, 125, 229, 706, 7843, 7055, 578, 17, 203, 152, 681, 1092, 44, 942, 15, 2042, 4, 3, 1, 152, 3, 1, 152, 229, 706, 7056, 445, 17, 627, 420, 152, 1275, 5657, 21, 479, 624, 85, 180]]\n"
     ]
    }
   ],
   "source": [
    "# 텍스트 시퀀스를 정수 시퀀스로 변환\n",
    "encoder_input_train = src_tokenizer.texts_to_sequences(encoder_input_train) \n",
    "encoder_input_test = src_tokenizer.texts_to_sequences(encoder_input_test)\n",
    "\n",
    "#잘 진행되었는지 샘플 출력\n",
    "print(encoder_input_train[:3])"
   ]
  },
  {
   "cell_type": "markdown",
   "id": "essential-translation",
   "metadata": {},
   "source": [
    "이제 더 이상 텍스트 데이터가 아니라 정수가 나오고 있어요.\n",
    "\n",
    "Summary 데이터에 대해서도 동일한 작업을 수행할게요. 케라스의 토크나이저를 사용하여 decoder_input_train을 입력으로 전체 단어 집합과 각 단어에 대한 빈도수를 계산해요.\n",
    "\n"
   ]
  },
  {
   "cell_type": "code",
   "execution_count": 33,
   "id": "adopted-pasta",
   "metadata": {},
   "outputs": [],
   "source": [
    "tar_tokenizer = Tokenizer()\n",
    "tar_tokenizer.fit_on_texts(decoder_input_train)"
   ]
  },
  {
   "cell_type": "code",
   "execution_count": 34,
   "id": "uniform-indonesian",
   "metadata": {},
   "outputs": [
    {
     "name": "stdout",
     "output_type": "stream",
     "text": [
      "단어 집합(vocabulary)의 크기 : 28513\n",
      "등장 빈도가 5번 이하인 희귀 단어의 수: 18858\n",
      "단어 집합에서 희귀 단어를 제외시킬 경우의 단어 집합의 크기 9655\n",
      "단어 집합에서 희귀 단어의 비율: 66.13825272682637\n",
      "전체 등장 빈도에서 희귀 단어 등장 빈도 비율: 6.531075526105896\n"
     ]
    }
   ],
   "source": [
    "threshold = 6\n",
    "total_cnt = len(tar_tokenizer.word_index) # 단어의 수\n",
    "rare_cnt = 0 # 등장 빈도수가 threshold보다 작은 단어의 개수를 카운트\n",
    "total_freq = 0 # 훈련 데이터의 전체 단어 빈도수 총 합\n",
    "rare_freq = 0 # 등장 빈도수가 threshold보다 작은 단어의 등장 빈도수의 총 합\n",
    "\n",
    "# 단어와 빈도수의 쌍(pair)을 key와 value로 받는다.\n",
    "for key, value in tar_tokenizer.word_counts.items():\n",
    "    total_freq = total_freq + value\n",
    "\n",
    "    # 단어의 등장 빈도수가 threshold보다 작으면\n",
    "    if(value < threshold):\n",
    "        rare_cnt = rare_cnt + 1\n",
    "        rare_freq = rare_freq + value\n",
    "\n",
    "print('단어 집합(vocabulary)의 크기 :',total_cnt)\n",
    "print('등장 빈도가 %s번 이하인 희귀 단어의 수: %s'%(threshold - 1, rare_cnt))\n",
    "print('단어 집합에서 희귀 단어를 제외시킬 경우의 단어 집합의 크기 %s'%(total_cnt - rare_cnt))\n",
    "print(\"단어 집합에서 희귀 단어의 비율:\", (rare_cnt / total_cnt)*100)\n",
    "print(\"전체 등장 빈도에서 희귀 단어 등장 빈도 비율:\", (rare_freq / total_freq)*100)"
   ]
  },
  {
   "cell_type": "code",
   "execution_count": 35,
   "id": "mounted-scott",
   "metadata": {},
   "outputs": [
    {
     "name": "stdout",
     "output_type": "stream",
     "text": [
      "input\n",
      "input  [[1, 156, 913, 143, 129], [1, 286, 241, 322, 499], [1, 312, 976, 472, 49, 127, 721, 56, 238], [1, 260, 701, 146, 149, 261, 1816], [1, 436, 47, 383, 303, 1938, 767, 149]]\n",
      "target\n",
      "decoder  [[156, 913, 143, 129, 2], [286, 241, 322, 499, 2], [312, 976, 472, 49, 127, 721, 56, 238, 2], [260, 701, 146, 149, 261, 1816, 2], [436, 47, 383, 303, 1938, 767, 149, 2]]\n"
     ]
    }
   ],
   "source": [
    "tar_vocab = 2000\n",
    "tar_tokenizer = Tokenizer(num_words = tar_vocab) \n",
    "tar_tokenizer.fit_on_texts(decoder_input_train)\n",
    "tar_tokenizer.fit_on_texts(decoder_target_train)\n",
    "\n",
    "# 텍스트 시퀀스를 정수 시퀀스로 변환\n",
    "decoder_input_train = tar_tokenizer.texts_to_sequences(decoder_input_train) \n",
    "decoder_target_train = tar_tokenizer.texts_to_sequences(decoder_target_train)\n",
    "decoder_input_test = tar_tokenizer.texts_to_sequences(decoder_input_test)\n",
    "decoder_target_test = tar_tokenizer.texts_to_sequences(decoder_target_test)\n",
    "\n",
    "#잘 변환되었는지 확인\n",
    "print('input')\n",
    "print('input ',decoder_input_train[:5])\n",
    "print('target')\n",
    "print('decoder ',decoder_target_train[:5])"
   ]
  },
  {
   "cell_type": "markdown",
   "id": "supreme-somewhere",
   "metadata": {},
   "source": [
    "정상적으로 정수 인코딩 작업이 끝났어요. 현재 decoder_input_train과 decoder_target_train에는 더 이상 숫자 2,000이 넘는 숫자들은 존재하지 않아요. 그런데 다음 작업인 패딩하기로 넘어가기 전에 한 가지 점검해야할 것이 있어요.\n",
    "\n",
    "전체 데이터에서 빈도수가 낮은 단어가 삭제되었다는 것은 빈도수가 낮은 단어만으로 구성되었던 샘플들은 이제 빈(empty) 샘플이 되었을 가능성이 있어요. 이 현상은 길이가 상대적으로 길었던 원문(Text)의 경우에는 문제가 별로 없겠지만, 애초에 평균 길이가 4밖에 되지 않았던 요약문(Summary)의 경우에는 이 현상이 굉장히 두드러졌을 가능성이 높겠죠.\n",
    "\n",
    "요약문에서 길이가 0이 된 샘플들의 인덱스를 받아와볼게요. 여기서 주의할 점은 요약문인 decoder_input에는 sostoken 또는 decoder_target에는 eostoken이 추가된 상태이고, 이 두 토큰은 모든 샘플에서 등장하므로 빈도수가 샘플수와 동일하게 매우 높으므로 단어 집합 제한에도 삭제 되지 않아요. 그래서 이제 길이가 0이 된 요약문의 실제길이는 1로 나올거에요. 길이 0이 된 decoder_input에는 sostoken, decoder_target에는 eostoken만 남아 있을테니까요.\n",
    "\n",
    "훈련 데이터와 테스트 데이터에 대해서 요약문의 길이가 1인 경우의 인덱스를 각각 drop_train과 drop_test에 라는 변수에 저장해볼게요. 이 샘플들은 모두 삭제할거에요."
   ]
  },
  {
   "cell_type": "code",
   "execution_count": 36,
   "id": "pacific-ghost",
   "metadata": {},
   "outputs": [
    {
     "name": "stdout",
     "output_type": "stream",
     "text": [
      "삭제할 훈련 데이터의 개수 : 236\n",
      "삭제할 테스트 데이터의 개수 : 60\n",
      "훈련 데이터의 개수 : 70000\n",
      "훈련 레이블의 개수 : 70000\n",
      "테스트 데이터의 개수 : 17498\n",
      "테스트 레이블의 개수 : 17498\n"
     ]
    },
    {
     "name": "stderr",
     "output_type": "stream",
     "text": [
      "/home/aiffel-dj57/anaconda3/envs/aiffel/lib/python3.7/site-packages/numpy/core/_asarray.py:83: VisibleDeprecationWarning: Creating an ndarray from ragged nested sequences (which is a list-or-tuple of lists-or-tuples-or ndarrays with different lengths or shapes) is deprecated. If you meant to do this, you must specify 'dtype=object' when creating the ndarray\n",
      "  return array(a, dtype, copy=False, order=order)\n"
     ]
    }
   ],
   "source": [
    "drop_train = [index for index, sentence in enumerate(decoder_input_train) if len(sentence) == 1]\n",
    "drop_test = [index for index, sentence in enumerate(decoder_input_test) if len(sentence) == 1]\n",
    "\n",
    "print('삭제할 훈련 데이터의 개수 :',len(drop_train))\n",
    "print('삭제할 테스트 데이터의 개수 :',len(drop_test))\n",
    "\n",
    "encoder_input_train = np.delete(encoder_input_train, drop_train, axis=0)\n",
    "decoder_input_train = np.delete(decoder_input_train, drop_train, axis=0)\n",
    "decoder_target_train = np.delete(decoder_target_train, drop_train, axis=0)\n",
    "\n",
    "encoder_input_test = np.delete(encoder_input_test, drop_test, axis=0)\n",
    "decoder_input_test = np.delete(decoder_input_test, drop_test, axis=0)\n",
    "decoder_target_test = np.delete(decoder_target_test, drop_test, axis=0)\n",
    "\n",
    "print('훈련 데이터의 개수 :', len(encoder_input_train))\n",
    "print('훈련 레이블의 개수 :',len(decoder_input_train))\n",
    "print('테스트 데이터의 개수 :',len(encoder_input_test))\n",
    "print('테스트 레이블의 개수 :',len(decoder_input_test))"
   ]
  },
  {
   "cell_type": "markdown",
   "id": "thrown-huntington",
   "metadata": {},
   "source": [
    "## 패딩하기\n",
    "\n",
    "서로 다른 길이의 샘플들을 병렬 처리하기 위해 같은 길이로 맞춰주는 패딩 작업을 해주어야 해야해요. 아까 정해두었던 최대 길이로 패딩해 줄 거에요. 최대 길이보다 짧은 데이터들은 뒤의 공간에 숫자 0을 넣어 최대 길이로 길이를 맞춰줄게요.\n",
    "\n"
   ]
  },
  {
   "cell_type": "code",
   "execution_count": 37,
   "id": "fitting-furniture",
   "metadata": {},
   "outputs": [],
   "source": [
    "encoder_input_train = pad_sequences(encoder_input_train, maxlen = text_max_len, padding='post')\n",
    "encoder_input_test = pad_sequences(encoder_input_test, maxlen = text_max_len, padding='post')\n",
    "decoder_input_train = pad_sequences(decoder_input_train, maxlen = headlines_max_len, padding='post')\n",
    "decoder_target_train = pad_sequences(decoder_target_train, maxlen = headlines_max_len, padding='post')\n",
    "decoder_input_test = pad_sequences(decoder_input_test, maxlen = headlines_max_len, padding='post')\n",
    "decoder_target_test = pad_sequences(decoder_target_test, maxlen = headlines_max_len, padding='post')"
   ]
  },
  {
   "cell_type": "markdown",
   "id": "married-hello",
   "metadata": {},
   "source": [
    "# 8. 모델 설계하기"
   ]
  },
  {
   "cell_type": "code",
   "execution_count": 38,
   "id": "patent-tampa",
   "metadata": {},
   "outputs": [
    {
     "name": "stdout",
     "output_type": "stream",
     "text": [
      "WARNING:tensorflow:Layer lstm will not use cuDNN kernel since it doesn't meet the cuDNN kernel criteria. It will use generic GPU kernel as fallback when running on GPU\n",
      "WARNING:tensorflow:Layer lstm_1 will not use cuDNN kernel since it doesn't meet the cuDNN kernel criteria. It will use generic GPU kernel as fallback when running on GPU\n",
      "WARNING:tensorflow:Layer lstm_2 will not use cuDNN kernel since it doesn't meet the cuDNN kernel criteria. It will use generic GPU kernel as fallback when running on GPU\n"
     ]
    }
   ],
   "source": [
    "from tensorflow.keras.layers import Input, LSTM, Embedding, Dense, Concatenate\n",
    "from tensorflow.keras.models import Model\n",
    "from tensorflow.keras.callbacks import EarlyStopping, ModelCheckpoint\n",
    "\n",
    "\n",
    "# 인코더 설계 시작\n",
    "embedding_dim = 128\n",
    "hidden_size = 256\n",
    "\n",
    "# 인코더\n",
    "encoder_inputs = Input(shape=(text_max_len,))\n",
    "\n",
    "# 인코더의 임베딩 층\n",
    "enc_emb = Embedding(src_vocab, embedding_dim)(encoder_inputs)\n",
    "\n",
    "# 인코더의 LSTM 1\n",
    "encoder_lstm1 = LSTM(hidden_size, return_sequences=True, return_state=True ,dropout = 0.4, recurrent_dropout = 0.4)\n",
    "encoder_output1, state_h1, state_c1 = encoder_lstm1(enc_emb)\n",
    "\n",
    "# 인코더의 LSTM 2\n",
    "encoder_lstm2 = LSTM(hidden_size, return_sequences=True, return_state=True, dropout=0.4, recurrent_dropout=0.4)\n",
    "encoder_output2, state_h2, state_c2 = encoder_lstm2(encoder_output1)\n",
    "\n",
    "# 인코더의 LSTM 3\n",
    "encoder_lstm3 = LSTM(hidden_size, return_state=True, return_sequences=True, dropout=0.4, recurrent_dropout=0.4)\n",
    "encoder_outputs, state_h, state_c= encoder_lstm3(encoder_output2)"
   ]
  },
  {
   "cell_type": "code",
   "execution_count": 39,
   "id": "widespread-savage",
   "metadata": {},
   "outputs": [
    {
     "name": "stdout",
     "output_type": "stream",
     "text": [
      "WARNING:tensorflow:Layer lstm_3 will not use cuDNN kernel since it doesn't meet the cuDNN kernel criteria. It will use generic GPU kernel as fallback when running on GPU\n"
     ]
    }
   ],
   "source": [
    "# 디코더 설계\n",
    "\n",
    "decoder_inputs = Input(shape=(None,))\n",
    "\n",
    "# 디코더의 임베딩 층\n",
    "dec_emb_layer = Embedding(tar_vocab, embedding_dim)\n",
    "dec_emb = dec_emb_layer(decoder_inputs)\n",
    "\n",
    "# 디코더의 LSTM\n",
    "decoder_lstm = LSTM(hidden_size, return_sequences = True, return_state = True, dropout = 0.4, recurrent_dropout=0.2)\n",
    "decoder_outputs, _, _ = decoder_lstm(dec_emb, initial_state = [state_h, state_c])"
   ]
  },
  {
   "cell_type": "code",
   "execution_count": 40,
   "id": "acute-spider",
   "metadata": {},
   "outputs": [
    {
     "name": "stdout",
     "output_type": "stream",
     "text": [
      "Model: \"model\"\n",
      "__________________________________________________________________________________________________\n",
      "Layer (type)                    Output Shape         Param #     Connected to                     \n",
      "==================================================================================================\n",
      "input_1 (InputLayer)            [(None, 80)]         0                                            \n",
      "__________________________________________________________________________________________________\n",
      "embedding (Embedding)           (None, 80, 128)      1024000     input_1[0][0]                    \n",
      "__________________________________________________________________________________________________\n",
      "lstm (LSTM)                     [(None, 80, 256), (N 394240      embedding[0][0]                  \n",
      "__________________________________________________________________________________________________\n",
      "input_2 (InputLayer)            [(None, None)]       0                                            \n",
      "__________________________________________________________________________________________________\n",
      "lstm_1 (LSTM)                   [(None, 80, 256), (N 525312      lstm[0][0]                       \n",
      "__________________________________________________________________________________________________\n",
      "embedding_1 (Embedding)         (None, None, 128)    256000      input_2[0][0]                    \n",
      "__________________________________________________________________________________________________\n",
      "lstm_2 (LSTM)                   [(None, 80, 256), (N 525312      lstm_1[0][0]                     \n",
      "__________________________________________________________________________________________________\n",
      "lstm_3 (LSTM)                   [(None, None, 256),  394240      embedding_1[0][0]                \n",
      "                                                                 lstm_2[0][1]                     \n",
      "                                                                 lstm_2[0][2]                     \n",
      "__________________________________________________________________________________________________\n",
      "dense (Dense)                   (None, None, 2000)   514000      lstm_3[0][0]                     \n",
      "==================================================================================================\n",
      "Total params: 3,633,104\n",
      "Trainable params: 3,633,104\n",
      "Non-trainable params: 0\n",
      "__________________________________________________________________________________________________\n"
     ]
    }
   ],
   "source": [
    "# 디코더의 출력층\n",
    "decoder_softmax_layer = Dense(tar_vocab, activation = 'softmax')\n",
    "decoder_softmax_outputs = decoder_softmax_layer(decoder_outputs) \n",
    "# 모델 정의\n",
    "model = Model([encoder_inputs, decoder_inputs], decoder_softmax_outputs)\n",
    "model.summary()"
   ]
  },
  {
   "cell_type": "markdown",
   "id": "silver-connection",
   "metadata": {},
   "source": [
    "디코더의 출력층에서는 Summary의 단어장인 tar_vocab의 수많은 선택지 중 하나의 단어를 선택하는 다중 클래스 분류 문제를 풀어야 해요. 그렇기 때문에 Dense의 인자로 tar_vocab을 주고, 활성화 함수로 소프트맥스 함수를 사용하고 있어요."
   ]
  },
  {
   "cell_type": "markdown",
   "id": "surface-approval",
   "metadata": {},
   "source": [
    "## 어텐션 매커니즘\n",
    "\n",
    "RNN 레이어의 한계\n",
    "첫째, 하나의 고정된 크기의 벡터에 모든 정보를 압축하려고 하니까 정보 손실이 발생합니다.\n",
    "둘째, RNN의 고질적인 문제인 기울기 소실(Vanishing Gradient) 문제가 존재합니다.\n",
    "\n",
    "즉, 결국 이는 기계 번역 분야에서 입력 문장이 길면 번역 품질이 떨어지는 현상으로 나타났습니다. 이를 위한 대안으로 입력 시퀀스가 길어지면 출력 시퀀스의 정확도가 떨어지는 것을 보정해주기 위한 등장한 기법이 어텐션(attention)입니다..\n",
    "\n",
    "Attention\n",
    "어텐션 메커니즘은 모델로 하여금 ‘중요한 부분만 집중attention하게 만들자’가 핵심 아이디어다. 디코더가 출력을 생성할때 각 단계별로 입력 시퀀스의 각기 다른 부분을 집중하게 할 수 있게 한다. 즉, 하나의 고정된 컨텍스트 벡터로 인코딩 하는 대신 출력의 각 단계별로 컨텍스트 벡터를 생성하는 방법을 학습한다. 이는 모델이 입력 시퀀스와 지금까지 생성한 결과를 통해 무엇에 집중(!)할 것인지를 학습한다"
   ]
  },
  {
   "cell_type": "code",
   "execution_count": 41,
   "id": "identical-avatar",
   "metadata": {},
   "outputs": [],
   "source": [
    "urllib.request.urlretrieve(\"https://raw.githubusercontent.com/thushv89/attention_keras/master/src/layers/attention.py\", filename=\"attention.py\")\n",
    "from attention import AttentionLayer"
   ]
  },
  {
   "cell_type": "code",
   "execution_count": 42,
   "id": "sitting-lease",
   "metadata": {},
   "outputs": [
    {
     "name": "stdout",
     "output_type": "stream",
     "text": [
      "Model: \"model_1\"\n",
      "__________________________________________________________________________________________________\n",
      "Layer (type)                    Output Shape         Param #     Connected to                     \n",
      "==================================================================================================\n",
      "input_1 (InputLayer)            [(None, 80)]         0                                            \n",
      "__________________________________________________________________________________________________\n",
      "embedding (Embedding)           (None, 80, 128)      1024000     input_1[0][0]                    \n",
      "__________________________________________________________________________________________________\n",
      "lstm (LSTM)                     [(None, 80, 256), (N 394240      embedding[0][0]                  \n",
      "__________________________________________________________________________________________________\n",
      "input_2 (InputLayer)            [(None, None)]       0                                            \n",
      "__________________________________________________________________________________________________\n",
      "lstm_1 (LSTM)                   [(None, 80, 256), (N 525312      lstm[0][0]                       \n",
      "__________________________________________________________________________________________________\n",
      "embedding_1 (Embedding)         (None, None, 128)    256000      input_2[0][0]                    \n",
      "__________________________________________________________________________________________________\n",
      "lstm_2 (LSTM)                   [(None, 80, 256), (N 525312      lstm_1[0][0]                     \n",
      "__________________________________________________________________________________________________\n",
      "lstm_3 (LSTM)                   [(None, None, 256),  394240      embedding_1[0][0]                \n",
      "                                                                 lstm_2[0][1]                     \n",
      "                                                                 lstm_2[0][2]                     \n",
      "__________________________________________________________________________________________________\n",
      "attention_layer (AttentionLayer ((None, None, 256),  131328      lstm_2[0][0]                     \n",
      "                                                                 lstm_3[0][0]                     \n",
      "__________________________________________________________________________________________________\n",
      "concat_layer (Concatenate)      (None, None, 512)    0           lstm_3[0][0]                     \n",
      "                                                                 attention_layer[0][0]            \n",
      "__________________________________________________________________________________________________\n",
      "dense_1 (Dense)                 (None, None, 2000)   1026000     concat_layer[0][0]               \n",
      "==================================================================================================\n",
      "Total params: 4,276,432\n",
      "Trainable params: 4,276,432\n",
      "Non-trainable params: 0\n",
      "__________________________________________________________________________________________________\n"
     ]
    }
   ],
   "source": [
    "# 설계한 디코더의 출력층을 다음과 같이 수정할게요.\n",
    "\n",
    "# 어텐션 층(어텐션 함수)\n",
    "attn_layer = AttentionLayer(name='attention_layer')\n",
    "# 인코더와 디코더의 모든 time step의 hidden state를 어텐션 층에 전달하고 결과를 리턴\n",
    "attn_out, attn_states = attn_layer([encoder_outputs, decoder_outputs])\n",
    "\n",
    "# 어텐션의 결과와 디코더의 hidden state들을 연결\n",
    "decoder_concat_input = Concatenate(axis = -1, name='concat_layer')([decoder_outputs, attn_out])\n",
    "\n",
    "# 디코더의 출력층\n",
    "decoder_softmax_layer = Dense(tar_vocab, activation='softmax')\n",
    "decoder_softmax_outputs = decoder_softmax_layer(decoder_concat_input)\n",
    "\n",
    "# 모델 정의\n",
    "model = Model([encoder_inputs, decoder_inputs], decoder_softmax_outputs)\n",
    "model.summary()"
   ]
  },
  {
   "cell_type": "markdown",
   "id": "associate-vulnerability",
   "metadata": {},
   "source": [
    "# 9. 모델 훈련하기"
   ]
  },
  {
   "cell_type": "code",
   "execution_count": 43,
   "id": "lonely-adaptation",
   "metadata": {},
   "outputs": [
    {
     "name": "stdout",
     "output_type": "stream",
     "text": [
      "Epoch 1/50\n",
      "274/274 [==============================] - 138s 504ms/step - loss: 4.3017 - val_loss: 4.0289\n",
      "Epoch 2/50\n",
      "274/274 [==============================] - 140s 509ms/step - loss: 3.8861 - val_loss: 3.7376\n",
      "Epoch 3/50\n",
      "274/274 [==============================] - 133s 485ms/step - loss: 3.5929 - val_loss: 3.4843\n",
      "Epoch 4/50\n",
      "274/274 [==============================] - 137s 501ms/step - loss: 3.3657 - val_loss: 3.3090\n",
      "Epoch 5/50\n",
      "274/274 [==============================] - 142s 519ms/step - loss: 3.1908 - val_loss: 3.1822\n",
      "Epoch 6/50\n",
      "274/274 [==============================] - 140s 511ms/step - loss: 3.0434 - val_loss: 3.0592\n",
      "Epoch 7/50\n",
      "274/274 [==============================] - 138s 505ms/step - loss: 2.9175 - val_loss: 2.9626\n",
      "Epoch 8/50\n",
      "274/274 [==============================] - 134s 490ms/step - loss: 2.8081 - val_loss: 2.9098\n",
      "Epoch 9/50\n",
      "274/274 [==============================] - 134s 489ms/step - loss: 2.7115 - val_loss: 2.8469\n",
      "Epoch 10/50\n",
      "274/274 [==============================] - 138s 503ms/step - loss: 2.6252 - val_loss: 2.7994\n",
      "Epoch 11/50\n",
      "274/274 [==============================] - 138s 505ms/step - loss: 2.5470 - val_loss: 2.7627\n",
      "Epoch 12/50\n",
      "274/274 [==============================] - 137s 500ms/step - loss: 2.4758 - val_loss: 2.7210\n",
      "Epoch 13/50\n",
      "274/274 [==============================] - 138s 505ms/step - loss: 2.4089 - val_loss: 2.6911\n",
      "Epoch 14/50\n",
      "274/274 [==============================] - 137s 502ms/step - loss: 2.3468 - val_loss: 2.6637\n",
      "Epoch 15/50\n",
      "274/274 [==============================] - 140s 512ms/step - loss: 2.2907 - val_loss: 2.6404\n",
      "Epoch 16/50\n",
      "274/274 [==============================] - 136s 496ms/step - loss: 2.2381 - val_loss: 2.6513\n",
      "Epoch 17/50\n",
      "274/274 [==============================] - 134s 490ms/step - loss: 2.1867 - val_loss: 2.6104\n",
      "Epoch 18/50\n",
      "274/274 [==============================] - 136s 498ms/step - loss: 2.1411 - val_loss: 2.5942\n",
      "Epoch 19/50\n",
      "274/274 [==============================] - 136s 497ms/step - loss: 2.0979 - val_loss: 2.5902\n",
      "Epoch 20/50\n",
      "274/274 [==============================] - 140s 512ms/step - loss: 2.0550 - val_loss: 2.5733\n",
      "Epoch 21/50\n",
      "274/274 [==============================] - 137s 500ms/step - loss: 2.0156 - val_loss: 2.5737\n",
      "Epoch 22/50\n",
      "274/274 [==============================] - 134s 489ms/step - loss: 1.9801 - val_loss: 2.5759\n",
      "Epoch 00022: early stopping\n"
     ]
    }
   ],
   "source": [
    "model.compile(optimizer='rmsprop', loss='sparse_categorical_crossentropy')\n",
    "es = EarlyStopping(monitor='val_loss', mode='min', verbose=1, patience = 2)\n",
    "history = model.fit(x = [encoder_input_train, decoder_input_train], y = decoder_target_train, \\\n",
    "          validation_data = ([encoder_input_test, decoder_input_test], decoder_target_test),\n",
    "          batch_size = 256, callbacks=[es], epochs = 50)\n",
    "\n",
    "#얼리스타핑을 사용합니다.\n",
    "# 특정 조건이 충족되면 모델의 훈련을 멈추는 역할을 해요."
   ]
  },
  {
   "cell_type": "code",
   "execution_count": 44,
   "id": "ordered-principle",
   "metadata": {},
   "outputs": [
    {
     "data": {
      "image/png": "[encoded data removed]",
      "text/plain": [
       "<Figure size 432x288 with 1 Axes>"
      ]
     },
     "metadata": {
      "needs_background": "light"
     },
     "output_type": "display_data"
    }
   ],
   "source": [
    "plt.plot(history.history['loss'], label='train')\n",
    "plt.plot(history.history['val_loss'], label='test')\n",
    "plt.legend()\n",
    "plt.show()\n"
   ]
  },
  {
   "cell_type": "markdown",
   "id": "consistent-elevation",
   "metadata": {},
   "source": [
    "# 10. 인퍼런스 모델 구현하기  \n",
    "테스트 단계에서는 정수 인덱스 행렬로 존재하던 텍스트 데이터를 실제 데이터로 복원해야 하므로, 필요한 3개의 사전을 아래와 같이 미리 준비해 둡니다."
   ]
  },
  {
   "cell_type": "code",
   "execution_count": 45,
   "id": "charming-shield",
   "metadata": {},
   "outputs": [],
   "source": [
    "src_index_to_word = src_tokenizer.index_word # 원문 단어 집합에서 정수 -> 단어를 얻음\n",
    "tar_word_to_index = tar_tokenizer.word_index # 요약 단어 집합에서 단어 -> 정수를 얻음\n",
    "tar_index_to_word = tar_tokenizer.index_word # 요약 단어 집합에서 정수 -> 단어를 얻음"
   ]
  },
  {
   "cell_type": "markdown",
   "id": "illegal-tracker",
   "metadata": {},
   "source": [
    "seq2seq는 훈련할 때와 실제 동작할 때(인퍼런스 단계)의 방식이 다르므로 그에 맞게 모델 설계를 별개로 진행해야 한다는 것, 알고 계시나요?\n",
    "\n",
    "훈련 단계에서는 디코더의 입력부에 정답이 되는 문장 전체를 한꺼번에 넣고 디코더의 출력과 한번에 비교할 수 있으므로, 인코더와 디코더를 엮은 통짜 모델 하나만 준비했습니다.\n",
    "\n",
    "그러나 정답 문장이 없는 인퍼런스 단계에서는 만들어야 할 문장의 길이만큼 디코더가 반복 구조로 동작해야 하기 때문에 부득이하게 인퍼런스를 위한 모델 설계를 별도로 해주어야 합니다. 이때는 인코더 모델과 디코더 모델을 분리해서 설계합니다."
   ]
  },
  {
   "cell_type": "code",
   "execution_count": 46,
   "id": "dirty-jewel",
   "metadata": {},
   "outputs": [],
   "source": [
    "# 인코더 설계\n",
    "encoder_model = Model(inputs=encoder_inputs, outputs=[encoder_outputs, state_h, state_c])\n",
    "# 이전 시점의 상태들을 저장하는 텐서\n",
    "decoder_state_input_h = Input(shape=(hidden_size,))\n",
    "decoder_state_input_c = Input(shape=(hidden_size,))\n",
    "dec_emb2 = dec_emb_layer(decoder_inputs)\n",
    "# 문장의 다음 단어를 예측하기 위해서 초기 상태(initial_state)를 이전 시점의 상태로 사용. 이는 뒤의 함수 decode_sequence()에 구현\n",
    "# 훈련 과정에서와 달리 LSTM의 리턴하는 은닉 상태와 셀 상태인 state_h와 state_c를 버리지 않음.\n",
    "decoder_outputs2, state_h2, state_c2 = decoder_lstm(dec_emb2, initial_state=[decoder_state_input_h, decoder_state_input_c])"
   ]
  },
  {
   "cell_type": "code",
   "execution_count": 47,
   "id": "sexual-people",
   "metadata": {},
   "outputs": [],
   "source": [
    "# 어텐션 함수\n",
    "decoder_hidden_state_input = Input(shape=(text_max_len, hidden_size))\n",
    "attn_out_inf, attn_states_inf = attn_layer([decoder_hidden_state_input, decoder_outputs2])\n",
    "decoder_inf_concat = Concatenate(axis=-1, name='concat')([decoder_outputs2, attn_out_inf])\n",
    "\n",
    "# 디코더의 출력층\n",
    "decoder_outputs2 = decoder_softmax_layer(decoder_inf_concat) \n",
    "\n",
    "# 최종 디코더 모델\n",
    "decoder_model = Model(\n",
    "    [decoder_inputs] + [decoder_hidden_state_input,decoder_state_input_h, decoder_state_input_c],\n",
    "    [decoder_outputs2] + [state_h2, state_c2])"
   ]
  },
  {
   "cell_type": "code",
   "execution_count": 48,
   "id": "technical-tracker",
   "metadata": {},
   "outputs": [],
   "source": [
    "def decode_sequence(input_seq):\n",
    "    # 입력으로부터 인코더의 상태를 얻음\n",
    "    e_out, e_h, e_c = encoder_model.predict(input_seq)\n",
    "\n",
    "     # <SOS>에 해당하는 토큰 생성\n",
    "    target_seq = np.zeros((1,1))\n",
    "    target_seq[0, 0] = tar_word_to_index['sostoken']\n",
    "\n",
    "    stop_condition = False\n",
    "    decoded_sentence = ''\n",
    "    while not stop_condition: # stop_condition이 True가 될 때까지 루프 반복\n",
    "\n",
    "        output_tokens, h, c = decoder_model.predict([target_seq] + [e_out, e_h, e_c])\n",
    "        sampled_token_index = np.argmax(output_tokens[0, -1, :])\n",
    "        sampled_token = tar_index_to_word[sampled_token_index]\n",
    "\n",
    "        if(sampled_token!='eostoken'):\n",
    "            decoded_sentence += ' '+sampled_token\n",
    "\n",
    "        #  <eos>에 도달하거나 최대 길이를 넘으면 중단.\n",
    "        if (sampled_token == 'eostoken'  or len(decoded_sentence.split()) >= (headlines_max_len-1)):\n",
    "            stop_condition = True\n",
    "\n",
    "        # 길이가 1인 타겟 시퀀스를 업데이트\n",
    "        target_seq = np.zeros((1,1))\n",
    "        target_seq[0, 0] = sampled_token_index\n",
    "\n",
    "        # 상태를 업데이트 합니다.\n",
    "        e_h, e_c = h, c\n",
    "\n",
    "    return decoded_sentence"
   ]
  },
  {
   "cell_type": "markdown",
   "id": "prompt-processor",
   "metadata": {},
   "source": [
    "# 11. 모델 테스트하기\n",
    "테스트 단계에서는 정수 시퀀스를 텍스트 시퀀스로 변환하여 결과를 확인하는 것이 편하겠죠. 주어진 정수 시퀀스를 텍스트 시퀀스로 변환하는 함수를 만들어볼게요. 함수를 만들 때, Text의 정수 시퀀스에서는 패딩을 위해 사용되는 숫자 0을 제외시키고 Summary의 정수 시퀀스에서는 숫자 0, 시작 토큰의 인덱스, 종료 토큰의 인덱스를 출력에서 제외시키도록 만들거에요.\n",
    "\n"
   ]
  },
  {
   "cell_type": "code",
   "execution_count": 49,
   "id": "lesbian-continent",
   "metadata": {},
   "outputs": [],
   "source": [
    "# 원문의 정수 시퀀스를 텍스트 시퀀스로 변환\n",
    "def seq2text(input_seq):\n",
    "    temp=''\n",
    "    for i in input_seq:\n",
    "        if(i!=0):\n",
    "            temp = temp + src_index_to_word[i]+' '\n",
    "    return temp\n",
    "\n",
    "# 요약문의 정수 시퀀스를 텍스트 시퀀스로 변환\n",
    "def seq2headlines(input_seq):\n",
    "    temp=''\n",
    "    for i in input_seq:\n",
    "        if((i!=0 and i!=tar_word_to_index['sostoken']) and i!=tar_word_to_index['eostoken']):\n",
    "            temp = temp + tar_index_to_word[i] + ' '\n",
    "    return temp"
   ]
  },
  {
   "cell_type": "code",
   "execution_count": 50,
   "id": "front-edgar",
   "metadata": {},
   "outputs": [
    {
     "name": "stdout",
     "output_type": "stream",
     "text": [
      "원문 : us president donald trump today signed resolution barack obama era rule that restricted internet providers from sharing users history without their permission the rule also required internet providers to secure the users data from the hackers and users of any data breach the argued the rules were to consumers and unfair to internet providers \n",
      "실제 요약 : trump signs internet privacy rules \n",
      "예측 요약 :  trump obama\n",
      "\n",
      "\n",
      "원문 : the first cctv footage of the paris airport attack which happened on saturday has emerged showing that the attacker grabbed soldier and tried to take her gun before being shot the attacked soldier could also be seen away from her dying attacker the attacker reportedly shouted he wanted to die for before he was killed \n",
      "실제 요약 : video paris airport attack \n",
      "예측 요약 :  paris opens fire\n",
      "\n",
      "\n",
      "원문 : us president donald trump has said that vladimir putin is probably person in remarks made ahead of his summit with the russian president look if we can get along with russia that is good thing do not know him met him couple of times he added trump had earlier called putin his \n",
      "실제 요약 : putin person us president trump \n",
      "예측 요약 :  trump putin\n",
      "\n",
      "\n",
      "원문 : ford ceo james on wednesday said that us president donald trump tariffs on imported steel and cost the company billion in profits the is we source most of that in the us today so we are in good place right now but if it goes on longer there will be more damage added \n",
      "실제 요약 : trump took billion profit ceo \n",
      "예측 요약 :  trump billion deal\n",
      "\n",
      "\n",
      "원문 : german chancellor angela merkel has said that the collapse of talks on britain planned exit from the european union cannot be ruled out however merkel said germany and its partners in the eu are putting all their energy into securing deal with britain we do not want these negotiations to collapse the german chancellor added \n",
      "실제 요약 : collapse brexit talks cannot germany \n",
      "예측 요약 :  germany urges german\n",
      "\n",
      "\n",
      "원문 : lucknow issued fatwa saying that muslim women should not watch men play football senior mufti claimed that watching men playing with violated the of islam do you have no shame do you not fear god he added slamming men who allow their wives to watch football even on television \n",
      "실제 요약 : issued women men play football \n",
      "예측 요약 :  women asked remove\n",
      "\n",
      "\n",
      "원문 : shiv sena in its has said that the bharatiya janata party does not respect its allies and them is bjp the editorial added that the party andhra pradesh cm chandrababu naidu the same way it shiv sena in maharashtra this comes after chandrababu naidu party announced that it may quit the bjp led nda \n",
      "실제 요약 : bjp shiv sena \n",
      "예측 요약 :  bjp shiv sena bjp\n",
      "\n",
      "\n",
      "원문 : paytm has reportedly signed non exclusive term sheet to acquire snapdeal owned payments platform the term sheet being non exclusive means that snapdeal will be able to to other potential buyers as well paytm deal could be finalised at million to million less than million that was valued at when snapdeal acquired it \n",
      "실제 요약 : paytm signs non deal report \n",
      "예측 요약 :  paytm acquires snapdeal\n",
      "\n",
      "\n",
      "원문 : michelle obama has revealed that queen elizabeth ii had dismissed royal protocol as in the former us first lady said she was about how to act when the queen collected her and barack obama from their helicopter during their visit to england you re protocol and she says oh it is all just get in obama said \n",
      "실제 요약 : obama says queen told royal \n",
      "예측 요약 :  queen queen\n",
      "\n",
      "\n",
      "원문 : facebook has announced that new third party apps will not have permission to posts as the in user the company also said the apps that have been previously approved to post on facebook can continue to do so until august this comes amid ongoing concerns about the misuse of consumer data collected from facebook by third party apps \n",
      "실제 요약 : facebook stops third party apps user \n",
      "예측 요약 :  facebook whatsapp apps\n",
      "\n",
      "\n",
      "원문 : individuals selling old jewellery to traders or hostel accommodation provided to students by educational institutions will not be subject to gst the government has clarified sale of old jewellery is not as it is not transaction made in the course of running business further gst will also not apply on sale of old cars or two wheelers \n",
      "실제 요약 : sale old jewellery gst govt \n",
      "예측 요약 :  lakh people steal jobs worth cr\n",
      "\n",
      "\n",
      "원문 : mcdonald has informed the national company law appellate tribunal that settlement of its dispute with estranged joint venture partner vikram is not possible the tribunal had asked them to consider their dispute among themselves earlier mcdonald terminated franchise agreement for outlets that were operated by plaza restaurants the joint venture with \n",
      "실제 요약 : says mcdonald \n",
      "예측 요약 :  mcdonald\n",
      "\n",
      "\n",
      "원문 : preliminary probe on the explosion at the plant in which claimed around lives suggests it was caused by in the ash evacuation system the ash blocked the evacuation system increasing the pressure inside the section of the then burst open owing to the pressure letting out the trapped gas and ash \n",
      "실제 요약 : explosion plant \n",
      "예측 요약 :  killed system\n",
      "\n",
      "\n",
      "원문 : spanish division side coach di has been arrested as part of match fixing investigation into his team loss to barcelona on saturday following their loss the team were pushed into the zone after which the team board requested the league to launch an investigation into possible match fixing \n",
      "실제 요약 : coach arrested alleged team record loss \n",
      "예측 요약 :  coach arrested ipl\n",
      "\n",
      "\n",
      "원문 : two canadian girls mobile tower in restricted area in madhya pradesh reportedly to click selfies from the highest point the police who were alerted about the incident called it an honest mistake they said the girls into while visiting the temples at mata as they could not read the warning signs in hindi \n",
      "실제 요약 : canadian girls mp mobile tower take \n",
      "예측 요약 :  thailand women mp room\n",
      "\n",
      "\n",
      "원문 : union minister rijiju on tuesday said the government has undertaken construction of roads of operational along indo china border out of the roads are being constructed by the defence ministry and by the home ministry this comes while india and china are engaged in standoff after china attempted to construct road in doklam \n",
      "실제 요약 : roads built along india china border \n",
      "예측 요약 :  govt km build china\n",
      "\n",
      "\n",
      "원문 : the annual championship game of the national football league super bowl has been named the world most valuable sports event by forbes with brand value of million the brand value of super bowl is more than that of summer olympics and fifa world cup uefa champions league is ranked seventh on the list \n",
      "실제 요약 : american football ship game sports event \n",
      "예측 요약 :  league players\n",
      "\n",
      "\n",
      "원문 : veteran actor dilip kumar has been discharged from hospital in mumbai doctors have advised complete rest for few days to prevent infection thank you all for your prayers dilip family friend posted via the actor twitter handle dilip was admitted to the hospital on october where he was being treated for \n",
      "실제 요약 : actor kumar hospital \n",
      "예측 요약 :  actor kumar hospital\n",
      "\n",
      "\n",
      "원문 : football match between clubs and in netherlands top division football league was halted as fans let off smoke bombs in the stands the referee halted play five minutes into the second half as black smoke filled the stadium with people having eye and problems year old man was reportedly arrested as suspect \n",
      "실제 요약 : football match fans let \n",
      "예측 요약 :  fans pitch match\n",
      "\n",
      "\n",
      "원문 : chinese researchers have built flexible batteries that can be powered by body inspired like solution and cell culture current batteries are based on organic or whereas ones used in medical come in researchers said the team aims to use the battery in wearable and electronics \n",
      "실제 요약 : run body made \n",
      "예측 요약 :  china develops ai\n",
      "\n",
      "\n",
      "원문 : apple has signed million deal with european chipmaker to license its power management technology and acquire certain assets apple will pay million in cash for the transaction and an additional million for product delivery over the next few years over employees will join apple as part of the deal \n",
      "실제 요약 : apple pays mn iphone tech employees \n",
      "예측 요약 :  apple raises mn eu mn dispute\n",
      "\n",
      "\n",
      "원문 : researchers have developed system based on ai which can detect fake news by the quality of its source the system uses machine learning algorithms to determine if source is accurate or politically it needs only about articles to detect if news source can be the researchers claimed \n",
      "실제 요약 : ai detect fake news developed \n",
      "예측 요약 :  ai detect fake news developed\n",
      "\n",
      "\n",
      "원문 : royal challengers bangalore south african batsman ab de villiers said am scared of indian cricket it is just getting stronger and stronger because of the ipl de villiers added that india has got some great talent and that there are some great youngsters coming through de villiers managed to score runs in the current edition of the ipl \n",
      "실제 요약 : indian cricket de \n"
     ]
    },
    {
     "name": "stdout",
     "output_type": "stream",
     "text": [
      "예측 요약 :  ipl\n",
      "\n",
      "\n",
      "원문 : indian pacer mohammed created the record of bowling india second most expensive figures on debut after registering figures of in the second india australia odi on tuesday also has india second most expensive figures on debut in had given away runs on his debut for india against new zealand in rajkot \n",
      "실제 요약 : posts india nd expensive debut \n",
      "예측 요약 :  becomes record indian record\n",
      "\n",
      "\n",
      "원문 : police constable was killed while trying to stop truck carrying in maharashtra police said on monday the constable who was deployed on an anti liquor check tried to halt the truck but the truck driver did not halt and crushed the constable under the vehicle wheels police added two people were arrested from the truck police said \n",
      "실제 요약 : maha killed truck carrying \n",
      "예측 요약 :  killed truck truck truck\n",
      "\n",
      "\n",
      "원문 : israeli missiles hit military post near the syrian capital of on friday syria state television said adding that the assault led to material losses syria air defence system responded to the strikes and destroyed two missiles it reported earlier this year israeli pm benjamin netanyahu vowed to intervene in syria to counter iran influence in the war \n",
      "실제 요약 : syria accuses israel missile attacks military post \n",
      "예측 요약 :  israel military syria\n",
      "\n",
      "\n",
      "원문 : south korea has claimed that it has missile capability with top level and power to strike any place in north korea if necessary north korea recently test fired missile over japan after the us and south korea annual joint drills as preparation for war south korea responded to the test by dropping eight multi purpose bombs near north korean border \n",
      "실제 요약 : korea claims missile korea \n",
      "예측 요약 :  north korea tests us\n",
      "\n",
      "\n",
      "원문 : the un general assembly on friday elected south africa indonesia republic germany and belgium as non permanent members of the security council their terms will begin on january next year with the non permanent members being elected for two year term the security council is composed of members five permanent and non permanent \n",
      "실제 요약 : five new countries elected un security council \n",
      "예측 요약 :  un warns un\n",
      "\n",
      "\n",
      "원문 : the supreme court today allowed live streaming of cases of constitutional importance that take place in the court of the chief justice of india the apex court said the move will bring into the judicial system adding sunlight is the best necessary rules for rights of public and protecting dignity of will be framed it added \n",
      "실제 요약 : supreme court allows live court \n",
      "예측 요약 :  sc live test judges\n",
      "\n",
      "\n",
      "원문 : private lender kotak mahindra bank on monday crossed trillion in market capitalisation for the first time after its stock surged to an all time high this makes it the fourth listed bank and st company to achieve this mark in india hdfc bank is the most valued bank in india with market capitalisation of trillion \n",
      "실제 요약 : mahindra bank crosses market cap trillion \n",
      "예측 요약 :  bank crosses trillion first time\n",
      "\n",
      "\n",
      "원문 : apple has fixed bug that crashed iphone devices when users taiwan or used the flag emoji it was part of censorship feature used in the apple software to hide the flag on devices for china specific region the bug fixed in latest ios update was reported by chief research officer at security \n",
      "실제 요약 : apple bug iphones \n",
      "예측 요약 :  apple bug iphone\n",
      "\n",
      "\n",
      "원문 : delhi based woman who against in the supreme court has claimed that she was threatened to withdraw her plea the sc has agreed to consider listing petitions against the practice under muslim man can his estranged wife after she someone else the marriage and gets divorced or \n",
      "실제 요약 : woman threats \n",
      "예측 요약 :  sc plea woman\n",
      "\n",
      "\n",
      "원문 : additional district and sessions court in jaipur has sentenced eight lashkar taiba terrorists to life imprisonment for terror activities the convicts three of whom are were arrested between and despite being in police custody the convicts were said to be able to make contacts with people outside and continue members for the terror organisation \n",
      "실제 요약 : court let terrorists life \n",
      "예측 요약 :  sentenced life term killing\n",
      "\n",
      "\n",
      "원문 : all rounder krunal pandya has revealed that his brother hardik pandya made fun of him when he conceded runs in the first against australia hardik and do not talk much about cricket he was and laughing that went for so many runs also joke when he plays that is all we talk about cricket he added \n",
      "실제 요약 : hardik made gave away vs aus \n",
      "예측 요약 :  hardik pandya hardik pandya\n",
      "\n",
      "\n",
      "원문 : the foreign ministry has asked to arrest pnb scam accused mehul choksi and initiate his extradition to india stating that an interpol notice is not mandatory the notice is required to locate an accused but in this case confirmed us that choksi is in their country an officer said an extradition request was handed over to on july \n",
      "실제 요약 : arrest choksi notice govt \n",
      "예측 요약 :  choksi choksi india\n",
      "\n",
      "\n",
      "원문 : canadian dave his wife and coach were on saturday arrested for allegedly stealing car in where the winter olympics just concluded the got into an which was left in front of bar and drove it near the olympic village the vehicle belonged to year old tourist who was visiting the games \n",
      "실제 요약 : drunk canadian car winter olympics \n",
      "예측 요약 :  couple arrested stealing car arrested\n",
      "\n",
      "\n",
      "원문 : filmmaker has said that the female characters in her films are stronger than in most films think that also has to do with the kind of stories that choose she added further said you just have to become the character that you are talking about it does not matter what gender they are \n",
      "실제 요약 : female films others \n",
      "예측 요약 :  film industry\n",
      "\n",
      "\n",
      "원문 : lakhs of will go on nationwide strike on october and to protest against the goods and services tax and high diesel prices all indian motor transport congress recently said it claimed that since daily changes in diesel prices have hit the transport sector the government should make provisions to the prices on quarterly basis \n",
      "실제 요약 : maharashtra go strike protest gst \n",
      "예측 요약 :  strike day strike\n",
      "\n",
      "\n",
      "원문 : private sector lender bank september quarter profit surged to crore helped by higher net interest income the kolkata based lender gross bad loans as percentage of total loans stood at compared with in the previous quarter the results come days after the rbi barred the bank from opening new branches and ceo salary \n",
      "실제 요약 : bank quarter profit jumps cr \n",
      "예측 요약 :  bank profit rises crore march quarter\n",
      "\n",
      "\n",
      "원문 : the european commission chief jean has said nobody outside india calls its gdp growth as he added by comparison to in europe is showing that india is doing well the comment comes after the country saw its economic growth rate down to three year low in the june quarter \n",
      "실제 요약 : india growth european commission \n",
      "예측 요약 :  india ready ready growth\n",
      "\n",
      "\n",
      "원문 : actor dhanush pictures from the sets of his hollywood debut the extraordinary journey of the have surfaced online dhanush is playing the lead role in the film which is being directed by scott the film is based on novel by and will reportedly be filmed in mumbai paris and rome \n",
      "실제 요약 : pics debut film set online \n",
      "예측 요약 :  shares pic debut\n",
      "\n",
      "\n",
      "원문 : snapchat parent company snap has laid off employees from its engineering team as part of the team we are doing this after and review of each team member snap said in an email to employees earlier snap ceo spiegel said the company will be hiring employees at rate in \n",
      "실제 요약 : employees team \n",
      "예측 요약 :  parent employees employees\n",
      "\n",
      "\n",
      "원문 : the central bureau of investigation will move the supreme court against the allahabad high court verdict rajesh and in the murder case of their daughter and domestic help cbi court in had convicted them in the case and sentenced them to life imprisonment recently wife also challenged the couple \n",
      "실제 요약 : cbi move sc murder \n",
      "예측 요약 :  cbi sc bail case\n",
      "\n",
      "\n",
      "원문 : the kerala police has detained woman named after suspicious deaths of her two daughters and parents the deaths had occurred due to some illness and the bodies were buried without any post mortem after the neighbours raised and alerted the police an was conducted which revealed of chemical found in rat poison \n",
      "실제 요약 : woman held death parents \n",
      "예측 요약 :  kerala woman kills death\n",
      "\n",
      "\n",
      "원문 : italy based fashion company stone island has made shirt worth about with mini to hold apple wireless that are priced at in india the shirts feature around the or at the front the collection also includes with to and keep the safe under the \n",
      "실제 요약 : made hold \n"
     ]
    },
    {
     "name": "stdout",
     "output_type": "stream",
     "text": [
      "예측 요약 :  unveils new india\n",
      "\n",
      "\n",
      "원문 : railways minister suresh prabhu on wednesday said he himself had to club the railways budget with the general budget and added that it was not takeover by the finance ministry from the current fiscal the government merged the railways budget with the general budget which was presented by finance minister arun jaitley on february \n",
      "실제 요약 : gave rail budget \n",
      "예측 요약 :  railway budget ticket union budget\n",
      "\n",
      "\n",
      "원문 : the punjab cabinet on monday cleared proposal to set up an international civil terminal at air force station in ludhiana district the punjab government will provide over acres of land free of charge for the terminal further the terminal will be jointly developed by the state government and airports authority of india \n",
      "실제 요약 : international airport come punjab \n",
      "예측 요약 :  punjab government approves water\n",
      "\n",
      "\n",
      "원문 : the un has reportedly been alleged sri lankan war criminals to its operations in and south sudan those deployed included involved in alleged abuses during the civil war in this comes despite the establishment of verification process to screen out those who served in combat positions in the war final phase \n",
      "실제 요약 : un sri lanka war report \n",
      "예측 요약 :  un war war war\n",
      "\n",
      "\n",
      "원문 : anna year old professional from texas played while undergoing brain surgery for movement disorder known as essential anna who was undergoing procedure known as deep brain could hold cup of water before the process started the doctors asked her to play the instrument to test of her hands \n",
      "실제 요약 : year old woman plays brain surgery \n",
      "예측 요약 :  yr old uses surgery\n",
      "\n",
      "\n",
      "원문 : russian president vladimir putin has said that the chemical attack in syria was false flag set up to syrian president bashar al assad adding that russia has information of potential incident similar to the chemical attack in possibly targeting putin said that the united states was planning to launch new missile strikes on syria \n",
      "실제 요약 : chemical attack false flag set syria prez putin \n",
      "예측 요약 :  syria prez putin\n",
      "\n",
      "\n"
     ]
    }
   ],
   "source": [
    "for i in range(50, 100):\n",
    "    print(\"원문 :\", seq2text(encoder_input_test[i]))\n",
    "    print(\"실제 요약 :\", seq2headlines(decoder_input_test[i]))\n",
    "    print(\"예측 요약 :\", decode_sequence(encoder_input_test[i].reshape(1, text_max_len)))\n",
    "    print(\"\\n\")"
   ]
  },
  {
   "cell_type": "markdown",
   "id": "sapphire-calculator",
   "metadata": {},
   "source": [
    "# 12. 추출적 요약 해보기\n",
    "```\n",
    "ext (str) : 요약할 테스트.\n",
    "ratio (float, optional) – 요약문에서 원본에서 선택되는 문장 비율. 0~1 사이값\n",
    "words (int or None, optional) – 출력에 포함할 단어 수.\n",
    "만약, ratio와 함께 두 파라미터가 모두 제공되는 경우 ratio는 무시한다.\n",
    "split (bool, optional) – True면 문장 list / False는 조인(join)된 문자열을 반환\n",
    "```"
   ]
  },
  {
   "cell_type": "code",
   "execution_count": 90,
   "id": "parental-annotation",
   "metadata": {},
   "outputs": [],
   "source": [
    "import requests\n",
    "from summa.summarizer import summarize"
   ]
  },
  {
   "cell_type": "code",
   "execution_count": 112,
   "id": "increasing-chemistry",
   "metadata": {},
   "outputs": [],
   "source": [
    "data2 = pd.read_csv('news_summary_more.csv', encoding='iso-8859-1')"
   ]
  },
  {
   "cell_type": "code",
   "execution_count": 113,
   "id": "informational-threshold",
   "metadata": {},
   "outputs": [
    {
     "data": {
      "text/html": [
       "<div>\n",
       "<style scoped>\n",
       "    .dataframe tbody tr th:only-of-type {\n",
       "        vertical-align: middle;\n",
       "    }\n",
       "\n",
       "    .dataframe tbody tr th {\n",
       "        vertical-align: top;\n",
       "    }\n",
       "\n",
       "    .dataframe thead th {\n",
       "        text-align: right;\n",
       "    }\n",
       "</style>\n",
       "<table border=\"1\" class=\"dataframe\">\n",
       "  <thead>\n",
       "    <tr style=\"text-align: right;\">\n",
       "      <th></th>\n",
       "      <th>headlines</th>\n",
       "      <th>text</th>\n",
       "    </tr>\n",
       "  </thead>\n",
       "  <tbody>\n",
       "    <tr>\n",
       "      <th>0</th>\n",
       "      <td>upGrad learner switches to career in ML &amp; Al w...</td>\n",
       "      <td>Saurav Kant, an alumnus of upGrad and IIIT-B's...</td>\n",
       "    </tr>\n",
       "    <tr>\n",
       "      <th>1</th>\n",
       "      <td>Delhi techie wins free food from Swiggy for on...</td>\n",
       "      <td>Kunal Shah's credit card bill payment platform...</td>\n",
       "    </tr>\n",
       "    <tr>\n",
       "      <th>2</th>\n",
       "      <td>New Zealand end Rohit Sharma-led India's 12-ma...</td>\n",
       "      <td>New Zealand defeated India by 8 wickets in the...</td>\n",
       "    </tr>\n",
       "    <tr>\n",
       "      <th>3</th>\n",
       "      <td>Aegon life iTerm insurance plan helps customer...</td>\n",
       "      <td>With Aegon Life iTerm Insurance plan, customer...</td>\n",
       "    </tr>\n",
       "    <tr>\n",
       "      <th>4</th>\n",
       "      <td>Have known Hirani for yrs, what if MeToo claim...</td>\n",
       "      <td>Speaking about the sexual harassment allegatio...</td>\n",
       "    </tr>\n",
       "  </tbody>\n",
       "</table>\n",
       "</div>"
      ],
      "text/plain": [
       "                                           headlines  \\\n",
       "0  upGrad learner switches to career in ML & Al w...   \n",
       "1  Delhi techie wins free food from Swiggy for on...   \n",
       "2  New Zealand end Rohit Sharma-led India's 12-ma...   \n",
       "3  Aegon life iTerm insurance plan helps customer...   \n",
       "4  Have known Hirani for yrs, what if MeToo claim...   \n",
       "\n",
       "                                                text  \n",
       "0  Saurav Kant, an alumnus of upGrad and IIIT-B's...  \n",
       "1  Kunal Shah's credit card bill payment platform...  \n",
       "2  New Zealand defeated India by 8 wickets in the...  \n",
       "3  With Aegon Life iTerm Insurance plan, customer...  \n",
       "4  Speaking about the sexual harassment allegatio...  "
      ]
     },
     "execution_count": 113,
     "metadata": {},
     "output_type": "execute_result"
    }
   ],
   "source": [
    "data2.head()"
   ]
  },
  {
   "cell_type": "code",
   "execution_count": 114,
   "id": "urban-librarian",
   "metadata": {},
   "outputs": [
    {
     "data": {
      "text/plain": [
       "0    Saurav Kant, an alumnus of upGrad and IIIT-B's...\n",
       "1    Kunal Shah's credit card bill payment platform...\n",
       "2    New Zealand defeated India by 8 wickets in the...\n",
       "3    With Aegon Life iTerm Insurance plan, customer...\n",
       "4    Speaking about the sexual harassment allegatio...\n",
       "Name: text, dtype: object"
      ]
     },
     "execution_count": 114,
     "metadata": {},
     "output_type": "execute_result"
    }
   ],
   "source": [
    "data2 = data2['text']\n",
    "data2.head()"
   ]
  },
  {
   "cell_type": "code",
   "execution_count": 115,
   "id": "apart-hindu",
   "metadata": {},
   "outputs": [],
   "source": [
    "text = data2"
   ]
  },
  {
   "cell_type": "code",
   "execution_count": 121,
   "id": "massive-advocate",
   "metadata": {},
   "outputs": [
    {
     "name": "stdout",
     "output_type": "stream",
     "text": [
      "Summary:\n",
      "upGrad's Online Power Learning has powered 3 lakh+ careers.\n"
     ]
    }
   ],
   "source": [
    "print('Summary:')\n",
    "print(summarize(text[0], ratio=0.55))"
   ]
  },
  {
   "cell_type": "code",
   "execution_count": 124,
   "id": "diverse-constitution",
   "metadata": {},
   "outputs": [
    {
     "name": "stdout",
     "output_type": "stream",
     "text": [
      "Summary:\n",
      "['Users get one CRED coin per rupee of bill paid, which can be used to avail rewards from brands like Ixigo, BookMyShow, UberEats, Cult.Fit and more.']\n"
     ]
    }
   ],
   "source": [
    "print('Summary:')\n",
    "print(summarize(text[1], ratio=0.5, split=True))"
   ]
  },
  {
   "cell_type": "code",
   "execution_count": 127,
   "id": "agreed-rebound",
   "metadata": {},
   "outputs": [
    {
     "name": "stdout",
     "output_type": "stream",
     "text": [
      "Summary:\n",
      "The match witnessed India getting all out for 92, their seventh lowest total in ODI cricket history.\n"
     ]
    }
   ],
   "source": [
    "print('Summary:')\n",
    "print(summarize(text[2], words=10))"
   ]
  },
  {
   "cell_type": "code",
   "execution_count": 143,
   "id": "spatial-bolivia",
   "metadata": {},
   "outputs": [],
   "source": [
    "summary = []\n",
    "\n",
    "for i in range (10) :\n",
    "    summary.append(summarize(text[i], ratio=0.5))"
   ]
  },
  {
   "cell_type": "code",
   "execution_count": 144,
   "id": "remarkable-bobby",
   "metadata": {},
   "outputs": [
    {
     "name": "stdout",
     "output_type": "stream",
     "text": [
      "[\"upGrad's Online Power Learning has powered 3 lakh+ careers.\", 'Users get one CRED coin per rupee of bill paid, which can be used to avail rewards from brands like Ixigo, BookMyShow, UberEats, Cult.Fit and more.', 'The match witnessed India getting all out for 92, their seventh lowest total in ODI cricket history.', 'Also, customers have options to insure against Critical Illnesses, Disability and Accidental Death Benefit Rider with a life cover up to the age of 80 years.', 'Speaking about the sexual harassment allegations against Rajkumar Hirani, Sonam Kapoor said, \"I\\'ve known Hirani for many years...What if it\\'s not true, the [#MeToo] movement will get derailed.\" \"In the #MeToo movement, I always believe a woman.', 'Pakistani singer Rahat Fateh Ali Khan has denied receiving any notice from the Enforcement Directorate over allegedly smuggling foreign currency out of India.', \"India's previous lowest ODI total in New Zealand was 108.\", 'Weeks after ex-CBI Director Alok Verma told the Department of Personnel and Training to consider him retired, the Home Ministry asked him to join work on the last day of his fixed tenure as Director on Thursday.', 'Andhra Pradesh CM N Chandrababu Naidu has said, \"When I met then US President Bill Clinton, I addressed him as Mr Clinton, not as \\'sir\\'.', \"Congress candidate Shafia Zubair won the Ramgarh Assembly seat in Rajasthan, by defeating BJP's Sukhwant Singh with a margin of 12,228 votes in the bypoll.\"]\n"
     ]
    }
   ],
   "source": [
    "print(summary)"
   ]
  },
  {
   "cell_type": "markdown",
   "id": "vanilla-association",
   "metadata": {},
   "source": [
    "# 요약 결과 비교\n",
    "\n",
    "| 추상적 요약 | 추출적 요약 | \n",
    "|:--------:|:--------:|\n",
    "| 추상적 요약 결과는 기대했던 것보다 엉망이었다.   아마 사용한 데이터가 용량은 많지만 각 문장이 짧기 때문이 아닐까 싶은데   더 긴 문장(예시: 논문) 등을 학습시키면 더 나은 결과를 내지 않을까 싶다 | 짧은 문장이나 기사를 요약하기에는 추출적 요약이 더 효과적인 것 같다.   이번 노드의 결과물만 비교하더라도 추출적 요약의 결과가 더 매끄러움을 알 수 있다 |\n"
   ]
  },
  {
   "cell_type": "markdown",
   "id": "periodic-tuner",
   "metadata": {},
   "source": [
    "# 후기  \n",
    "이번 노드는 익숙하지 않은 자연어 처리 노드였는데요, 예전에 ex4를 진행할 때의 기시감이 많이 올라왔습니다. 다만 다른 점이 있다면 조금 더 섬세하게 설명을 해주셨기 때문에 온전히 이해하지는 못해도 각 단계에 대한 굵직한 그림은 그릴 수 있게 되었습니다. lstm 모델의 기본 작동원리를 이해하지 못했기 때문에 카이스트에서 제공한 RNN과 LSRM에 대한 설명영상(https://www.youtube.com/watch?v=cs3tSnAsyRs&t=1988s)을 참고했습니다. 모델은 구현하는 정도로만 따라가고 이해에 중점을 두고 진행해봤어요. 어렵네요.\n"
   ]
  },
  {
   "cell_type": "code",
   "execution_count": null,
   "id": "requested-joseph",
   "metadata": {},
   "outputs": [],
   "source": []
  }
 ],
 "metadata": {
  "kernelspec": {
   "display_name": "aiffel",
   "language": "python",
   "name": "aiffel"
  },
  "language_info": {
   "codemirror_mode": {
    "name": "ipython",
    "version": 3
   },
   "file_extension": ".py",
   "mimetype": "text/x-python",
   "name": "python",
   "nbconvert_exporter": "python",
   "pygments_lexer": "ipython3",
   "version": "3.7.9"
  }
 },
 "nbformat": 4,
 "nbformat_minor": 5
}
