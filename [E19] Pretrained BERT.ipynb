{
 "cells": [
  {
   "cell_type": "markdown",
   "id": "aquatic-marriage",
   "metadata": {},
   "source": [
    "# 하는 중... 미리 제출"
   ]
  },
  {
   "cell_type": "code",
   "execution_count": null,
   "id": "above-father",
   "metadata": {},
   "outputs": [],
   "source": []
  }
 ],
 "metadata": {
  "kernelspec": {
   "display_name": "aiffel",
   "language": "python",
   "name": "aiffel"
  },
  "language_info": {
   "codemirror_mode": {
    "name": "ipython",
    "version": 3
   },
   "file_extension": ".py",
   "mimetype": "text/x-python",
   "name": "python",
   "nbconvert_exporter": "python",
   "pygments_lexer": "ipython3",
   "version": "3.7.9"
  }
 },
 "nbformat": 4,
 "nbformat_minor": 5
}
