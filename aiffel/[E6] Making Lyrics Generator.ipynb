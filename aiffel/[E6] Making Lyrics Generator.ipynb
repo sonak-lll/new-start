{
 "cells": [
  {
   "cell_type": "markdown",
   "id": "verbal-education",
   "metadata": {},
   "source": [
    "# 0. 환경설정\n",
    "이번 ex 에서는 rnn모델에 시퀀스가 있는 데이터를 학습시켜서 문장 출력기로 작동할 수 있도록 합니다. 작사가 인공지능을 만들기위해   \n",
    "각 가수별 txt파일을 만들어줍니다. 이 파일은 가사들의 모음집입니다.   \n",
    "raw_corpus라는 리스트를 생성한 후 파일 안에 있는 텍스트들을 읽어 리스트 안에 나열해줍니다.   \n",
    "우르는 이제 이 raw_corpus로 전처리를 진행할겁니다."
   ]
  },
  {
   "cell_type": "code",
   "execution_count": 1,
   "id": "viral-combining",
   "metadata": {},
   "outputs": [
    {
     "name": "stdout",
     "output_type": "stream",
     "text": [
      "데이터 크기: 187088\n",
      "Examples:\n",
      " ['\\ufeffThey call me Mr Carter I kissed the daughter', 'Of the deads forehead I killed the father', 'Spilled the heart of a mildew hater', 'I will put them body on chill like glaciers', 'Gracias Im crazy yes its obvious', 'Going against me is atheist', 'I got my angels on my shoulders and a quarter of that angel dust', 'I aint sniffin Im just pitchin ya honor I aint snitchin ya honor', 'Hate bitch niXgas bitches with power', 'Vacate when the kitchen get hotter']\n"
     ]
    }
   ],
   "source": [
    "import glob\n",
    "import os\n",
    "import re\n",
    "import tensorflow as tf\n",
    "\n",
    "txt_file_path = os.getenv('HOME')+'/aiffel/lyricist/data/lyrics/*' #파일을 불러옵니다\n",
    "\n",
    "txt_list = glob.glob(txt_file_path)\n",
    "\n",
    "raw_corpus = []  #raw_corpus라는 리스트 생성 후 txt파일을 읽어서 리스트 안에 담습니다\n",
    "\n",
    "for txt_file in txt_list:              #파일 안에 있는 \n",
    "    with open(txt_file, \"r\") as f:\n",
    "        raw = f.read().splitlines()\n",
    "        raw_corpus.extend(raw)\n",
    "\n",
    "print(\"데이터 크기:\", len(raw_corpus))\n",
    "print(\"Examples:\\n\", raw_corpus[:10])"
   ]
  },
  {
   "cell_type": "markdown",
   "id": "narrow-george",
   "metadata": {},
   "source": [
    "# 1. 데이터 정제\n",
    "\n",
    "데이터 전처리 과정을 진행합니다. \n",
    "**preprocess_sentence 라는 함수를 정의해서 필요 없는 내용들을 제거해줍니다.**    \n",
    "<start>와 <end>라는 특수한 토큰도 추가하여 언어모델이 학습하기 편하도록 가공해줍니다."
   ]
  },
  {
   "cell_type": "code",
   "execution_count": 2,
   "id": "radio-aerospace",
   "metadata": {},
   "outputs": [
    {
     "name": "stdout",
     "output_type": "stream",
     "text": [
      "<start> this is sample sentence . <end>\n"
     ]
    }
   ],
   "source": [
    "def preprocess_sentence(sentence):\n",
    "    sentence = sentence.lower().strip()   # 소문자로 바꾸고 양쪽 공백을 삭제\n",
    "  \n",
    "    # 아래 3단계를 거쳐 sentence는 스페이스 1개를 delimeter로 하는 소문자 단어 시퀀스로 바뀝니다.\n",
    "    sentence = re.sub(r\"([?.!,¿])\", r\" \\1 \", sentence)      # 패턴의 특수문자를 만나면 특수문자 양쪽에 공백을 추가\n",
    "    sentence = re.sub(r'[\" \"]+', \" \", sentence)             # 공백 패턴을 만나면 스페이스 1개로 치환\n",
    "    sentence = re.sub(r\"[^a-zA-Z?.!,¿]+\", \" \", sentence)  # a-zA-Z?.!,¿ 패턴을 제외한 모든 문자(공백문자까지도)를 스페이스 1개로 치환\n",
    "\n",
    "    sentence = sentence.strip()\n",
    "\n",
    "    sentence = '<start> ' + sentence + ' <end>'  # 이전 스텝에서 본 것처럼 문장 앞뒤로 <start>와 <end>를 단어처럼 붙여 줍니다\n",
    "    \n",
    "    return sentence\n",
    "\n",
    "print(preprocess_sentence(\"This @_is ;;;sample        sentence.\"))   # 이 문장이 어떻게 필터링되는지 확인해 보세요."
   ]
  },
  {
   "cell_type": "code",
   "execution_count": 3,
   "id": "aging-white",
   "metadata": {},
   "outputs": [
    {
     "data": {
      "text/plain": [
       "['<start> they call me mr carter i kissed the daughter <end>',\n",
       " '<start> of the deads forehead i killed the father <end>',\n",
       " '<start> spilled the heart of a mildew hater <end>',\n",
       " '<start> i will put them body on chill like glaciers <end>',\n",
       " '<start> gracias im crazy yes its obvious <end>',\n",
       " '<start> going against me is atheist <end>',\n",
       " '<start> i got my angels on my shoulders and a quarter of that angel dust <end>',\n",
       " '<start> i aint sniffin im just pitchin ya honor i aint snitchin ya honor <end>',\n",
       " '<start> hate bitch nixgas bitches with power <end>',\n",
       " '<start> vacate when the kitchen get hotter <end>']"
      ]
     },
     "execution_count": 3,
     "metadata": {},
     "output_type": "execute_result"
    }
   ],
   "source": [
    "#corpus라는 빈 리스트를 생성하여 위에서 정의한 함수를 실행해 차례로 넣어줍니다. \n",
    "corpus = []\n",
    "\n",
    "for sentence in raw_corpus:\n",
    "    if len(sentence) == 0: continue\n",
    "    if sentence[-1] == \":\": continue\n",
    "        \n",
    "    corpus.append(preprocess_sentence(sentence))\n",
    "        \n",
    "corpus[:10]"
   ]
  },
  {
   "cell_type": "code",
   "execution_count": 4,
   "id": "computational-african",
   "metadata": {},
   "outputs": [
    {
     "name": "stdout",
     "output_type": "stream",
     "text": [
      "[[   2   45  154 ...    0    0    0]\n",
      " [   2   19    6 ...    0    0    0]\n",
      " [   2 4811    6 ...    0    0    0]\n",
      " ...\n",
      " [   2   75   46 ...    3    0    0]\n",
      " [   2   49    4 ...    0    0    0]\n",
      " [   2   13  635 ...    0    0    0]] <keras_preprocessing.text.Tokenizer object at 0x7f0fd0f8f450>\n"
     ]
    }
   ],
   "source": [
    "#벡터화\n",
    "def tokenize(corpus):\n",
    "    # 텐서플로우에서 제공하는 Tokenizer 패키지를 생성\n",
    "    tokenizer = tf.keras.preprocessing.text.Tokenizer(\n",
    "        num_words=12000, # 전체 단어의 개수 \n",
    "        filters=' ',    # 별도로 전처리 로직을 추가할 수 있습니다. 이번에는 사용하지 않겠습니다.\n",
    "        oov_token=\"<unk>\"  # out-of-vocabulary, 사전에 없었던 단어는 어떤 토큰으로 대체할지\n",
    "    )\n",
    "    tokenizer.fit_on_texts(corpus)   # 우리가 구축한 corpus로부터 Tokenizer가 사전을 자동구축하게 됩니다.\n",
    "\n",
    "    # 이후 tokenizer를 활용하여 모델에 입력할 데이터셋을 구축하게 됩니다.\n",
    "    tensor = tokenizer.texts_to_sequences(corpus)   # tokenizer는 구축한 사전으로부터 corpus를 해석해 Tensor로 변환합니다.\n",
    "    \n",
    "    a = []\n",
    "    for i in tensor:\n",
    "        if len(i) < 16:\n",
    "            a.append(i)\n",
    "    \n",
    "\n",
    "    # 입력 데이터의 시퀀스 길이를 일정하게 맞추기 위한 padding  메소드를 제공합니다.\n",
    "    # maxlen의 디폴트값은 None입니다. 이 경우 corpus의 가장 긴 문장을 기준으로 시퀀스 길이가 맞춰집니다.\n",
    "    tensor = tf.keras.preprocessing.sequence.pad_sequences(a, padding='post', maxlen=15, truncating='post')\n",
    "    \n",
    "    print(tensor,tokenizer)\n",
    "    return tensor, tokenizer\n",
    "\n",
    "tensor, tokenizer = tokenize(corpus)"
   ]
  },
  {
   "cell_type": "markdown",
   "id": "complimentary-plaintiff",
   "metadata": {},
   "source": [
    " ```maxlen```의 디폴트값이 None이기 때문에 maxlen=15에 맞춰 시퀀스를 잘라줍니다.     \n",
    " ```truncating='post'```설정해주면 뒷 부분의 패딩을 길이 15에 맞춰 잘라주지 않을까했는데 우리 눈에 보이는 데이터 값만 줄어들었지\n",
    " 실질  데이터는 줄어들지 않았습니다."
   ]
  },
  {
   "cell_type": "markdown",
   "id": "daily-letters",
   "metadata": {},
   "source": [
    "import pandas as pd #판다스를 불러와서 데이터를 살펴볼 수 있을까요. 이미 토큰화된 데이터라 의미가 없을까요.\n",
    "se = tensor\n",
    "raw_corpus.head\n",
    "\n",
    "tensor도 raw_corpus도 list라 head를 생성할 수 없다고 뜨네요.그럼 데이터를 어떻게 뜯어보고 문장 길이가 15 이상인 데이터를 지울 수 있을까요\n",
    "\n",
    "```python\n",
    "a = []\n",
    "    for i in tensor:\n",
    "        if len(i) < 16:\n",
    "            a.append(i)\n",
    "```\n",
    "       \n",
    "이렇게 a라는 리스트를 생성해 준 후 for문을 사용하여 tensor중 전체 길이가 15이하인 자료들만 모아 a안에 나열해줍니다. "
   ]
  },
  {
   "cell_type": "code",
   "execution_count": 6,
   "id": "industrial-seeking",
   "metadata": {},
   "outputs": [
    {
     "name": "stdout",
     "output_type": "stream",
     "text": [
      "[   2   45  154   12  581 2474    5 1327    6  983    3    0    0    0]\n",
      "[  45  154   12  581 2474    5 1327    6  983    3    0    0    0    0]\n"
     ]
    }
   ],
   "source": [
    "src_input = tensor[:, :-1]  # tensor에서 마지막 토큰을 잘라내서 소스 문장을 생성합니다. 마지막 토큰은 <end>가 아니라 <pad>일 가능성이 높습니다.\n",
    "tgt_input = tensor[:, 1:]    # tensor에서 <start>를 잘라내서 타겟 문장을 생성합니다.\n",
    "\n",
    "print(src_input[0])\n",
    "print(tgt_input[0])"
   ]
  },
  {
   "cell_type": "markdown",
   "id": "soviet-person",
   "metadata": {},
   "source": [
    "# 2. 평가 데이터셋 분리\n",
    "훈련 데이터와 평가 데이터를 분리하세요!     \n",
    "\n",
    "tokenize() 함수로 데이터를 Tensor로 변환한 후, sklearn 모듈의 train_test_split() 함수를 사용해 훈련 데이터와 평가 데이터를 분리하도록 하겠습니다. 단어장의 크기는 12,000 이상으로 설정하세요! 총 데이터의 20%를 평가 데이터셋으로 사용해 주세요!     \n",
    "\n",
    "이 때  validation data도 설정해줍니다"
   ]
  },
  {
   "cell_type": "code",
   "execution_count": 17,
   "id": "revolutionary-banking",
   "metadata": {},
   "outputs": [
    {
     "name": "stdout",
     "output_type": "stream",
     "text": [
      "[[   2   45  154 ...    0    0    0]\n",
      " [   2   19    6 ...    0    0    0]\n",
      " [   2 4811    6 ...    0    0    0]\n",
      " ...\n",
      " [   2   75   46 ...  879    3    0]\n",
      " [   2   49    4 ...    0    0    0]\n",
      " [   2   13  635 ...    0    0    0]]\n"
     ]
    }
   ],
   "source": [
    "from sklearn.model_selection import train_test_split\n",
    "enc_train, enc_val, dec_train, dec_val = train_test_split(src_input, \n",
    "                                                          tgt_input, \n",
    "                                                          test_size=0.2,\n",
    "                                                          shuffle=True)\n",
    "print(src_input)\n",
    "\n"
   ]
  },
  {
   "cell_type": "code",
   "execution_count": 18,
   "id": "corrected-reunion",
   "metadata": {},
   "outputs": [
    {
     "name": "stdout",
     "output_type": "stream",
     "text": [
      "Source Train: (124810, 14)\n",
      "Target Train: (124810, 14)\n"
     ]
    }
   ],
   "source": [
    "print(\"Source Train:\", enc_train.shape)\n",
    "print(\"Target Train:\", dec_train.shape)"
   ]
  },
  {
   "cell_type": "code",
   "execution_count": 9,
   "id": "appointed-bones",
   "metadata": {},
   "outputs": [
    {
     "name": "stdout",
     "output_type": "stream",
     "text": [
      "(31203, 14)\n",
      "(31203, 14)\n"
     ]
    }
   ],
   "source": [
    "#validation_set 도 한번 확인해봅니다. 잘 나누어졌네요.\n",
    "print(enc_val.shape)\n",
    "print(dec_val.shape)"
   ]
  },
  {
   "cell_type": "code",
   "execution_count": 10,
   "id": "mechanical-blond",
   "metadata": {},
   "outputs": [
    {
     "data": {
      "text/plain": [
       "<BatchDataset shapes: ((256, 14), (256, 14)), types: (tf.int32, tf.int32)>"
      ]
     },
     "execution_count": 10,
     "metadata": {},
     "output_type": "execute_result"
    }
   ],
   "source": [
    "BUFFER_SIZE = len(src_input)\n",
    "BATCH_SIZE = 256\n",
    "steps_per_epoch = len(src_input) // BATCH_SIZE\n",
    "\n",
    "VOCAB_SIZE = tokenizer.num_words + 1   \n",
    "\n",
    "dataset = tf.data.Dataset.from_tensor_slices((src_input, tgt_input)).shuffle(BUFFER_SIZE)\n",
    "dataset = dataset.batch(BATCH_SIZE, drop_remainder=True)\n",
    "dataset"
   ]
  },
  {
   "cell_type": "markdown",
   "id": "nutritional-birth",
   "metadata": {},
   "source": [
    "# 3. 인공지능 만들기"
   ]
  },
  {
   "cell_type": "code",
   "execution_count": 11,
   "id": "careful-treaty",
   "metadata": {},
   "outputs": [],
   "source": [
    "class TextGenerator(tf.keras.Model):\n",
    "    def __init__(self, vocab_size, embedding_size, hidden_size):\n",
    "        super(TextGenerator, self).__init__()\n",
    "        \n",
    "        self.embedding = tf.keras.layers.Embedding(vocab_size, embedding_size)\n",
    "        self.rnn_1 = tf.keras.layers.LSTM(hidden_size, return_sequences=True)\n",
    "        self.rnn_2 = tf.keras.layers.LSTM(hidden_size, return_sequences=True)\n",
    "        self.linear = tf.keras.layers.Dense(vocab_size)\n",
    "        \n",
    "    def call(self, x):\n",
    "        out = self.embedding(x)\n",
    "        out = self.rnn_1(out)\n",
    "        out = self.rnn_2(out)\n",
    "        out = self.linear(out)\n",
    "        \n",
    "        return out\n",
    "    \n",
    "embedding_size = 50\n",
    "hidden_size = 500\n",
    "model = TextGenerator(tokenizer.num_words + 1, embedding_size , hidden_size)\n",
    "loss = tf.keras.losses.SparseCategoricalCrossentropy(\n",
    "    from_logits=True, reduction='none')"
   ]
  },
  {
   "cell_type": "code",
   "execution_count": 12,
   "id": "central-taylor",
   "metadata": {},
   "outputs": [
    {
     "data": {
      "text/plain": [
       "<tf.Tensor: shape=(256, 14, 12001), dtype=float32, numpy=\n",
       "array([[[-8.71564480e-05, -1.99784081e-05, -2.45842621e-05, ...,\n",
       "         -2.90441367e-05,  8.87276401e-05, -1.09521125e-06],\n",
       "        [-9.60817488e-05,  2.17306042e-05, -9.61165642e-05, ...,\n",
       "         -3.03258803e-05,  1.66635626e-04,  1.19243639e-04],\n",
       "        [-2.23834995e-05,  9.73667629e-05, -1.57360235e-04, ...,\n",
       "         -6.23051455e-05,  1.79317823e-04,  2.22541814e-04],\n",
       "        ...,\n",
       "        [ 6.92879257e-04,  4.13573260e-04, -5.13440231e-04, ...,\n",
       "         -1.68029583e-04, -6.57878481e-05,  3.50400485e-04],\n",
       "        [ 8.17462220e-04,  5.02296258e-04, -5.40322391e-04, ...,\n",
       "         -1.48559076e-04, -9.83860737e-05,  3.72344191e-04],\n",
       "        [ 9.25616245e-04,  5.88129915e-04, -5.59980283e-04, ...,\n",
       "         -1.28669140e-04, -1.22311627e-04,  3.97416647e-04]],\n",
       "\n",
       "       [[-8.71564480e-05, -1.99784081e-05, -2.45842621e-05, ...,\n",
       "         -2.90441367e-05,  8.87276401e-05, -1.09521125e-06],\n",
       "        [-2.17519206e-04, -1.14054630e-04,  5.80683773e-05, ...,\n",
       "         -1.07205073e-04,  1.37197407e-04,  5.59954242e-05],\n",
       "        [-2.70767516e-04, -1.33167501e-04,  1.26306957e-04, ...,\n",
       "         -1.70574815e-04,  1.62503042e-04,  6.60311780e-05],\n",
       "        ...,\n",
       "        [-3.44691303e-04, -2.98364233e-04, -3.72792529e-05, ...,\n",
       "         -7.74910677e-06, -1.89997460e-04,  1.10882356e-04],\n",
       "        [-1.99049464e-04, -2.71839264e-04, -1.19999160e-04, ...,\n",
       "         -3.63997169e-05, -2.21131020e-04,  1.19549200e-04],\n",
       "        [-3.25704204e-05, -2.09979407e-04, -2.05029937e-04, ...,\n",
       "         -5.05747703e-05, -2.47778196e-04,  1.39354364e-04]],\n",
       "\n",
       "       [[-8.71564480e-05, -1.99784081e-05, -2.45842621e-05, ...,\n",
       "         -2.90441367e-05,  8.87276401e-05, -1.09521125e-06],\n",
       "        [-2.50326120e-04, -9.42410697e-05,  5.17067383e-05, ...,\n",
       "         -8.33838058e-05,  1.31587221e-04,  2.55261857e-05],\n",
       "        [-3.33551172e-04, -1.57992457e-04,  8.21590365e-05, ...,\n",
       "         -1.29752152e-05,  8.74130928e-05,  1.38769828e-04],\n",
       "        ...,\n",
       "        [-6.18407357e-05, -6.83141334e-05, -2.49152043e-04, ...,\n",
       "         -6.51424416e-05,  2.69775424e-04, -2.04140961e-05],\n",
       "        [ 9.25818895e-05, -7.61285846e-05, -3.33106436e-04, ...,\n",
       "         -9.02804604e-05,  1.95912391e-04, -3.12200655e-06],\n",
       "        [ 2.62328365e-04, -5.88308867e-05, -4.08393156e-04, ...,\n",
       "         -1.13796901e-04,  1.20633529e-04,  1.87452715e-05]],\n",
       "\n",
       "       ...,\n",
       "\n",
       "       [[-8.71564480e-05, -1.99784081e-05, -2.45842621e-05, ...,\n",
       "         -2.90441367e-05,  8.87276401e-05, -1.09521125e-06],\n",
       "        [-1.02425001e-04,  2.28084646e-05, -7.74486034e-05, ...,\n",
       "         -5.03454539e-05,  1.51968881e-04,  5.81044842e-05],\n",
       "        [-3.03971410e-05,  2.85886799e-05, -1.45158760e-04, ...,\n",
       "         -6.99851807e-05,  1.51492713e-04,  1.09353045e-04],\n",
       "        ...,\n",
       "        [ 3.26882524e-04,  8.21721187e-05, -1.78167989e-04, ...,\n",
       "         -2.60388275e-04, -9.89798718e-05,  9.95982773e-05],\n",
       "        [ 4.77359717e-04,  1.78774659e-04, -2.61463574e-04, ...,\n",
       "         -2.49699777e-04, -1.52058288e-04,  1.28683343e-04],\n",
       "        [ 6.17286249e-04,  2.81664019e-04, -3.32476862e-04, ...,\n",
       "         -2.29834477e-04, -1.93797343e-04,  1.66416197e-04]],\n",
       "\n",
       "       [[-8.71564480e-05, -1.99784081e-05, -2.45842621e-05, ...,\n",
       "         -2.90441367e-05,  8.87276401e-05, -1.09521125e-06],\n",
       "        [-7.64214710e-05, -2.54364968e-05, -4.56798043e-05, ...,\n",
       "         -6.11472133e-05,  6.09632698e-05,  5.60273984e-05],\n",
       "        [-1.85443510e-04, -7.77555470e-05, -7.22689174e-06, ...,\n",
       "         -1.05371975e-04,  1.93731874e-04, -4.53780012e-05],\n",
       "        ...,\n",
       "        [-5.49724209e-04, -3.00496118e-04, -2.44792318e-04, ...,\n",
       "          4.66546917e-04,  1.73797263e-04,  1.98050984e-04],\n",
       "        [-5.11992897e-04, -3.78903380e-04, -2.20904651e-04, ...,\n",
       "          4.39692813e-04,  1.25172985e-04,  1.59085219e-04],\n",
       "        [-6.82691985e-04, -4.49966406e-04, -1.18527583e-04, ...,\n",
       "          4.60365001e-04,  7.74841683e-05,  1.07825304e-04]],\n",
       "\n",
       "       [[-8.71564480e-05, -1.99784081e-05, -2.45842621e-05, ...,\n",
       "         -2.90441367e-05,  8.87276401e-05, -1.09521125e-06],\n",
       "        [-2.50326120e-04, -9.42410697e-05,  5.17067383e-05, ...,\n",
       "         -8.33838058e-05,  1.31587221e-04,  2.55261857e-05],\n",
       "        [-3.33551172e-04, -1.57992457e-04,  8.21590365e-05, ...,\n",
       "         -1.29752152e-05,  8.74130928e-05,  1.38769828e-04],\n",
       "        ...,\n",
       "        [-4.50418389e-04,  2.01882824e-04,  2.88398704e-04, ...,\n",
       "          3.80353187e-04,  2.36999549e-04,  1.54973473e-04],\n",
       "        [-4.70284489e-04,  1.13485003e-04,  2.66439194e-04, ...,\n",
       "          2.65883078e-04,  1.94758424e-04,  1.60409603e-04],\n",
       "        [-3.92734364e-04,  3.74700612e-05,  1.88579725e-04, ...,\n",
       "          1.17048439e-04,  1.53998713e-04,  1.55044487e-04]]],\n",
       "      dtype=float32)>"
      ]
     },
     "execution_count": 12,
     "metadata": {},
     "output_type": "execute_result"
    }
   ],
   "source": [
    "for src_sample, tgt_sample in dataset.take(1): break\n",
    "model(src_sample)"
   ]
  },
  {
   "cell_type": "code",
   "execution_count": 13,
   "id": "clear-alpha",
   "metadata": {},
   "outputs": [
    {
     "name": "stdout",
     "output_type": "stream",
     "text": [
      "Model: \"text_generator\"\n",
      "_________________________________________________________________\n",
      "Layer (type)                 Output Shape              Param #   \n",
      "=================================================================\n",
      "embedding (Embedding)        multiple                  600050    \n",
      "_________________________________________________________________\n",
      "lstm (LSTM)                  multiple                  1102000   \n",
      "_________________________________________________________________\n",
      "lstm_1 (LSTM)                multiple                  2002000   \n",
      "_________________________________________________________________\n",
      "dense (Dense)                multiple                  6012501   \n",
      "=================================================================\n",
      "Total params: 9,716,551\n",
      "Trainable params: 9,716,551\n",
      "Non-trainable params: 0\n",
      "_________________________________________________________________\n"
     ]
    }
   ],
   "source": [
    "model.summary()"
   ]
  },
  {
   "cell_type": "code",
   "execution_count": 14,
   "id": "bulgarian-eligibility",
   "metadata": {},
   "outputs": [
    {
     "name": "stdout",
     "output_type": "stream",
     "text": [
      "Epoch 1/30\n",
      "609/609 [==============================] - 36s 60ms/step - loss: 3.7054 - val_loss: 3.2651\n",
      "Epoch 2/30\n",
      "609/609 [==============================] - 36s 59ms/step - loss: 3.2040 - val_loss: 3.1085\n",
      "Epoch 3/30\n",
      "609/609 [==============================] - 35s 57ms/step - loss: 3.0631 - val_loss: 2.9722\n",
      "Epoch 4/30\n",
      "609/609 [==============================] - 35s 58ms/step - loss: 2.9493 - val_loss: 2.8718\n",
      "Epoch 5/30\n",
      "609/609 [==============================] - 34s 55ms/step - loss: 2.8593 - val_loss: 2.7895\n",
      "Epoch 6/30\n",
      "609/609 [==============================] - 34s 55ms/step - loss: 2.7846 - val_loss: 2.7198\n",
      "Epoch 7/30\n",
      "609/609 [==============================] - 34s 55ms/step - loss: 2.7197 - val_loss: 2.6594\n",
      "Epoch 8/30\n",
      "609/609 [==============================] - 34s 55ms/step - loss: 2.6605 - val_loss: 2.5996\n",
      "Epoch 9/30\n",
      "609/609 [==============================] - 34s 55ms/step - loss: 2.6046 - val_loss: 2.5480\n",
      "Epoch 10/30\n",
      "609/609 [==============================] - 34s 55ms/step - loss: 2.5516 - val_loss: 2.4938\n",
      "Epoch 11/30\n",
      "609/609 [==============================] - 34s 55ms/step - loss: 2.5012 - val_loss: 2.4434\n",
      "Epoch 12/30\n",
      "609/609 [==============================] - 34s 55ms/step - loss: 2.4537 - val_loss: 2.3967\n",
      "Epoch 13/30\n",
      "609/609 [==============================] - 34s 56ms/step - loss: 2.4086 - val_loss: 2.3540\n",
      "Epoch 14/30\n",
      "609/609 [==============================] - 34s 55ms/step - loss: 2.3660 - val_loss: 2.3137\n",
      "Epoch 15/30\n",
      "609/609 [==============================] - 34s 55ms/step - loss: 2.3259 - val_loss: 2.2736\n",
      "Epoch 16/30\n",
      "609/609 [==============================] - 34s 55ms/step - loss: 2.2878 - val_loss: 2.2379\n",
      "Epoch 17/30\n",
      "609/609 [==============================] - 34s 55ms/step - loss: 2.2522 - val_loss: 2.2041\n",
      "Epoch 18/30\n",
      "609/609 [==============================] - 34s 55ms/step - loss: 2.2179 - val_loss: 2.1710\n",
      "Epoch 19/30\n",
      "609/609 [==============================] - 34s 55ms/step - loss: 2.1858 - val_loss: 2.1406\n",
      "Epoch 20/30\n",
      "609/609 [==============================] - 34s 55ms/step - loss: 2.1553 - val_loss: 2.1114\n",
      "Epoch 21/30\n",
      "609/609 [==============================] - 34s 55ms/step - loss: 2.1264 - val_loss: 2.0839\n",
      "Epoch 22/30\n",
      "609/609 [==============================] - 34s 55ms/step - loss: 2.0992 - val_loss: 2.0560\n",
      "Epoch 23/30\n",
      "609/609 [==============================] - 34s 55ms/step - loss: 2.0729 - val_loss: 2.0308\n",
      "Epoch 24/30\n",
      "609/609 [==============================] - 34s 55ms/step - loss: 2.0481 - val_loss: 2.0079\n",
      "Epoch 25/30\n",
      "609/609 [==============================] - 34s 55ms/step - loss: 2.0241 - val_loss: 1.9841\n",
      "Epoch 26/30\n",
      "609/609 [==============================] - 34s 55ms/step - loss: 2.0010 - val_loss: 1.9609\n",
      "Epoch 27/30\n",
      "609/609 [==============================] - 34s 55ms/step - loss: 1.9789 - val_loss: 1.9394\n",
      "Epoch 28/30\n",
      "609/609 [==============================] - 35s 58ms/step - loss: 1.9575 - val_loss: 1.9182\n",
      "Epoch 29/30\n",
      "609/609 [==============================] - 36s 59ms/step - loss: 1.9370 - val_loss: 1.9000\n",
      "Epoch 30/30\n",
      "609/609 [==============================] - 34s 55ms/step - loss: 1.9168 - val_loss: 1.8817\n"
     ]
    },
    {
     "data": {
      "text/plain": [
       "<tensorflow.python.keras.callbacks.History at 0x7f0fc02b24d0>"
      ]
     },
     "execution_count": 14,
     "metadata": {},
     "output_type": "execute_result"
    }
   ],
   "source": [
    "#model을 학습시킵니다. validation loss도 확인해줍니다. 원하는 대로 2.2 이하로 나오네요\n",
    "optimizer = tf.keras.optimizers.Adam()\n",
    "loss = tf.keras.losses.SparseCategoricalCrossentropy(\n",
    "    from_logits=True,\n",
    "    reduction='none'\n",
    ")\n",
    "\n",
    "model.compile(loss=loss, optimizer=optimizer)\n",
    "model.fit(dataset, epochs=30, verbose=1, validation_data=(enc_val, dec_val))\n",
    "                    \n"
   ]
  },
  {
   "cell_type": "code",
   "execution_count": 15,
   "id": "integrated-pierre",
   "metadata": {},
   "outputs": [],
   "source": [
    "def generate_text(model, tokenizer, init_sentence=\"<start>\", max_len=20):\n",
    "    # 테스트를 위해서 입력받은 init_sentence도 일단 텐서로 변환합니다.\n",
    "    test_input = tokenizer.texts_to_sequences([init_sentence])\n",
    "    test_tensor = tf.convert_to_tensor(test_input, dtype=tf.int64)\n",
    "    end_token = tokenizer.word_index[\"<end>\"]\n",
    "\n",
    "    # 텍스트를 실제로 생성할때는 루프를 돌면서 단어 하나씩 생성해야 합니다. \n",
    "    while True:\n",
    "        predict = model(test_tensor)  # 입력받은 문장의 텐서를 입력합니다. \n",
    "        predict_word = tf.argmax(tf.nn.softmax(predict, axis=-1), axis=-1)[:, -1]   # 우리 모델이 예측한 마지막 단어가 바로 새롭게 생성한 단어가 됩니다. \n",
    "\n",
    "        # 우리 모델이 새롭게 예측한 단어를 입력 문장의 뒤에 붙여 줍니다. \n",
    "        test_tensor = tf.concat([test_tensor, \n",
    "                                                                 tf.expand_dims(predict_word, axis=0)], axis=-1)\n",
    "\n",
    "        # 우리 모델이 <end>를 예측했거나, max_len에 도달하지 않았다면  while 루프를 또 돌면서 다음 단어를 예측해야 합니다.\n",
    "        if predict_word.numpy()[0] == end_token: break\n",
    "        if test_tensor.shape[1] >= max_len: break\n",
    "\n",
    "    generated = \"\"\n",
    "    # 생성된 tensor 안에 있는 word index를 tokenizer.index_word 사전을 통해 실제 단어로 하나씩 변환합니다. \n",
    "    for word_index in test_tensor[0].numpy():\n",
    "        generated += tokenizer.index_word[word_index] + \" \"\n",
    "\n",
    "    return generated   # 이것이 최종적으로 모델이 생성한 자연어 문장입니다."
   ]
  },
  {
   "cell_type": "code",
   "execution_count": 16,
   "id": "middle-labor",
   "metadata": {},
   "outputs": [
    {
     "data": {
      "text/plain": [
       "'<start> he s a monster <end> '"
      ]
     },
     "execution_count": 16,
     "metadata": {},
     "output_type": "execute_result"
    }
   ],
   "source": [
    "#문장을 생성해봅니다.\n",
    "generate_text(model, tokenizer, init_sentence=\"<start> he\")"
   ]
  },
  {
   "cell_type": "markdown",
   "id": "industrial-greek",
   "metadata": {},
   "source": [
    "# 후기\n",
    "1. 가사 텍스트 생성 모델이 정상적으로 동작하는가?\n",
    "he's a monster 이라는 문장을 뽑아냈다. 다만 '가 전처리 중에 사라진 게 아쉽다.\n",
    "2. 데이터의 전처리와 데이터셋 구성 과정이 체계적으로 진행되었는가?\n",
    "-토크나이저 진행\n",
    "-총 데이터의 0.2를 평가 데이터셋으로 지정했다. 진행사항 중 enc_train, enc_val, dec_train, dec_val을 확인해볼 수 있다.\n",
    "-문장의 시퀀스 길이를 15로 맞춰주었고 길이가 긴 데이터는 삭제해주었다. 패딩은 Post로 넣어주었다.\n",
    "3. 텍스트 생성모델이 안정적으로 학습되었는가?\n",
    "val_loss: 1.8817를 얻었다.\n",
    "\n",
    "\n",
    "쉽지는 않았지만 결과물을 상상하면 흥미로웠다. rnn모델이 자체적으로 다음에 올 단어를 예측해서 문장을 뽑아내는게 신기하다.     \n",
    "GPT-2는 얼마나 많은 양의 텍스트를 학습한걸까. "
   ]
  }
 ],
 "metadata": {
  "kernelspec": {
   "display_name": "aiffel",
   "language": "python",
   "name": "aiffel"
  },
  "language_info": {
   "codemirror_mode": {
    "name": "ipython",
    "version": 3
   },
   "file_extension": ".py",
   "mimetype": "text/x-python",
   "name": "python",
   "nbconvert_exporter": "python",
   "pygments_lexer": "ipython3",
   "version": "3.7.9"
  }
 },
 "nbformat": 4,
 "nbformat_minor": 5
}
