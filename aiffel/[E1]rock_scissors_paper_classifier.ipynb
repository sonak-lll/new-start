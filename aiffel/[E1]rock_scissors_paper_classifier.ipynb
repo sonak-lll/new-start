{
 "cells": [
  {
   "cell_type": "markdown",
   "metadata": {},
   "source": [
    "## [나의 가위바위보 분류기 만들기]\n",
    "\n",
    "가위바위보 분류기를 처음으로 설계해보려 합니다.    아직 잘은 모르겠지만 노드들을 꼼꼼하게 읽어보며 필요한 하이퍼파라미터들을 수정하며 진행하려 합니다.   이번 태스크의 목표는 **딥러닝에 입문하기와 결과를 즐겨보기** 입니다\n"
   ]
  },
  {
   "cell_type": "markdown",
   "metadata": {},
   "source": [
    "### 0. 환경을 설정해줍니다   \n",
    "tensorflow에서 keras와    \n",
    "numpy를 불러와줍니다. "
   ]
  },
  {
   "cell_type": "code",
   "execution_count": 1,
   "metadata": {},
   "outputs": [],
   "source": [
    "import tensorflow as tf\n",
    "from tensorflow import keras\n",
    "import numpy as np"
   ]
  },
  {
   "cell_type": "markdown",
   "metadata": {},
   "source": [
    "###  1. 필요한 데이터를 준비합니다\n",
    "구글 [teachable machine](https://teachablemachine.withgoogle.com/) 페이지에서 가위, 바위, 보의 사진을 100장씩 찍어 각각 디렉토리를 형성해줍니다    (rock_scissor_paper의 하위 디렉토리로 scissor, rock, paper을 형성해줍니다.)   \n",
    "저는 제 손만 나오는 식으로 다양한 각도에서 찍어줬습니다. 제 사진들은 **test set**에 넣어줄 생각입니다.   \n",
    "\n",
    "디렉토리를 만들 때 사용하는 명령어는 ```$ mkdir -p```입니다.\n",
    "\n",
    "노드에서 강조한   -\"좋은 데이터가 좋은 결과를 낳는다는 것을 꼭 기억하세요!\" 라는 문구를 마음에 품고 진행합니다. \n"
   ]
  },
  {
   "cell_type": "markdown",
   "metadata": {},
   "source": [
    "### 2.데이터를 알맞은 크기로 줄여줍니다.   \n",
    "\n",
    "처음 다운로드 받은 데이터는 224x224 픽셀입니다. 이미지 크기를 28x28로 리사이징해서 학습시킬 계획입니다.    \n",
    "리사이징을 위해 **PIL라이브러리**를 사용합니다    \n",
    "```python\n",
    "!pip install pillow   \n",
    "\n",
    "from PIL import Image\n",
    "import os, glob\n",
    "```   \n",
    "로 PIL라이브러리를 다운로드 받은 후 불러와줍니다."
   ]
  },
  {
   "cell_type": "code",
   "execution_count": 2,
   "metadata": {},
   "outputs": [],
   "source": [
    "from PIL import Image\n",
    "import os, glob"
   ]
  },
  {
   "cell_type": "markdown",
   "metadata": {},
   "source": [
    "###### glob명령어로 가위 이미지가 저장된 폴더의 모든 jpg를 불러옵니다. \n",
    "\n",
    "```python\n",
    "import os\n",
    "image_dir_path = os.getenv(\"HOME\") + \"/rock_scissor_paper/scissor\"\n",
    "images=glob.glob(image_dir_path + \"/*.jpg\")\n",
    "```\n",
    "\n",
    "\n",
    "###### 28x28로 리사이징 해줍니다\n",
    "```python\n",
    "target_size=(28,28)\n",
    "for img in images:\n",
    "    old_img=Image.open(img)\n",
    "    new_img=old_img.resize(target_size,Image.ANTIALIAS)\n",
    "    new_img.save(img,\"JPEG\")\n",
    "    ```\n",
    "*같은 방식으로 rock과 paper도 리사이징 해줍니다*"
   ]
  },
  {
   "cell_type": "markdown",
   "metadata": {},
   "source": [
    "### 3. Train set 구성하기   \n",
    "train set을 구성해줍니다. 저는 다른 분들의 이미지를 추가로 불러와 총 10500장의 이미지를 데이터베이스에 포함시켜주었습니다.   \n",
    "(10500,28,28,3)으로 구성된 데이터 영역에 이미지 행렬을 복사해 넣어준 후 레이블링을 해줍니다.    \n",
    "0(가위)   \n",
    "1(바위)   \n",
    "2(보)    \n",
    "   \n",
    "**RGB이미지**이기 때문에 (10500,28,28,**3**)으로 코드를 수정해서 넣어줍니다."
   ]
  },
  {
   "cell_type": "code",
   "execution_count": 3,
   "metadata": {},
   "outputs": [
    {
     "name": "stdout",
     "output_type": "stream",
     "text": [
      "학습데이터(x_train)의 이미지 개수는 10200 입니다.\n",
      "x_train shape: (10500, 28, 28, 3)\n",
      "y_train shape: (10500,)\n"
     ]
    }
   ],
   "source": [
    "\n",
    "def load_data(img_path):\n",
    "    number_of_data=10500  #다른 분들이 올려주신 사진들을 다운받아서 총 10500개의 트레이닝 데이터를 학습시켰습니다. 근데 jpeg로 저장된 파일들이 300개가 전부 반영되지는 않았습니다.\n",
    "    img_size=28\n",
    "    color=3\n",
    "    imgs=np.zeros(number_of_data*img_size*img_size*color,dtype=np.int32).reshape(number_of_data,img_size,img_size,color)\n",
    "    labels=np.zeros(number_of_data,dtype=np.int32)\n",
    "\n",
    "    idx=0\n",
    "    for file in glob.iglob(img_path+'/scissor/*.jpg'):\n",
    "        img = np.array(Image.open(file),dtype=np.int32)\n",
    "        imgs[idx,:,:,:]=img    # 데이터 영역에 이미지 행렬을 복사\n",
    "        labels[idx]=0   \n",
    "        idx=idx+1\n",
    "\n",
    "    for file in glob.iglob(img_path+'/rock/*.jpg'):\n",
    "        img = np.array(Image.open(file),dtype=np.int32)\n",
    "        imgs[idx,:,:,:]=img    # 데이터 영역에 이미지 행렬을 복사\n",
    "        labels[idx]=1 \n",
    "        idx=idx+1       \n",
    "    \n",
    "    for file in glob.iglob(img_path+'/paper/*.jpg'):\n",
    "        img = np.array(Image.open(file),dtype=np.int32)\n",
    "        imgs[idx,:,:,:]=img    # 데이터 영역에 이미지 행렬을 복사\n",
    "        labels[idx]=2 \n",
    "        idx=idx+1\n",
    "        \n",
    "    print(\"학습데이터(x_train)의 이미지 개수는\",idx,\"입니다.\")\n",
    "    return imgs, labels\n",
    "\n",
    "image_dir_path = os.getenv(\"HOME\") + \"/rock_scissor_paper/train/\"\n",
    "(x_train, y_train)=load_data(image_dir_path)\n",
    "x_train_norm = x_train/255.0  \n",
    "\n",
    "print(\"x_train shape: {}\".format(x_train.shape))\n",
    "print(\"y_train shape: {}\".format(y_train.shape))  "
   ]
  },
  {
   "cell_type": "code",
   "execution_count": 4,
   "metadata": {
    "scrolled": true
   },
   "outputs": [
    {
     "name": "stdout",
     "output_type": "stream",
     "text": [
      "라벨:  0\n"
     ]
    },
    {
     "data": {
      "image/png": "[encoded data removed]",
      "text/plain": [
       "<Figure size 432x288 with 1 Axes>"
      ]
     },
     "metadata": {
      "needs_background": "light"
     },
     "output_type": "display_data"
    }
   ],
   "source": [
    "import matplotlib.pyplot as plt\n",
    "plt.imshow(x_train[0])\n",
    "print('라벨: ', y_train[0])"
   ]
  },
  {
   "cell_type": "markdown",
   "metadata": {},
   "source": [
    "#### 딥러닝 네트워크 모델을 확인해봅니다"
   ]
  },
  {
   "cell_type": "code",
   "execution_count": 5,
   "metadata": {},
   "outputs": [
    {
     "name": "stdout",
     "output_type": "stream",
     "text": [
      "Model: \"sequential\"\n",
      "_________________________________________________________________\n",
      "Layer (type)                 Output Shape              Param #   \n",
      "=================================================================\n",
      "conv2d (Conv2D)              (None, 26, 26, 16)        448       \n",
      "_________________________________________________________________\n",
      "max_pooling2d (MaxPooling2D) (None, 13, 13, 16)        0         \n",
      "_________________________________________________________________\n",
      "conv2d_1 (Conv2D)            (None, 11, 11, 32)        4640      \n",
      "_________________________________________________________________\n",
      "max_pooling2d_1 (MaxPooling2 (None, 5, 5, 32)          0         \n",
      "_________________________________________________________________\n",
      "flatten (Flatten)            (None, 800)               0         \n",
      "_________________________________________________________________\n",
      "dense (Dense)                (None, 128)               102528    \n",
      "_________________________________________________________________\n",
      "dense_1 (Dense)              (None, 3)                 387       \n",
      "=================================================================\n",
      "Total params: 108,003\n",
      "Trainable params: 108,003\n",
      "Non-trainable params: 0\n",
      "_________________________________________________________________\n"
     ]
    }
   ],
   "source": [
    "model=keras.models.Sequential()\n",
    "model.add(keras.layers.Conv2D(16, (3,3), activation='relu', input_shape=(28,28,3)))\n",
    "model.add(keras.layers.MaxPool2D(2,2))\n",
    "model.add(keras.layers.Conv2D(32, (3,3), activation='relu'))\n",
    "model.add(keras.layers.MaxPooling2D((2,2)))\n",
    "model.add(keras.layers.Flatten())\n",
    "model.add(keras.layers.Dense(128, activation='relu'))\n",
    "model.add(keras.layers.Dense(3, activation='softmax'))\n",
    "model.summary()"
   ]
  },
  {
   "cell_type": "markdown",
   "metadata": {},
   "source": [
    "### 네트워크를 학습시킵니다    \n",
    "모델 입력 형태가 ```x_train_reshape```이니 그에 맞춰  model.fit을 사용합니다.    \n",
    "10,500의 데이터를 총 10번 학습시켰습니다.   accuracy가 0.9964까지 올라가네요."
   ]
  },
  {
   "cell_type": "code",
   "execution_count": 6,
   "metadata": {},
   "outputs": [
    {
     "name": "stdout",
     "output_type": "stream",
     "text": [
      "Epoch 1/10\n",
      "329/329 [==============================] - 1s 3ms/step - loss: 7.1416 - accuracy: 0.5148\n",
      "Epoch 2/10\n",
      "329/329 [==============================] - 1s 3ms/step - loss: 0.4597 - accuracy: 0.8159\n",
      "Epoch 3/10\n",
      "329/329 [==============================] - 1s 3ms/step - loss: 0.2802 - accuracy: 0.8968\n",
      "Epoch 4/10\n",
      "329/329 [==============================] - 1s 3ms/step - loss: 0.1320 - accuracy: 0.9544\n",
      "Epoch 5/10\n",
      "329/329 [==============================] - 1s 3ms/step - loss: 0.1207 - accuracy: 0.9581\n",
      "Epoch 6/10\n",
      "329/329 [==============================] - 1s 3ms/step - loss: 0.0836 - accuracy: 0.9732\n",
      "Epoch 7/10\n",
      "329/329 [==============================] - 1s 3ms/step - loss: 0.0540 - accuracy: 0.9827\n",
      "Epoch 8/10\n",
      "329/329 [==============================] - 1s 3ms/step - loss: 0.0672 - accuracy: 0.9764\n",
      "Epoch 9/10\n",
      "329/329 [==============================] - 1s 3ms/step - loss: 0.0240 - accuracy: 0.9929\n",
      "Epoch 10/10\n",
      "329/329 [==============================] - 1s 3ms/step - loss: 0.0697 - accuracy: 0.9799\n"
     ]
    },
    {
     "data": {
      "text/plain": [
       "<tensorflow.python.keras.callbacks.History at 0x7f5cdb09c990>"
      ]
     },
     "execution_count": 6,
     "metadata": {},
     "output_type": "execute_result"
    }
   ],
   "source": [
    "model.compile(optimizer='adam',\n",
    "             loss='sparse_categorical_crossentropy',\n",
    "             metrics=['accuracy'])\n",
    "\n",
    "model.fit(x_train, y_train, epochs=10)"
   ]
  },
  {
   "cell_type": "markdown",
   "metadata": {},
   "source": [
    "### Test set 구성하기   \n",
    "train set과 같은 방법으로 test set을 구성해줍니다. test set에는 총 600개의 데이터가 포함되어 있습니다. "
   ]
  },
  {
   "cell_type": "code",
   "execution_count": 7,
   "metadata": {
    "scrolled": true
   },
   "outputs": [
    {
     "name": "stdout",
     "output_type": "stream",
     "text": [
      "학습데이터(x_test)의 이미지 개수는 600 입니다.\n",
      "x_test shape: (600, 28, 28, 3)\n",
      "y_test shape: (600,)\n"
     ]
    }
   ],
   "source": [
    "def load_data(img_path):\n",
    "    number_of_data=600  \n",
    "    img_size=28\n",
    "    color=3\n",
    "    imgs=np.zeros(number_of_data*img_size*img_size*color,dtype=np.int32).reshape(number_of_data,img_size,img_size,color)\n",
    "    labels=np.zeros(number_of_data,dtype=np.int32)\n",
    "\n",
    "    idx=0\n",
    "    for file in glob.iglob(img_path+'/scissor/*.jpg'):\n",
    "        img = np.array(Image.open(file),dtype=np.int32)\n",
    "        imgs[idx,:,:,:]=img     \n",
    "        labels[idx]=0  \n",
    "        idx=idx+1\n",
    "\n",
    "    for file in glob.iglob(img_path+'/rock/*.jpg'):\n",
    "        img = np.array(Image.open(file),dtype=np.int32)\n",
    "        imgs[idx,:,:,:]=img    \n",
    "        labels[idx]=1   \n",
    "        idx=idx+1       \n",
    "    \n",
    "    for file in glob.iglob(img_path+'/paper/*.jpg'):\n",
    "        img = np.array(Image.open(file),dtype=np.int32)\n",
    "        imgs[idx,:,:,:]=img    \n",
    "        labels[idx]=2   \n",
    "        idx=idx+1\n",
    "        \n",
    "    print(\"학습데이터(x_test)의 이미지 개수는\",idx,\"입니다.\")\n",
    "    return imgs, labels\n",
    "\n",
    "image_dir_path = os.getenv(\"HOME\") + \"/rock_scissor_paper/test/\"\n",
    "(x_test, y_test)=load_data(image_dir_path)\n",
    "x_test_norm = x_test/255.0   \n",
    "\n",
    "print(\"x_test shape: {}\".format(x_test.shape))\n",
    "print(\"y_test shape: {}\".format(y_test.shape))"
   ]
  },
  {
   "cell_type": "code",
   "execution_count": 8,
   "metadata": {},
   "outputs": [
    {
     "name": "stdout",
     "output_type": "stream",
     "text": [
      "라벨:  0\n"
     ]
    },
    {
     "data": {
      "image/png": "[encoded data removed]",
      "text/plain": [
       "<Figure size 432x288 with 1 Axes>"
      ]
     },
     "metadata": {
      "needs_background": "light"
     },
     "output_type": "display_data"
    }
   ],
   "source": [
    "import matplotlib.pyplot as plt\n",
    "plt.imshow(x_test[0])\n",
    "print('라벨: ', y_test[0])"
   ]
  },
  {
   "cell_type": "markdown",
   "metadata": {},
   "source": [
    "### TEST 데이터로 문제 풀어보기    \n",
    "지금까지 만들었던 Train data로 Test set을 돌려봅니다. 잘 돌아갈까요?   \n",
    "우리에게 필요한 레이블 값은 가위, 바위, 보로 총 3개이니 ```model.add(keras.layers.Dense(3, activation='softmax'))```로 데이터 값이 3이 맞는지 확인해줍니다.\n"
   ]
  },
  {
   "cell_type": "code",
   "execution_count": 9,
   "metadata": {
    "scrolled": true
   },
   "outputs": [
    {
     "name": "stdout",
     "output_type": "stream",
     "text": [
      "19/19 - 0s - loss: 1.1023 - accuracy: 0.6917\n",
      "test_loss: 1.1022770404815674 \n",
      "test_accuracy: 0.6916666626930237\n"
     ]
    }
   ],
   "source": [
    "model.compile(optimizer='adam',\n",
    "             loss='sparse_categorical_crossentropy',\n",
    "             metrics=['accuracy'])\n",
    "\n",
    "test_loss, test_accuracy = model.evaluate(x_test,y_test, verbose=2)\n",
    "print(\"test_loss: {} \".format(test_loss))\n",
    "print(\"test_accuracy: {}\".format(test_accuracy))\n"
   ]
  },
  {
   "cell_type": "markdown",
   "metadata": {},
   "source": [
    "### 네트워크 성능 올리기"
   ]
  },
  {
   "cell_type": "markdown",
   "metadata": {},
   "source": [
    "load data 에서 nuber of data 값을 600으로 설정했는데 실질적인 test set의 사진 갯수는 300개일 때 accuracy가 0.6667까지 올라갔었다.    왜 이러나 고민을 해봤는데 같은 데이터를 두번 돌리기 때문에 정확도가 두배가 되었던 것 같다.    생각보다 accuracy를 올리기가 어려운 것 같다. "
   ]
  },
  {
   "cell_type": "markdown",
   "metadata": {},
   "source": [
    "##### 다양한 시도들\n",
    "\n",
    "\n",
    "- 12, 24, 120 => 0.4683    \n",
    "- 12, 24, 64 => 0.3333\n",
    "- train set의 epoch 값을 10에서 20으로 늘려봤다. 19부터 정확도가 떨어지기 시작하여 18로 수정했다.     \n",
    "\n",
    "이 과정을 기록하기 전부터 n번 반복했는데 0.3333의 늪에 빠졌다. 테스트 셋을 300개로 고정하고 다른 사람의 데이터로 교체하도 변화가 없다.\n",
    "\n",
    "- 트레인셋을 들여다봤다. 대부분의 사람들이 본인의 손을 찍어 올려주셨는데 어떤 분이 상반신 전체를 올려주셔서 그 분이 트레인 데이터를 오염시키는 것 같아 트레인셋에서 그 분의 데이터를 제외하고 다시 돌려봤다     \n",
    "\n",
    "- 12, 24, 64 => 0.3750    \n",
    "- 12, 24, 64 => 0.3333    \n",
    "- 12, 24, 120 => 0.3333   \n",
    "\n",
    "도저히 accuracy 값이 올라가지 않아서 train set 학습데이터를 확인해봤더니 학습 accuracy 값이 0.3724로 낮았다. \n",
    "- 재학습 후 0.9872  \n",
    "- epoch = 15 accuracy = 0.9861\n",
    "\n",
    "test set의 하이퍼파라미터를 재조정\n",
    "- 6, 12, 246 => 0.2950    \n",
    "- 32, 64, 64 => 0.3333\n",
    "- 32, 64, 6 => 0.3684       \n",
    "파라미터를 재조정하는 과정을 n번 거쳤으나 0.3점대에서 벗어나지 못함   \n",
    "- 6, 32, 12 => 0.3267\n",
    "- 6, 32, 64 => 0.3483\n",
    "\n",
    "## <실습 후에 얻은 질문들>\n",
    "#### Q. 왜 하이퍼파라미터 값을 조정하면 할 수록 값이 떨어질까요? \n",
    "#### Q. 수십번 시도 후에도 정확도를 올릴 수 없다면 시도할 수 있는 방법에는 무엇이 있을까요?"
   ]
  },
  {
   "cell_type": "markdown",
   "metadata": {},
   "source": [
    "## 문제해결\n",
    "\n",
    "```python\n",
    "model=keras.models.Sequential()\n",
    "model.add(keras.layers.Conv2D(16, (3,3), activation='relu', input_shape=(28,28,3)))\n",
    "model.add(keras.layers.MaxPool2D(2,2))\n",
    "model.add(keras.layers.Conv2D(32, (3,3), activation='relu'))\n",
    "model.add(keras.layers.MaxPooling2D((2,2)))\n",
    "model.add(keras.layers.Flatten())\n",
    "model.add(keras.layers.Dense(128, activation='relu'))\n",
    "model.add(keras.layers.Dense(3, activation='softmax'))\n",
    "model.summary()\n",
    "``` \n",
    "\n",
    "라는 구문을 test데이터 구성시에도 넣어뒀었다. 그리고 test set에서만 의미없는 반복 수정을 반복하고 있었는데(실질적으로 train에는 반영되지 않는 값) 그러니 절대로 accuracy가 높아질 수 없는 구조. 필요 없는 구문을 제거하고 처음부터 재학습시키니 **0.6917**이라는 아름다운 수치를 얻었다. 박수박수."
   ]
  },
  {
   "cell_type": "markdown",
   "metadata": {},
   "source": [
    "### 후기   \n",
    "- 온갖 하이퍼파라미터들을 변경해보고 트레인셋과 테스트셋에 넣은 데이터들도 변경해 보았으나 나의 accuracy는 최대 0.4683을 넘지 못했다. 하이퍼파라미터를 조정하면 할 수록 오히려 0.3333이라는 늪에 빠지는 것 같아서 고통스럽다. 개발자들이 딥러닝을 돌리기 전에 제사를 지내는 짤방 같은걸 본 적이 있는데 학습 결과는 정말 운에 달린것일까? 같은 조인 민규님은 3번만에 0.6점대가 나왔다고 해서 부러웠다. 나는 끝이 없는 감옥에 갇힌것 같아 괴롭다. 문제가 뭘까요?\n",
    "\n",
    "- 혼자 찾아보다 너무 모르겠어서 팀원분들에게 help를 요청했다. 내가 못 찾던 문제를 팀원분은 한번에 찾아봐서 역시 코딩은 맑은 정신에 해야하는구나. 오기가 생긴다고 4시간째 하이퍼파라미터들을 바꾸고 데이터를 수정하고 있었는데 답은 생각보다 간편한 곳에 있었다. 그래도 끝낼 수 있어 행복해요."
   ]
  }
 ],
 "metadata": {
  "kernelspec": {
   "display_name": "aiffel",
   "language": "python",
   "name": "aiffel"
  },
  "language_info": {
   "codemirror_mode": {
    "name": "ipython",
    "version": 3
   },
   "file_extension": ".py",
   "mimetype": "text/x-python",
   "name": "python",
   "nbconvert_exporter": "python",
   "pygments_lexer": "ipython3",
   "version": "3.7.9"
  }
 },
 "nbformat": 4,
 "nbformat_minor": 4
}
