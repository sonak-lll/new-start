{
 "cells": [
  {
   "cell_type": "markdown",
   "metadata": {},
   "source": [
    "# 14-1. 들어가며\n",
    "지난 시간에는 bAbI 태스크의 특징 및 이런 추론 태스크 수행에 적합한 메모리 네트워크의 개념에 대해 알아보았습니다.\n",
    "\n",
    "오늘은 메모리 네트워크의 가장 기본적 베이스라인으로 여겨지고 있는 End-to-End Memory Network를 구현해 보고, 이를 이용해서 bAbI 태스크를 직접 수행해 보도록 하겠습니다.\n",
    "\n",
    "학습 목표\n",
    "두 개 이상의 입력을 받는 모델을 설계해본다.\n",
    "메모리 구조를 사용하는 메모리 네트워크에 대해서 이해한다.\n"
   ]
  },
  {
   "cell_type": "code",
   "execution_count": 1,
   "metadata": {},
   "outputs": [],
   "source": [
    "from tensorflow.keras.utils import get_file\n",
    "from tensorflow.keras.preprocessing.sequence import pad_sequences\n",
    "from tensorflow.keras.utils import to_categorical\n",
    "import numpy as np\n",
    "import tarfile\n",
    "from nltk import FreqDist\n",
    "from functools import reduce\n",
    "import os\n",
    "import re"
   ]
  },
  {
   "cell_type": "code",
   "execution_count": 2,
   "metadata": {},
   "outputs": [
    {
     "name": "stdout",
     "output_type": "stream",
     "text": [
      "/home/aiffel-dj57/aiffel/babi_memory_net/babi-tasks-v1-2.tar.gz\n"
     ]
    }
   ],
   "source": [
    "# 환경에 맞게 경로 수정\n",
    "home_dir = os.getenv('HOME')+'/aiffel/babi_memory_net'\n",
    "file_to_save = home_dir + '/babi-tasks-v1-2.tar.gz'\n",
    "path = get_file(file_to_save, origin='https://s3.amazonaws.com/text-datasets/babi_tasks_1-20_v1-2.tar.gz')\n",
    "print(path)\n"
   ]
  },
  {
   "cell_type": "code",
   "execution_count": 3,
   "metadata": {},
   "outputs": [],
   "source": [
    "with tarfile.open(path) as tar:\n",
    "    tar.extractall(home_dir)  # ~/aiffel/babi_memory_net 아래에 압축해제\n",
    "    tar.close()"
   ]
  },
  {
   "cell_type": "code",
   "execution_count": 4,
   "metadata": {},
   "outputs": [],
   "source": [
    "# 환경에 맞게 경로 적절히 수정\n",
    "#훈련 데이터의 경로와 테스트 데이터의 경로를 지정해줍니다.\n",
    "DATA_DIR = home_dir + '/tasks_1-20_v1-2/en-10k'\n",
    "TRAIN_FILE = os.path.join(DATA_DIR, \"qa1_single-supporting-fact_train.txt\")\n",
    "TEST_FILE = os.path.join(DATA_DIR, \"qa1_single-supporting-fact_test.txt\")"
   ]
  },
  {
   "cell_type": "code",
   "execution_count": 5,
   "metadata": {},
   "outputs": [
    {
     "name": "stdout",
     "output_type": "stream",
     "text": [
      "1 Mary moved to the bathroom.\n",
      "2 John went to the hallway.\n",
      "3 Where is Mary? \tbathroom\t1\n",
      "4 Daniel went back to the hallway.\n",
      "5 Sandra moved to the garden.\n",
      "6 Where is Daniel? \thallway\t4\n",
      "7 John moved to the office.\n",
      "8 Sandra journeyed to the bathroom.\n",
      "9 Where is Daniel? \thallway\t4\n",
      "10 Mary moved to the hallway.\n",
      "11 Daniel travelled to the office.\n",
      "12 Where is Daniel? \toffice\t11\n",
      "13 John went back to the garden.\n",
      "14 John moved to the bedroom.\n",
      "15 Where is Sandra? \tbathroom\t8\n",
      "1 Sandra travelled to the office.\n",
      "2 Sandra went to the bathroom.\n",
      "3 Where is Sandra? \tbathroom\t2\n",
      "4 Mary went to the bedroom.\n",
      "5 Daniel moved to the hallway.\n"
     ]
    }
   ],
   "source": [
    "#훈련 데이터에서 20개의 문장을 출력해봅시다.\n",
    "\n",
    "i = 0\n",
    "lines = open(TRAIN_FILE , \"rb\")\n",
    "for line in lines:\n",
    "    line = line.decode(\"utf-8\").strip()\n",
    "    # lno, text = line.split(\" \", 1) # ID와 TEXT 분리\n",
    "    i = i + 1\n",
    "    print(line)\n",
    "    if i == 20:\n",
    "        break"
   ]
  },
  {
   "cell_type": "markdown",
   "metadata": {},
   "source": [
    "# 14-3. 데이터 전처리 (1) 기본 전처리\n",
    "이제 데이터 전처리를 진행합니다. 우선, 첫 번째 전처리는 데이터를 읽는 과정에서 스토리, 질문, 답변을 각각 분리해서 저장합니다. 그리고 이 과정에서 supporting fact(실제 정답이 몇번째 문장에 있었는지를 알려주는 인덱스 힌트정보)는 저장하지 않습니다."
   ]
  },
  {
   "cell_type": "code",
   "execution_count": 6,
   "metadata": {},
   "outputs": [],
   "source": [
    "def read_data(dir):\n",
    "    stories, questions, answers = [], [], [] # 각각 스토리, 질문, 답변을 저장할 예정\n",
    "    story_temp = [] # 현재 시점의 스토리 임시 저장\n",
    "    lines = open(dir, \"rb\")\n",
    "\n",
    "    for line in lines:\n",
    "        line = line.decode(\"utf-8\") # b' 제거\n",
    "        line = line.strip() # '\\n' 제거\n",
    "        idx, text = line.split(\" \", 1) # 맨 앞에 있는 id number 분리\n",
    "        # 여기까지는 모든 줄에 적용되는 전처리\n",
    "\n",
    "        if int(idx) == 1:\n",
    "            story_temp = []\n",
    "        \n",
    "        if \"\\t\" in text: # 현재 읽는 줄이 질문 (tab) 답변 (tab)인 경우\n",
    "            question, answer, _ = text.split(\"\\t\") # 질문과 답변을 각각 저장\n",
    "            stories.append([x for x in story_temp if x]) # 지금까지의 누적 스토리를 스토리에 저장\n",
    "            questions.append(question)\n",
    "            answers.append(answer)\n",
    "\n",
    "        else: # 현재 읽는 줄이 스토리인 경우\n",
    "            story_temp.append(text) # 임시 저장\n",
    "\n",
    "    lines.close()\n",
    "    return stories, questions, answers"
   ]
  },
  {
   "cell_type": "code",
   "execution_count": 7,
   "metadata": {},
   "outputs": [],
   "source": [
    "#read_data()를 통해 스토리, 질문, 답변의 쌍을 리턴하여 훈련 데이터는 train_data()에, 테스트 데이터는 test_data()에 저장합니다. \n",
    "#이 두 데이터를 가지고 추가적인 전처리를 진행할 예정입니다.\n",
    "\n",
    "train_data = read_data(TRAIN_FILE)\n",
    "test_data = read_data(TEST_FILE)"
   ]
  },
  {
   "cell_type": "code",
   "execution_count": 8,
   "metadata": {},
   "outputs": [],
   "source": [
    "#그런데 이렇게 저장하면 전처리가 정말 잘 되어있는지 확인하기 어렵겠죠? 그래서 스토리, 질문, 답변을 각각 저장하고 직접 출력해 보겠습니다.\n",
    "train_stories, train_questions, train_answers = read_data(TRAIN_FILE)\n",
    "test_stories, test_questions, test_answers = read_data(TEST_FILE)"
   ]
  },
  {
   "cell_type": "code",
   "execution_count": 9,
   "metadata": {},
   "outputs": [
    {
     "name": "stdout",
     "output_type": "stream",
     "text": [
      "train 스토리 개수: 10000\n",
      "train 질문 개수: 10000\n",
      "train 답변 개수: 10000\n",
      "test 스토리 개수: 1000\n",
      "test 질문 개수: 1000\n",
      "test 답변 개수: 1000\n"
     ]
    }
   ],
   "source": [
    "print(\"train 스토리 개수:\", len(train_stories))\n",
    "print(\"train 질문 개수:\", len(train_questions))\n",
    "print(\"train 답변 개수:\", len(train_answers))\n",
    "print(\"test 스토리 개수:\", len(test_stories))\n",
    "print(\"test 질문 개수:\", len(test_questions))\n",
    "print(\"test 답변 개수:\", len(test_answers))"
   ]
  },
  {
   "cell_type": "code",
   "execution_count": 10,
   "metadata": {},
   "outputs": [
    {
     "data": {
      "text/plain": [
       "['Daniel journeyed to the bathroom.',\n",
       " 'Sandra moved to the office.',\n",
       " 'John went to the kitchen.',\n",
       " 'Sandra moved to the bathroom.',\n",
       " 'Daniel moved to the hallway.',\n",
       " 'Mary travelled to the kitchen.',\n",
       " 'Daniel went to the kitchen.',\n",
       " 'Daniel travelled to the bathroom.']"
      ]
     },
     "execution_count": 10,
     "metadata": {},
     "output_type": "execute_result"
    }
   ],
   "source": [
    "train_stories[3878]"
   ]
  },
  {
   "cell_type": "code",
   "execution_count": 11,
   "metadata": {},
   "outputs": [
    {
     "data": {
      "text/plain": [
       "['Where is Mary? ',\n",
       " 'Where is Daniel? ',\n",
       " 'Where is Daniel? ',\n",
       " 'Where is Daniel? ',\n",
       " 'Where is Sandra? ']"
      ]
     },
     "execution_count": 11,
     "metadata": {},
     "output_type": "execute_result"
    }
   ],
   "source": [
    "train_questions[:5]"
   ]
  },
  {
   "cell_type": "code",
   "execution_count": 12,
   "metadata": {},
   "outputs": [
    {
     "data": {
      "text/plain": [
       "['bathroom', 'hallway', 'hallway', 'office', 'bathroom']"
      ]
     },
     "execution_count": 12,
     "metadata": {},
     "output_type": "execute_result"
    }
   ],
   "source": [
    "train_answers[:5]"
   ]
  },
  {
   "cell_type": "code",
   "execution_count": 13,
   "metadata": {},
   "outputs": [],
   "source": [
    "#토큰화를 위한 함수\n",
    "def tokenize(sent):\n",
    "     return [ x.strip() for x in re.sub(r\"\\s+|\\b\", '\\f', sent).split('\\f') if x.strip() ] # python 3.7의 경우 \n",
    "    # return [ x.strip() for x in re.split('(\\W+)?', sent) if x.strip()] # python 3.6의 경우"
   ]
  },
  {
   "cell_type": "markdown",
   "metadata": {},
   "source": [
    "이번 주요 전처리 작업은 단어장을 생성하고, 단어에서 정수로, 정수에서 단어로 맵핑하는 딕셔너리(dictionary)를 만드는 것입니다. 그리고 그 과정에서 스토리와 질문의 가장 긴 길이를 구하겠습니다. 이 길이는 패딩에 이용됩니다.\n",
    "\n",
    "한 가지 특이한 과정이 있습니다. 위처럼 전처리를 하면서 같은 스토리 내의 여러 문장들 하나의 문장으로 통합할 겁니다. 가령, 앞서 3,879번째 스토리는 8개의 문장으로 구성되어 있으나 전처리 과정에서 8개의 문장을 모두 이어 붙여서 1개의 문장으로 통합합니다."
   ]
  },
  {
   "cell_type": "code",
   "execution_count": 14,
   "metadata": {},
   "outputs": [],
   "source": [
    "def preprocess_data(train_data, test_data):\n",
    "    counter = FreqDist()\n",
    "    \n",
    "    # 두 문장의 story를 하나의 문장으로 통합하는 함수\n",
    "    flatten = lambda data: reduce(lambda x, y: x + y, data)\n",
    "\n",
    "    # 각 샘플의 길이를 저장하는 리스트\n",
    "    story_len = []\n",
    "    question_len = []\n",
    "    \n",
    "    for stories, questions, answers in [train_data, test_data]:\n",
    "        for story in stories:\n",
    "            stories = tokenize(flatten(story)) # 스토리의 문장들을 펼친 후 토큰화\n",
    "            story_len.append(len(stories)) # 각 story의 길이 저장\n",
    "            for word in stories: # 단어 집합에 단어 추가\n",
    "                counter[word] += 1\n",
    "        for question in questions:\n",
    "            question = tokenize(question)\n",
    "            question_len.append(len(question))\n",
    "            for word in question:\n",
    "                counter[word] += 1\n",
    "        for answer in answers:\n",
    "            answer = tokenize(answer)\n",
    "            for word in answer:\n",
    "                counter[word] += 1\n",
    "\n",
    "    # 단어장 생성\n",
    "    word2idx = {word : (idx + 1) for idx, (word, _) in enumerate(counter.most_common())}\n",
    "    idx2word = {idx : word for word, idx in word2idx.items()} #단어장 생성 코드 잘 이해가 안가는군\n",
    "\n",
    "    # 가장 긴 샘플의 길이\n",
    "    story_max_len = np.max(story_len)\n",
    "    question_max_len = np.max(question_len)\n",
    "\n",
    "    return word2idx, idx2word, story_max_len, question_max_len"
   ]
  },
  {
   "cell_type": "code",
   "execution_count": 15,
   "metadata": {},
   "outputs": [],
   "source": [
    "word2idx, idx2word, story_max_len, question_max_len = preprocess_data(train_data, test_data)"
   ]
  },
  {
   "cell_type": "code",
   "execution_count": 16,
   "metadata": {},
   "outputs": [
    {
     "name": "stdout",
     "output_type": "stream",
     "text": [
      "{'to': 1, 'the': 2, '.': 3, 'went': 4, 'Sandra': 5, 'John': 6, 'Daniel': 7, 'Mary': 8, 'travelled': 9, 'journeyed': 10, 'back': 11, 'bathroom': 12, 'garden': 13, 'hallway': 14, 'moved': 15, 'office': 16, 'kitchen': 17, 'bedroom': 18, 'Where': 19, 'is': 20, '?': 21}\n"
     ]
    }
   ],
   "source": [
    "print(word2idx)"
   ]
  },
  {
   "cell_type": "code",
   "execution_count": 17,
   "metadata": {},
   "outputs": [],
   "source": [
    "#실제 변수로 사용할 단어장의 크기는 패딩을 고려하여 +1 을 해주어야 합니다.\n",
    "\n",
    "vocab_size = len(word2idx) + 1"
   ]
  },
  {
   "cell_type": "code",
   "execution_count": 18,
   "metadata": {},
   "outputs": [
    {
     "name": "stdout",
     "output_type": "stream",
     "text": [
      "스토리의 최대 길이 : 68\n",
      "질문의 최대 길이 : 4\n"
     ]
    }
   ],
   "source": [
    "print('스토리의 최대 길이 :',story_max_len)\n",
    "print('질문의 최대 길이 :',question_max_len)"
   ]
  },
  {
   "cell_type": "markdown",
   "metadata": {},
   "source": [
    "# 14-4. 데이터 전처리 (2) 패딩, 정수 인코딩, 벡터화\n",
    "위에서 최대 길이를 구해놓은 이유는 패딩을 위함입니다.\n",
    "\n",
    "이제 남은 전처리는 크게 세 가지입니다.\n",
    "\n",
    "1. 현재 각 데이터는 전부 텍스트 데이터입니다. 이를 단어와 맵핑되는 정수로 인코딩해줍니다. 이 과정은 앞서 만들어놓은 word2idx를 활용합니다.\n",
    "2. 스토리와 질문 데이터에 대해서 각각의 최대 길이로 패딩(padding)합니다. 이 과정은 앞서 계산해놓은 story_max_len과 question_max_len을 사용합니다.\n",
    "3. 레이블에 해당되는 정답 데이터를 원-핫 인코딩합니다.\n",
    "아래의 vectorize() 함수는 위 세 가지 과정을 수행합니다."
   ]
  },
  {
   "cell_type": "code",
   "execution_count": 19,
   "metadata": {},
   "outputs": [],
   "source": [
    "def vectorize(data, word2idx, story_maxlen, question_maxlen):\n",
    "    Xs, Xq, Y = [], [], []\n",
    "    flatten = lambda data: reduce(lambda x, y: x + y, data)\n",
    "\n",
    "    stories, questions, answers = data\n",
    "    for story, question, answer in zip(stories, questions, answers):\n",
    "        xs = [word2idx[w] for w in tokenize(flatten(story))]\n",
    "        xq = [word2idx[w] for w in tokenize(question)]\n",
    "        Xs.append(xs)\n",
    "        Xq.append(xq)\n",
    "        Y.append(word2idx[answer])\n",
    "\n",
    "    # 스토리와 질문은 각각의 최대 길이로 패딩\n",
    "    # 정답은 원-핫 인코딩\n",
    "    return pad_sequences(Xs, maxlen=story_maxlen),\\\n",
    "           pad_sequences(Xq, maxlen=question_maxlen),\\\n",
    "           to_categorical(Y, num_classes=len(word2idx) + 1)"
   ]
  },
  {
   "cell_type": "code",
   "execution_count": 20,
   "metadata": {},
   "outputs": [],
   "source": [
    "#훈련 데이터와 테스트 데이터에 대해서 함수를 호출하여 이를 수행합니다.\n",
    "Xstrain, Xqtrain, Ytrain = vectorize(train_data, word2idx, story_max_len, question_max_len)\n",
    "Xstest, Xqtest, Ytest = vectorize(test_data, word2idx, story_max_len, question_max_len)"
   ]
  },
  {
   "cell_type": "code",
   "execution_count": 21,
   "metadata": {},
   "outputs": [
    {
     "name": "stdout",
     "output_type": "stream",
     "text": [
      "(10000, 68) (10000, 4) (10000, 22) (1000, 68) (1000, 4) (1000, 22)\n"
     ]
    }
   ],
   "source": [
    "print(Xstrain.shape, Xqtrain.shape, Ytrain.shape, Xstest.shape, Xqtest.shape, Ytest.shape)"
   ]
  },
  {
   "cell_type": "markdown",
   "metadata": {},
   "source": [
    "# 14-5. 메모리 네트워크 구현하기"
   ]
  },
  {
   "cell_type": "code",
   "execution_count": 22,
   "metadata": {},
   "outputs": [],
   "source": [
    "from tensorflow.keras.models import Sequential, Model\n",
    "from tensorflow.keras.layers import Embedding\n",
    "from tensorflow.keras.layers import Permute, dot, add, concatenate\n",
    "from tensorflow.keras.layers import LSTM, Dense, Dropout, Input, Activation\n",
    "import matplotlib.pyplot as plt"
   ]
  },
  {
   "cell_type": "code",
   "execution_count": 23,
   "metadata": {},
   "outputs": [],
   "source": [
    "# 에포크 횟수\n",
    "train_epochs = 120\n",
    "# 배치 크기\n",
    "batch_size = 32\n",
    "# 임베딩 크기\n",
    "embed_size = 50\n",
    "# LSTM의 크기\n",
    "lstm_size = 64\n",
    "# 과적합 방지 기법인 드롭아웃 적용 비율\n",
    "dropout_rate = 0.30"
   ]
  },
  {
   "cell_type": "code",
   "execution_count": 24,
   "metadata": {},
   "outputs": [
    {
     "name": "stdout",
     "output_type": "stream",
     "text": [
      "Stories : KerasTensor(type_spec=TensorSpec(shape=(None, 68), dtype=tf.float32, name='input_1'), name='input_1', description=\"created by layer 'input_1'\")\n",
      "Question: KerasTensor(type_spec=TensorSpec(shape=(None, 4), dtype=tf.float32, name='input_2'), name='input_2', description=\"created by layer 'input_2'\")\n"
     ]
    }
   ],
   "source": [
    "#입력을 담아두는 변수들을 정의합니다.\n",
    "input_sequence = Input((story_max_len,))\n",
    "question = Input((question_max_len,))\n",
    " \n",
    "print('Stories :', input_sequence)\n",
    "print('Question:', question)"
   ]
  },
  {
   "attachments": {
    "image.png": {
     "image/png": "[encoded data removed]"
    }
   },
   "cell_type": "markdown",
   "metadata": {},
   "source": [
    "![image.png](attachment:image.png)"
   ]
  },
  {
   "cell_type": "code",
   "execution_count": 25,
   "metadata": {},
   "outputs": [],
   "source": [
    "# 스토리를 위한 첫 번째 임베딩. 그림에서의 Embedding A\n",
    "input_encoder_m = Sequential()\n",
    "input_encoder_m.add(Embedding(input_dim=vocab_size,\n",
    "                              output_dim=embed_size))\n",
    "input_encoder_m.add(Dropout(dropout_rate))\n",
    "# 결과 : (samples, story_max_len, embed_size) / 샘플의 수, 문장의 최대 길이, 임베딩 벡터의 차원\n",
    " \n",
    "# 스토리를 위한 두 번째 임베딩. 그림에서의 Embedding C\n",
    "# 임베딩 벡터의 차원을 question_max_len(질문의 최대 길이)로 한다.\n",
    "input_encoder_c = Sequential()\n",
    "input_encoder_c.add(Embedding(input_dim=vocab_size,\n",
    "                              output_dim=question_max_len))\n",
    "input_encoder_c.add(Dropout(dropout_rate))\n",
    "# 결과 : (samples, story_max_len, question_max_len) / 샘플의 수, 문장의 최대 길이, 질문의 최대 길이(임베딩 벡터의 차원)"
   ]
  },
  {
   "cell_type": "code",
   "execution_count": 26,
   "metadata": {},
   "outputs": [],
   "source": [
    "# 질문을 위한 임베딩. 그림에서의 Embedding B\n",
    "question_encoder = Sequential()\n",
    "question_encoder.add(Embedding(input_dim=vocab_size,\n",
    "                               output_dim=embed_size,\n",
    "                               input_length=question_max_len))\n",
    "question_encoder.add(Dropout(dropout_rate))\n",
    "# 결과 : (samples, question_max_len, embed_size) / 샘플의 수, 질문의 최대 길이, 임베딩 벡터의 차원"
   ]
  },
  {
   "cell_type": "code",
   "execution_count": 27,
   "metadata": {},
   "outputs": [
    {
     "name": "stdout",
     "output_type": "stream",
     "text": [
      "Input encoded m KerasTensor(type_spec=TensorSpec(shape=(None, 68, 50), dtype=tf.float32, name=None), name='sequential/dropout/Identity:0', description=\"created by layer 'sequential'\") \n",
      "\n",
      "Input encoded c KerasTensor(type_spec=TensorSpec(shape=(None, 68, 4), dtype=tf.float32, name=None), name='sequential_1/dropout_1/Identity:0', description=\"created by layer 'sequential_1'\") \n",
      "\n",
      "Question encoded KerasTensor(type_spec=TensorSpec(shape=(None, 4, 50), dtype=tf.float32, name=None), name='sequential_2/dropout_2/Identity:0', description=\"created by layer 'sequential_2'\") \n",
      "\n"
     ]
    }
   ],
   "source": [
    "# 실질적인 임베딩 과정\n",
    "input_encoded_m = input_encoder_m(input_sequence)\n",
    "input_encoded_c = input_encoder_c(input_sequence)\n",
    "question_encoded = question_encoder(question)\n",
    "\n",
    "print('Input encoded m', input_encoded_m, '\\n')\n",
    "print('Input encoded c', input_encoded_c, '\\n')\n",
    "print('Question encoded', question_encoded, '\\n')"
   ]
  },
  {
   "attachments": {
    "image.png": {
     "image/png": "[encoded data removed]"
    }
   },
   "cell_type": "markdown",
   "metadata": {},
   "source": [
    "![image.png](attachment:image.png)"
   ]
  },
  {
   "cell_type": "code",
   "execution_count": 28,
   "metadata": {},
   "outputs": [
    {
     "name": "stdout",
     "output_type": "stream",
     "text": [
      "Match shape KerasTensor(type_spec=TensorSpec(shape=(None, 68, 4), dtype=tf.float32, name=None), name='activation/truediv:0', description=\"created by layer 'activation'\")\n"
     ]
    }
   ],
   "source": [
    "# 스토리 단어들과 질문 단어들 간의 유사도를 구하는 과정\n",
    "# 유사도는 내적을 사용한다.\n",
    "match = dot([input_encoded_m, question_encoded], axes=-1, normalize=False)\n",
    "match = Activation('softmax')(match)\n",
    "print('Match shape', match)\n",
    "# 결과 : (samples, story_max_len, question_max_len) / 샘플의 수, 문장의 최대 길이, 질문의 최대 길이"
   ]
  },
  {
   "cell_type": "code",
   "execution_count": 29,
   "metadata": {},
   "outputs": [
    {
     "name": "stdout",
     "output_type": "stream",
     "text": [
      "Response shape KerasTensor(type_spec=TensorSpec(shape=(None, 4, 68), dtype=tf.float32, name=None), name='permute/transpose:0', description=\"created by layer 'permute'\")\n"
     ]
    }
   ],
   "source": [
    "# 매칭 유사도 행렬과 질문에 대한 임베딩을 더한다.\n",
    "response = add([match, input_encoded_c])  # (samples, story_maxlen, question_max_len)\n",
    "response = Permute((2, 1))(response)  # (samples, question_max_len, story_maxlen)\n",
    "print('Response shape', response)"
   ]
  },
  {
   "cell_type": "code",
   "execution_count": 30,
   "metadata": {},
   "outputs": [
    {
     "name": "stdout",
     "output_type": "stream",
     "text": [
      "Answer shape KerasTensor(type_spec=TensorSpec(shape=(None, 4, 118), dtype=tf.float32, name=None), name='concatenate/concat:0', description=\"created by layer 'concatenate'\")\n"
     ]
    }
   ],
   "source": [
    "# concatenate the response vector with the question vector sequence\n",
    "answer = concatenate([response, question_encoded])\n",
    "print('Answer shape', answer)\n",
    " \n",
    "answer = LSTM(lstm_size)(answer)  # Generate tensors of shape 32\n",
    "answer = Dropout(dropout_rate)(answer)\n",
    "answer = Dense(vocab_size)(answer)  # (samples, vocab_size)\n",
    "# we output a probability distribution over the vocabulary\n",
    "answer = Activation('softmax')(answer)\n"
   ]
  },
  {
   "cell_type": "code",
   "execution_count": 31,
   "metadata": {},
   "outputs": [
    {
     "name": "stdout",
     "output_type": "stream",
     "text": [
      "Epoch 1/120\n",
      "313/313 [==============================] - 4s 5ms/step - loss: 2.0326 - acc: 0.1567 - val_loss: 1.7855 - val_acc: 0.1920\n",
      "Epoch 2/120\n",
      "313/313 [==============================] - 1s 3ms/step - loss: 1.7506 - acc: 0.2340 - val_loss: 1.6361 - val_acc: 0.3140\n",
      "Epoch 3/120\n",
      "313/313 [==============================] - 1s 3ms/step - loss: 1.6483 - acc: 0.3081 - val_loss: 1.5826 - val_acc: 0.3420\n",
      "Epoch 4/120\n",
      "313/313 [==============================] - 1s 3ms/step - loss: 1.5720 - acc: 0.3714 - val_loss: 1.4788 - val_acc: 0.4180\n",
      "Epoch 5/120\n",
      "313/313 [==============================] - 1s 3ms/step - loss: 1.5181 - acc: 0.4104 - val_loss: 1.4467 - val_acc: 0.4470\n",
      "Epoch 6/120\n",
      "313/313 [==============================] - 1s 3ms/step - loss: 1.4908 - acc: 0.4244 - val_loss: 1.4060 - val_acc: 0.4680\n",
      "Epoch 7/120\n",
      "313/313 [==============================] - 1s 3ms/step - loss: 1.4276 - acc: 0.4535 - val_loss: 1.3620 - val_acc: 0.4860\n",
      "Epoch 8/120\n",
      "313/313 [==============================] - 1s 3ms/step - loss: 1.3724 - acc: 0.4785 - val_loss: 1.3108 - val_acc: 0.4860\n",
      "Epoch 9/120\n",
      "313/313 [==============================] - 1s 3ms/step - loss: 1.3403 - acc: 0.4814 - val_loss: 1.3215 - val_acc: 0.4970\n",
      "Epoch 10/120\n",
      "313/313 [==============================] - 1s 3ms/step - loss: 1.3155 - acc: 0.4941 - val_loss: 1.2916 - val_acc: 0.5120\n",
      "Epoch 11/120\n",
      "313/313 [==============================] - 1s 3ms/step - loss: 1.2951 - acc: 0.5036 - val_loss: 1.2606 - val_acc: 0.5050\n",
      "Epoch 12/120\n",
      "313/313 [==============================] - 1s 3ms/step - loss: 1.2715 - acc: 0.5116 - val_loss: 1.2862 - val_acc: 0.5130\n",
      "Epoch 13/120\n",
      "313/313 [==============================] - 1s 3ms/step - loss: 1.2368 - acc: 0.5184 - val_loss: 1.2202 - val_acc: 0.5060\n",
      "Epoch 14/120\n",
      "313/313 [==============================] - 1s 3ms/step - loss: 1.2435 - acc: 0.5125 - val_loss: 1.1913 - val_acc: 0.5260\n",
      "Epoch 15/120\n",
      "313/313 [==============================] - 1s 3ms/step - loss: 1.1948 - acc: 0.5263 - val_loss: 1.1885 - val_acc: 0.5090\n",
      "Epoch 16/120\n",
      "313/313 [==============================] - 1s 3ms/step - loss: 1.1800 - acc: 0.5229 - val_loss: 1.1664 - val_acc: 0.5270\n",
      "Epoch 17/120\n",
      "313/313 [==============================] - 1s 3ms/step - loss: 1.1756 - acc: 0.5241 - val_loss: 1.1969 - val_acc: 0.5310\n",
      "Epoch 18/120\n",
      "313/313 [==============================] - 1s 3ms/step - loss: 1.1585 - acc: 0.5185 - val_loss: 1.1830 - val_acc: 0.5290\n",
      "Epoch 19/120\n",
      "313/313 [==============================] - 1s 3ms/step - loss: 1.1589 - acc: 0.5221 - val_loss: 1.1695 - val_acc: 0.5320\n",
      "Epoch 20/120\n",
      "313/313 [==============================] - 1s 3ms/step - loss: 1.1459 - acc: 0.5281 - val_loss: 1.1376 - val_acc: 0.5350\n",
      "Epoch 21/120\n",
      "313/313 [==============================] - 1s 3ms/step - loss: 1.1310 - acc: 0.5345 - val_loss: 1.1328 - val_acc: 0.5260\n",
      "Epoch 22/120\n",
      "313/313 [==============================] - 1s 3ms/step - loss: 1.1398 - acc: 0.5223 - val_loss: 1.1321 - val_acc: 0.5290\n",
      "Epoch 23/120\n",
      "313/313 [==============================] - 1s 3ms/step - loss: 1.1197 - acc: 0.5340 - val_loss: 1.1390 - val_acc: 0.5200\n",
      "Epoch 24/120\n",
      "313/313 [==============================] - 1s 3ms/step - loss: 1.1219 - acc: 0.5291 - val_loss: 1.1223 - val_acc: 0.5280\n",
      "Epoch 25/120\n",
      "313/313 [==============================] - 1s 3ms/step - loss: 1.1119 - acc: 0.5273 - val_loss: 1.1250 - val_acc: 0.5250\n",
      "Epoch 26/120\n",
      "313/313 [==============================] - 1s 3ms/step - loss: 1.0952 - acc: 0.5373 - val_loss: 1.1340 - val_acc: 0.5200\n",
      "Epoch 27/120\n",
      "313/313 [==============================] - 1s 3ms/step - loss: 1.0846 - acc: 0.5401 - val_loss: 1.1540 - val_acc: 0.5050\n",
      "Epoch 28/120\n",
      "313/313 [==============================] - 1s 3ms/step - loss: 1.0872 - acc: 0.5333 - val_loss: 1.1259 - val_acc: 0.5180\n",
      "Epoch 29/120\n",
      "313/313 [==============================] - 1s 3ms/step - loss: 1.0736 - acc: 0.5521 - val_loss: 1.1500 - val_acc: 0.5010\n",
      "Epoch 30/120\n",
      "313/313 [==============================] - 1s 3ms/step - loss: 1.0619 - acc: 0.5687 - val_loss: 1.1456 - val_acc: 0.5230\n",
      "Epoch 31/120\n",
      "313/313 [==============================] - 1s 3ms/step - loss: 1.0535 - acc: 0.5607 - val_loss: 1.1042 - val_acc: 0.5340\n",
      "Epoch 32/120\n",
      "313/313 [==============================] - 1s 3ms/step - loss: 1.0031 - acc: 0.5904 - val_loss: 1.0366 - val_acc: 0.5870\n",
      "Epoch 33/120\n",
      "313/313 [==============================] - 1s 3ms/step - loss: 0.9225 - acc: 0.6390 - val_loss: 0.8373 - val_acc: 0.7110\n",
      "Epoch 34/120\n",
      "313/313 [==============================] - 1s 3ms/step - loss: 0.7571 - acc: 0.7213 - val_loss: 0.7019 - val_acc: 0.7460\n",
      "Epoch 35/120\n",
      "313/313 [==============================] - 1s 3ms/step - loss: 0.6300 - acc: 0.7702 - val_loss: 0.6582 - val_acc: 0.7420\n",
      "Epoch 36/120\n",
      "313/313 [==============================] - 1s 3ms/step - loss: 0.5805 - acc: 0.7934 - val_loss: 0.6128 - val_acc: 0.7500\n",
      "Epoch 37/120\n",
      "313/313 [==============================] - 1s 3ms/step - loss: 0.5458 - acc: 0.7963 - val_loss: 0.5505 - val_acc: 0.7860\n",
      "Epoch 38/120\n",
      "313/313 [==============================] - 1s 4ms/step - loss: 0.4784 - acc: 0.8197 - val_loss: 0.4736 - val_acc: 0.8160\n",
      "Epoch 39/120\n",
      "313/313 [==============================] - 1s 3ms/step - loss: 0.4220 - acc: 0.8475 - val_loss: 0.4359 - val_acc: 0.8350\n",
      "Epoch 40/120\n",
      "313/313 [==============================] - 1s 3ms/step - loss: 0.3799 - acc: 0.8584 - val_loss: 0.3893 - val_acc: 0.8540\n",
      "Epoch 41/120\n",
      "313/313 [==============================] - 1s 3ms/step - loss: 0.3603 - acc: 0.8656 - val_loss: 0.3764 - val_acc: 0.8580\n",
      "Epoch 42/120\n",
      "313/313 [==============================] - 1s 3ms/step - loss: 0.3208 - acc: 0.8819 - val_loss: 0.3729 - val_acc: 0.8520\n",
      "Epoch 43/120\n",
      "313/313 [==============================] - 1s 3ms/step - loss: 0.3229 - acc: 0.8808 - val_loss: 0.3846 - val_acc: 0.8620\n",
      "Epoch 44/120\n",
      "313/313 [==============================] - 1s 3ms/step - loss: 0.3004 - acc: 0.8888 - val_loss: 0.3428 - val_acc: 0.8690\n",
      "Epoch 45/120\n",
      "313/313 [==============================] - 1s 3ms/step - loss: 0.2943 - acc: 0.8912 - val_loss: 0.3485 - val_acc: 0.8560\n",
      "Epoch 46/120\n",
      "313/313 [==============================] - 1s 3ms/step - loss: 0.2744 - acc: 0.8964 - val_loss: 0.3164 - val_acc: 0.8750\n",
      "Epoch 47/120\n",
      "313/313 [==============================] - 1s 4ms/step - loss: 0.2582 - acc: 0.9065 - val_loss: 0.3099 - val_acc: 0.8790\n",
      "Epoch 48/120\n",
      "313/313 [==============================] - 1s 3ms/step - loss: 0.2528 - acc: 0.9050 - val_loss: 0.2883 - val_acc: 0.8900\n",
      "Epoch 49/120\n",
      "313/313 [==============================] - 1s 3ms/step - loss: 0.2304 - acc: 0.9170 - val_loss: 0.2900 - val_acc: 0.8920\n",
      "Epoch 50/120\n",
      "313/313 [==============================] - 1s 3ms/step - loss: 0.2216 - acc: 0.9179 - val_loss: 0.2724 - val_acc: 0.8960\n",
      "Epoch 51/120\n",
      "313/313 [==============================] - 1s 3ms/step - loss: 0.2169 - acc: 0.9236 - val_loss: 0.2549 - val_acc: 0.9080\n",
      "Epoch 52/120\n",
      "313/313 [==============================] - 1s 3ms/step - loss: 0.1926 - acc: 0.9273 - val_loss: 0.2422 - val_acc: 0.9130\n",
      "Epoch 53/120\n",
      "313/313 [==============================] - 1s 3ms/step - loss: 0.1889 - acc: 0.9322 - val_loss: 0.2314 - val_acc: 0.9110\n",
      "Epoch 54/120\n",
      "313/313 [==============================] - 1s 3ms/step - loss: 0.1659 - acc: 0.9396 - val_loss: 0.2197 - val_acc: 0.9220\n",
      "Epoch 55/120\n",
      "313/313 [==============================] - 1s 3ms/step - loss: 0.1718 - acc: 0.9385 - val_loss: 0.2159 - val_acc: 0.9240\n",
      "Epoch 56/120\n",
      "313/313 [==============================] - 1s 3ms/step - loss: 0.1500 - acc: 0.9464 - val_loss: 0.2146 - val_acc: 0.9230\n",
      "Epoch 57/120\n",
      "313/313 [==============================] - 1s 3ms/step - loss: 0.1320 - acc: 0.9547 - val_loss: 0.1843 - val_acc: 0.9310\n",
      "Epoch 58/120\n",
      "313/313 [==============================] - 1s 3ms/step - loss: 0.1357 - acc: 0.9510 - val_loss: 0.1968 - val_acc: 0.9390\n",
      "Epoch 59/120\n",
      "313/313 [==============================] - 1s 3ms/step - loss: 0.1275 - acc: 0.9544 - val_loss: 0.1893 - val_acc: 0.9380\n",
      "Epoch 60/120\n",
      "313/313 [==============================] - 1s 3ms/step - loss: 0.1191 - acc: 0.9559 - val_loss: 0.1793 - val_acc: 0.9440\n",
      "Epoch 61/120\n",
      "313/313 [==============================] - 1s 3ms/step - loss: 0.1157 - acc: 0.9630 - val_loss: 0.1721 - val_acc: 0.9390\n",
      "Epoch 62/120\n",
      "313/313 [==============================] - 1s 3ms/step - loss: 0.1065 - acc: 0.9659 - val_loss: 0.1690 - val_acc: 0.9430\n",
      "Epoch 63/120\n",
      "313/313 [==============================] - 1s 3ms/step - loss: 0.1200 - acc: 0.9596 - val_loss: 0.1977 - val_acc: 0.9410\n",
      "Epoch 64/120\n",
      "313/313 [==============================] - 1s 3ms/step - loss: 0.1004 - acc: 0.9685 - val_loss: 0.1738 - val_acc: 0.9400\n",
      "Epoch 65/120\n",
      "313/313 [==============================] - 1s 3ms/step - loss: 0.0942 - acc: 0.9671 - val_loss: 0.1852 - val_acc: 0.9420\n",
      "Epoch 66/120\n",
      "313/313 [==============================] - 1s 3ms/step - loss: 0.0922 - acc: 0.9698 - val_loss: 0.1607 - val_acc: 0.9440\n",
      "Epoch 67/120\n",
      "313/313 [==============================] - 1s 4ms/step - loss: 0.0907 - acc: 0.9700 - val_loss: 0.1575 - val_acc: 0.9440\n",
      "Epoch 68/120\n",
      "313/313 [==============================] - 1s 4ms/step - loss: 0.0842 - acc: 0.9717 - val_loss: 0.1594 - val_acc: 0.9480\n",
      "Epoch 69/120\n",
      "313/313 [==============================] - 1s 4ms/step - loss: 0.0841 - acc: 0.9727 - val_loss: 0.1484 - val_acc: 0.9490\n",
      "Epoch 70/120\n",
      "313/313 [==============================] - 1s 3ms/step - loss: 0.0829 - acc: 0.9714 - val_loss: 0.1767 - val_acc: 0.9470\n",
      "Epoch 71/120\n",
      "313/313 [==============================] - 1s 3ms/step - loss: 0.0726 - acc: 0.9738 - val_loss: 0.1464 - val_acc: 0.9560\n",
      "Epoch 72/120\n",
      "313/313 [==============================] - 1s 3ms/step - loss: 0.0743 - acc: 0.9748 - val_loss: 0.1434 - val_acc: 0.9520\n",
      "Epoch 73/120\n",
      "313/313 [==============================] - 1s 3ms/step - loss: 0.0704 - acc: 0.9754 - val_loss: 0.1649 - val_acc: 0.9500\n",
      "Epoch 74/120\n",
      "313/313 [==============================] - 1s 3ms/step - loss: 0.0624 - acc: 0.9785 - val_loss: 0.1460 - val_acc: 0.9570\n",
      "Epoch 75/120\n",
      "313/313 [==============================] - 1s 3ms/step - loss: 0.0731 - acc: 0.9776 - val_loss: 0.1542 - val_acc: 0.9550\n",
      "Epoch 76/120\n",
      "313/313 [==============================] - 1s 3ms/step - loss: 0.0692 - acc: 0.9776 - val_loss: 0.1396 - val_acc: 0.9580\n",
      "Epoch 77/120\n",
      "313/313 [==============================] - 1s 3ms/step - loss: 0.0498 - acc: 0.9852 - val_loss: 0.1422 - val_acc: 0.9580\n",
      "Epoch 78/120\n",
      "313/313 [==============================] - 1s 3ms/step - loss: 0.0597 - acc: 0.9790 - val_loss: 0.1447 - val_acc: 0.9550\n",
      "Epoch 79/120\n",
      "313/313 [==============================] - 1s 3ms/step - loss: 0.0646 - acc: 0.9795 - val_loss: 0.1316 - val_acc: 0.9650\n",
      "Epoch 80/120\n",
      "313/313 [==============================] - 1s 3ms/step - loss: 0.0612 - acc: 0.9824 - val_loss: 0.1612 - val_acc: 0.9520\n",
      "Epoch 81/120\n",
      "313/313 [==============================] - 1s 3ms/step - loss: 0.0637 - acc: 0.9817 - val_loss: 0.1280 - val_acc: 0.9600\n",
      "Epoch 82/120\n",
      "313/313 [==============================] - 1s 4ms/step - loss: 0.0493 - acc: 0.9841 - val_loss: 0.1349 - val_acc: 0.9570\n",
      "Epoch 83/120\n",
      "313/313 [==============================] - 1s 3ms/step - loss: 0.0546 - acc: 0.9826 - val_loss: 0.1255 - val_acc: 0.9610\n",
      "Epoch 84/120\n",
      "313/313 [==============================] - 1s 3ms/step - loss: 0.0582 - acc: 0.9833 - val_loss: 0.1342 - val_acc: 0.9580\n",
      "Epoch 85/120\n",
      "313/313 [==============================] - 1s 3ms/step - loss: 0.0526 - acc: 0.9827 - val_loss: 0.1304 - val_acc: 0.9620\n",
      "Epoch 86/120\n",
      "313/313 [==============================] - 1s 3ms/step - loss: 0.0519 - acc: 0.9843 - val_loss: 0.1432 - val_acc: 0.9610\n",
      "Epoch 87/120\n",
      "313/313 [==============================] - 1s 3ms/step - loss: 0.0494 - acc: 0.9825 - val_loss: 0.1405 - val_acc: 0.9640\n",
      "Epoch 88/120\n",
      "313/313 [==============================] - 1s 3ms/step - loss: 0.0622 - acc: 0.9794 - val_loss: 0.1383 - val_acc: 0.9570\n",
      "Epoch 89/120\n",
      "313/313 [==============================] - 1s 3ms/step - loss: 0.0609 - acc: 0.9836 - val_loss: 0.1444 - val_acc: 0.9570\n",
      "Epoch 90/120\n",
      "313/313 [==============================] - 1s 3ms/step - loss: 0.0529 - acc: 0.9835 - val_loss: 0.1333 - val_acc: 0.9620\n",
      "Epoch 91/120\n",
      "313/313 [==============================] - 1s 3ms/step - loss: 0.0498 - acc: 0.9859 - val_loss: 0.1433 - val_acc: 0.9580\n",
      "Epoch 92/120\n",
      "313/313 [==============================] - 1s 3ms/step - loss: 0.0418 - acc: 0.9862 - val_loss: 0.1651 - val_acc: 0.9510\n",
      "Epoch 93/120\n",
      "313/313 [==============================] - 1s 3ms/step - loss: 0.0389 - acc: 0.9875 - val_loss: 0.1314 - val_acc: 0.9630\n",
      "Epoch 94/120\n",
      "313/313 [==============================] - 1s 3ms/step - loss: 0.0429 - acc: 0.9866 - val_loss: 0.1458 - val_acc: 0.9630\n",
      "Epoch 95/120\n",
      "313/313 [==============================] - 1s 3ms/step - loss: 0.0467 - acc: 0.9871 - val_loss: 0.1698 - val_acc: 0.9630\n",
      "Epoch 96/120\n",
      "313/313 [==============================] - 1s 3ms/step - loss: 0.0422 - acc: 0.9862 - val_loss: 0.1299 - val_acc: 0.9670\n",
      "Epoch 97/120\n",
      "313/313 [==============================] - 1s 3ms/step - loss: 0.0471 - acc: 0.9854 - val_loss: 0.1150 - val_acc: 0.9700\n",
      "Epoch 98/120\n",
      "313/313 [==============================] - 1s 3ms/step - loss: 0.0410 - acc: 0.9863 - val_loss: 0.1279 - val_acc: 0.9670\n",
      "Epoch 99/120\n",
      "313/313 [==============================] - 1s 3ms/step - loss: 0.0399 - acc: 0.9888 - val_loss: 0.1310 - val_acc: 0.9610\n",
      "Epoch 100/120\n",
      "313/313 [==============================] - 1s 3ms/step - loss: 0.0367 - acc: 0.9876 - val_loss: 0.1331 - val_acc: 0.9660\n",
      "Epoch 101/120\n",
      "313/313 [==============================] - 1s 3ms/step - loss: 0.0440 - acc: 0.9887 - val_loss: 0.1350 - val_acc: 0.9670\n",
      "Epoch 102/120\n",
      "313/313 [==============================] - 1s 3ms/step - loss: 0.0388 - acc: 0.9876 - val_loss: 0.1372 - val_acc: 0.9620\n",
      "Epoch 103/120\n",
      "313/313 [==============================] - 1s 3ms/step - loss: 0.0408 - acc: 0.9898 - val_loss: 0.1189 - val_acc: 0.9690\n",
      "Epoch 104/120\n",
      "313/313 [==============================] - 1s 3ms/step - loss: 0.0443 - acc: 0.9872 - val_loss: 0.1262 - val_acc: 0.9720\n",
      "Epoch 105/120\n",
      "313/313 [==============================] - 1s 3ms/step - loss: 0.0487 - acc: 0.9865 - val_loss: 0.1116 - val_acc: 0.9700\n",
      "Epoch 106/120\n",
      "313/313 [==============================] - 1s 3ms/step - loss: 0.0401 - acc: 0.9892 - val_loss: 0.0954 - val_acc: 0.9750\n",
      "Epoch 107/120\n",
      "313/313 [==============================] - 1s 4ms/step - loss: 0.0404 - acc: 0.9875 - val_loss: 0.1243 - val_acc: 0.9600\n",
      "Epoch 108/120\n",
      "313/313 [==============================] - 1s 3ms/step - loss: 0.0373 - acc: 0.9897 - val_loss: 0.1106 - val_acc: 0.9710\n",
      "Epoch 109/120\n",
      "313/313 [==============================] - 1s 3ms/step - loss: 0.0387 - acc: 0.9908 - val_loss: 0.1147 - val_acc: 0.9710\n",
      "Epoch 110/120\n",
      "313/313 [==============================] - 1s 3ms/step - loss: 0.0327 - acc: 0.9914 - val_loss: 0.1127 - val_acc: 0.9670\n",
      "Epoch 111/120\n",
      "313/313 [==============================] - 1s 3ms/step - loss: 0.0437 - acc: 0.9876 - val_loss: 0.1436 - val_acc: 0.9630\n",
      "Epoch 112/120\n",
      "313/313 [==============================] - 1s 3ms/step - loss: 0.0242 - acc: 0.9917 - val_loss: 0.1154 - val_acc: 0.9720\n",
      "Epoch 113/120\n",
      "313/313 [==============================] - 1s 3ms/step - loss: 0.0410 - acc: 0.9905 - val_loss: 0.1194 - val_acc: 0.9730\n",
      "Epoch 114/120\n",
      "313/313 [==============================] - 1s 3ms/step - loss: 0.0331 - acc: 0.9907 - val_loss: 0.1165 - val_acc: 0.9710\n",
      "Epoch 115/120\n",
      "313/313 [==============================] - 1s 3ms/step - loss: 0.0352 - acc: 0.9881 - val_loss: 0.1420 - val_acc: 0.9640\n",
      "Epoch 116/120\n",
      "313/313 [==============================] - 1s 4ms/step - loss: 0.0364 - acc: 0.9910 - val_loss: 0.1036 - val_acc: 0.9730\n",
      "Epoch 117/120\n",
      "313/313 [==============================] - 1s 3ms/step - loss: 0.0335 - acc: 0.9892 - val_loss: 0.1107 - val_acc: 0.9710\n",
      "Epoch 118/120\n",
      "313/313 [==============================] - 1s 3ms/step - loss: 0.0360 - acc: 0.9903 - val_loss: 0.1076 - val_acc: 0.9700\n",
      "Epoch 119/120\n",
      "313/313 [==============================] - 1s 3ms/step - loss: 0.0369 - acc: 0.9875 - val_loss: 0.1209 - val_acc: 0.9690\n",
      "Epoch 120/120\n",
      "313/313 [==============================] - 1s 3ms/step - loss: 0.0410 - acc: 0.9900 - val_loss: 0.1059 - val_acc: 0.9730\n"
     ]
    }
   ],
   "source": [
    "import os\n",
    "\n",
    "# 모델 컴파일\n",
    "model = Model([input_sequence, question], answer)\n",
    "model.compile(optimizer='rmsprop', loss='categorical_crossentropy',\n",
    "              metrics=['acc'])\n",
    " \n",
    "# 테스트 데이터를 검증 데이터로 사용하면서 모델 훈련 시작\n",
    "history = model.fit([Xstrain, Xqtrain],\n",
    "         Ytrain, batch_size, train_epochs,\n",
    "         validation_data=([Xstest, Xqtest], Ytest))\n",
    " \n",
    "# 훈련 후에는 모델 저장\n",
    "model_path = os.getenv('HOME')+'/aiffel/babi_memory_net/model.h5'\n",
    "model.save(model_path)"
   ]
  },
  {
   "cell_type": "code",
   "execution_count": 32,
   "metadata": {},
   "outputs": [
    {
     "name": "stdout",
     "output_type": "stream",
     "text": [
      "32/32 [==============================] - 0s 2ms/step - loss: 0.1059 - acc: 0.9730\n",
      "\n",
      " 테스트 정확도: 0.9730\n"
     ]
    }
   ],
   "source": [
    "print(\"\\n 테스트 정확도: %.4f\" % (model.evaluate([Xstest, Xqtest], Ytest)[1]))"
   ]
  },
  {
   "cell_type": "code",
   "execution_count": 33,
   "metadata": {},
   "outputs": [
    {
     "data": {
      "image/png": "[encoded data removed]",
      "text/plain": [
       "<Figure size 432x288 with 2 Axes>"
      ]
     },
     "metadata": {
      "needs_background": "light"
     },
     "output_type": "display_data"
    }
   ],
   "source": [
    "# plot accuracy and loss plot\n",
    "plt.subplot(211)\n",
    "plt.title(\"Accuracy\")\n",
    "plt.plot(history.history[\"acc\"], color=\"g\", label=\"train\")\n",
    "plt.plot(history.history[\"val_acc\"], color=\"b\", label=\"validation\")\n",
    "plt.legend(loc=\"best\")\n",
    "\n",
    "plt.subplot(212)\n",
    "plt.title(\"Loss\")\n",
    "plt.plot(history.history[\"loss\"], color=\"g\", label=\"train\")\n",
    "plt.plot(history.history[\"val_loss\"], color=\"b\", label=\"validation\")\n",
    "plt.legend(loc=\"best\")\n",
    "\n",
    "plt.tight_layout()\n",
    "plt.show()\n",
    "\n",
    "# labels\n",
    "ytest = np.argmax(Ytest, axis=1)\n",
    "\n",
    "# get predictions\n",
    "Ytest_ = model.predict([Xstest, Xqtest])\n",
    "ytest_ = np.argmax(Ytest_, axis=1)"
   ]
  },
  {
   "cell_type": "code",
   "execution_count": 34,
   "metadata": {},
   "outputs": [
    {
     "name": "stdout",
     "output_type": "stream",
     "text": [
      "질문                  |실제값    |예측값\n",
      "---------------------------------------\n",
      "Where is John ?     : hallway  hallway\n",
      "Where is Mary ?     : bathroom bathroom\n",
      "Where is Sandra ?   : kitchen  kitchen\n",
      "Where is Sandra ?   : hallway  hallway\n",
      "Where is Sandra ?   : kitchen  kitchen\n",
      "Where is Sandra ?   : hallway  hallway\n",
      "Where is Sandra ?   : garden   garden\n",
      "Where is Daniel ?   : hallway  hallway\n",
      "Where is Sandra ?   : office   kitchen\n",
      "Where is Daniel ?   : office   office\n",
      "Where is Mary ?     : kitchen  kitchen\n",
      "Where is Mary ?     : garden   garden\n",
      "Where is Daniel ?   : office   office\n",
      "Where is Mary ?     : bedroom  bedroom\n",
      "Where is Mary ?     : bedroom  bedroom\n",
      "Where is John ?     : kitchen  kitchen\n",
      "Where is John ?     : garden   garden\n",
      "Where is John ?     : kitchen  kitchen\n",
      "Where is Daniel ?   : office   office\n",
      "Where is John ?     : kitchen  bathroom\n",
      "Where is Mary ?     : hallway  hallway\n",
      "Where is John ?     : office   office\n",
      "Where is John ?     : office   office\n",
      "Where is Sandra ?   : hallway  hallway\n",
      "Where is Daniel ?   : bedroom  bedroom\n",
      "Where is Sandra ?   : bedroom  bedroom\n",
      "Where is Mary ?     : bedroom  bedroom\n",
      "Where is Daniel ?   : kitchen  kitchen\n",
      "Where is Daniel ?   : kitchen  kitchen\n",
      "Where is Daniel ?   : kitchen  kitchen\n"
     ]
    }
   ],
   "source": [
    "NUM_DISPLAY = 30\n",
    "\n",
    "print(\"{:20}|{:7}|{}\".format(\"질문\", \"실제값\", \"예측값\"))\n",
    "print(39 * \"-\")\n",
    "\n",
    "for i in range(NUM_DISPLAY):\n",
    "    question = \" \".join([idx2word[x] for x in Xqtest[i].tolist()])\n",
    "    label = idx2word[ytest[i]]\n",
    "    prediction = idx2word[ytest_[i]]\n",
    "    print(\"{:20}: {:8} {}\".format(question, label, prediction)) #헐 포매팅을 이렇게 활용할수도 있구나 짱이다...!"
   ]
  },
  {
   "cell_type": "markdown",
   "metadata": {},
   "source": [
    "# 14-6. 프로젝트: 한국어 QA 모델 만들기"
   ]
  },
  {
   "cell_type": "markdown",
   "metadata": {},
   "source": [
    "# Step 1. 토크나이저 변경하기 (매우 중요!!!)\n",
    "실습에는 사전에 단어를 추가하기 위해 Customized Konlpy라는 패키지를 사용한다\n",
    "https://inspiringpeople.github.io/data%20analysis/ckonlpy/"
   ]
  },
  {
   "cell_type": "code",
   "execution_count": 35,
   "metadata": {},
   "outputs": [
    {
     "name": "stderr",
     "output_type": "stream",
     "text": [
      "/home/aiffel-dj57/anaconda3/envs/aiffel/lib/python3.7/site-packages/konlpy/tag/_okt.py:16: UserWarning: \"Twitter\" has changed to \"Okt\" since KoNLPy v0.4.5.\n",
      "  warn('\"Twitter\" has changed to \"Okt\" since KoNLPy v0.4.5.')\n"
     ]
    },
    {
     "data": {
      "text/plain": [
       "['은경이', '는', '사무실', '로', '갔습니다', '.']"
      ]
     },
     "execution_count": 35,
     "metadata": {},
     "output_type": "execute_result"
    }
   ],
   "source": [
    "# 예시 코드\n",
    "from ckonlpy.tag import Twitter\n",
    "twitter = Twitter()\n",
    "twitter.add_dictionary('은경이', 'Noun')\n",
    "twitter.morphs('은경이는 사무실로 갔습니다.')\n",
    "\n",
    "#은경이라는 단어를 단어 사전에 추가"
   ]
  },
  {
   "cell_type": "code",
   "execution_count": 36,
   "metadata": {},
   "outputs": [],
   "source": [
    "#훈련 데이터의 경로와 테스트 데이터의 경로를 지정해줍니다.\n",
    "DATA_DIR = '/home/aiffel-dj57/aiffel/babi_memory_net'\n",
    "TRAIN_FILE = os.path.join(DATA_DIR, \"qa1_single-supporting-fact_train_kor.txt\")\n",
    "TEST_FILE = os.path.join(DATA_DIR, \"qa1_single-supporting-fact_test_kor.txt\")"
   ]
  },
  {
   "cell_type": "code",
   "execution_count": 37,
   "metadata": {},
   "outputs": [
    {
     "name": "stdout",
     "output_type": "stream",
     "text": [
      "1 필웅이는 화장실로 갔습니다.\n",
      "2 은경이는 복도로 이동했습니다.\n",
      "3 필웅이는 어디야? \t화장실\t1\n",
      "4 수종이는 복도로 복귀했습니다.\n",
      "5 경임이는 정원으로 갔습니다.\n",
      "6 수종이는 어디야? \t복도\t4\n",
      "7 은경이는 사무실로 갔습니다.\n",
      "8 경임이는 화장실로 뛰어갔습니다.\n",
      "9 수종이는 어디야? \t복도\t4\n",
      "10 필웅이는 복도로 갔습니다.\n",
      "11 수종이는 사무실로 가버렸습니다.\n",
      "12 수종이는 어디야? \t사무실\t11\n",
      "13 은경이는 정원으로 복귀했습니다.\n",
      "14 은경이는 침실로 갔습니다.\n",
      "15 경임이는 어디야? \t화장실\t8\n",
      "1 경임이는 사무실로 가버렸습니다.\n",
      "2 경임이는 화장실로 이동했습니다.\n",
      "3 경임이는 어디야? \t화장실\t2\n",
      "4 필웅이는 침실로 이동했습니다.\n",
      "5 수종이는 복도로 갔습니다.\n"
     ]
    }
   ],
   "source": [
    "i = 0\n",
    "lines = open(TRAIN_FILE , \"rb\")\n",
    "for line in lines:\n",
    "    line = line.decode(\"utf-8\").strip()\n",
    "    # lno, text = line.split(\" \", 1) # ID와 TEXT 분리\n",
    "    i = i + 1\n",
    "    print(line)\n",
    "    if i == 20:\n",
    "        break"
   ]
  },
  {
   "cell_type": "code",
   "execution_count": 38,
   "metadata": {},
   "outputs": [],
   "source": [
    "#read_data()를 통해 스토리, 질문, 답변의 쌍을 리턴하여 훈련 데이터는 train_data()에, 테스트 데이터는 test_data()에 저장합니다. \n",
    "#이 두 데이터를 가지고 추가적인 전처리를 진행할 예정입니다.\n",
    "\n",
    "train_data = read_data(TRAIN_FILE)\n",
    "test_data = read_data(TEST_FILE)"
   ]
  },
  {
   "cell_type": "code",
   "execution_count": 39,
   "metadata": {},
   "outputs": [
    {
     "name": "stdout",
     "output_type": "stream",
     "text": [
      "train 스토리 개수: 10000\n",
      "train 질문 개수: 10000\n",
      "train 답변 개수: 10000\n",
      "test 스토리 개수: 1000\n",
      "test 질문 개수: 1000\n",
      "test 답변 개수: 1000\n"
     ]
    }
   ],
   "source": [
    "#그런데 이렇게 저장하면 전처리가 정말 잘 되어있는지 확인하기 어렵겠죠? 그래서 스토리, 질문, 답변을 각각 저장하고 직접 출력해 보겠습니다.\n",
    "train_stories, train_questions, train_answers = read_data(TRAIN_FILE)\n",
    "test_stories, test_questions, test_answers = read_data(TEST_FILE)\n",
    "\n",
    "print(\"train 스토리 개수:\", len(train_stories))\n",
    "print(\"train 질문 개수:\", len(train_questions))\n",
    "print(\"train 답변 개수:\", len(train_answers))\n",
    "print(\"test 스토리 개수:\", len(test_stories))\n",
    "print(\"test 질문 개수:\", len(test_questions))\n",
    "print(\"test 답변 개수:\", len(test_answers))"
   ]
  },
  {
   "cell_type": "code",
   "execution_count": 40,
   "metadata": {},
   "outputs": [
    {
     "data": {
      "text/plain": [
       "[['필웅이는 화장실로 갔습니다.', '은경이는 복도로 이동했습니다.'],\n",
       " ['필웅이는 화장실로 갔습니다.',\n",
       "  '은경이는 복도로 이동했습니다.',\n",
       "  '수종이는 복도로 복귀했습니다.',\n",
       "  '경임이는 정원으로 갔습니다.'],\n",
       " ['필웅이는 화장실로 갔습니다.',\n",
       "  '은경이는 복도로 이동했습니다.',\n",
       "  '수종이는 복도로 복귀했습니다.',\n",
       "  '경임이는 정원으로 갔습니다.',\n",
       "  '은경이는 사무실로 갔습니다.',\n",
       "  '경임이는 화장실로 뛰어갔습니다.'],\n",
       " ['필웅이는 화장실로 갔습니다.',\n",
       "  '은경이는 복도로 이동했습니다.',\n",
       "  '수종이는 복도로 복귀했습니다.',\n",
       "  '경임이는 정원으로 갔습니다.',\n",
       "  '은경이는 사무실로 갔습니다.',\n",
       "  '경임이는 화장실로 뛰어갔습니다.',\n",
       "  '필웅이는 복도로 갔습니다.',\n",
       "  '수종이는 사무실로 가버렸습니다.'],\n",
       " ['필웅이는 화장실로 갔습니다.',\n",
       "  '은경이는 복도로 이동했습니다.',\n",
       "  '수종이는 복도로 복귀했습니다.',\n",
       "  '경임이는 정원으로 갔습니다.',\n",
       "  '은경이는 사무실로 갔습니다.',\n",
       "  '경임이는 화장실로 뛰어갔습니다.',\n",
       "  '필웅이는 복도로 갔습니다.',\n",
       "  '수종이는 사무실로 가버렸습니다.',\n",
       "  '은경이는 정원으로 복귀했습니다.',\n",
       "  '은경이는 침실로 갔습니다.']]"
      ]
     },
     "execution_count": 40,
     "metadata": {},
     "output_type": "execute_result"
    }
   ],
   "source": [
    "train_stories[:5]"
   ]
  },
  {
   "cell_type": "code",
   "execution_count": 41,
   "metadata": {},
   "outputs": [
    {
     "data": {
      "text/plain": [
       "['필웅이는 어디야? ', '수종이는 어디야? ', '수종이는 어디야? ', '수종이는 어디야? ', '경임이는 어디야? ']"
      ]
     },
     "execution_count": 41,
     "metadata": {},
     "output_type": "execute_result"
    }
   ],
   "source": [
    "train_questions[:5]"
   ]
  },
  {
   "cell_type": "code",
   "execution_count": 42,
   "metadata": {},
   "outputs": [
    {
     "data": {
      "text/plain": [
       "['화장실', '복도', '복도', '사무실', '화장실']"
      ]
     },
     "execution_count": 42,
     "metadata": {},
     "output_type": "execute_result"
    }
   ],
   "source": [
    "train_answers[:5]"
   ]
  },
  {
   "cell_type": "code",
   "execution_count": 43,
   "metadata": {},
   "outputs": [],
   "source": [
    "def tokenize(sent):\n",
    "    return twitter.morphs(sent) #노드에서 제시한 형태소 분석기를 사용는 토크나이즈 함수"
   ]
  },
  {
   "cell_type": "code",
   "execution_count": 44,
   "metadata": {},
   "outputs": [],
   "source": [
    "word2idx, idx2word, story_max_len, question_max_len = preprocess_data(train_data, test_data)"
   ]
  },
  {
   "cell_type": "code",
   "execution_count": 45,
   "metadata": {},
   "outputs": [
    {
     "name": "stdout",
     "output_type": "stream",
     "text": [
      "{'는': 1, '.': 2, '로': 3, '이': 4, '했습니다': 5, '으로': 6, '경': 7, '임': 8, '은경이': 9, '수종': 10, '필웅이': 11, '이동': 12, '가버렸습니다': 13, '뛰어갔습니다': 14, '복귀': 15, '화장실': 16, '정원': 17, '복도': 18, '갔습니다': 19, '사무실': 20, '부엌': 21, '침실': 22, '어디': 23, '야': 24, '?': 25}\n"
     ]
    }
   ],
   "source": [
    "print(word2idx)"
   ]
  },
  {
   "cell_type": "code",
   "execution_count": 46,
   "metadata": {},
   "outputs": [],
   "source": [
    "vocab_size = len(word2idx) + 1"
   ]
  },
  {
   "cell_type": "code",
   "execution_count": 47,
   "metadata": {},
   "outputs": [
    {
     "name": "stdout",
     "output_type": "stream",
     "text": [
      "스토리의 최대 길이 : 82\n",
      "질문의 최대 길이 : 7\n"
     ]
    }
   ],
   "source": [
    "print('스토리의 최대 길이 :',story_max_len)\n",
    "print('질문의 최대 길이 :',question_max_len)"
   ]
  },
  {
   "cell_type": "code",
   "execution_count": 48,
   "metadata": {},
   "outputs": [
    {
     "name": "stdout",
     "output_type": "stream",
     "text": [
      "(10000, 82) (10000, 7) (10000, 26) (1000, 82) (1000, 7) (1000, 26)\n"
     ]
    }
   ],
   "source": [
    "#훈련 데이터와 테스트 데이터에 대해서 함수를 호출하여 이를 수행합니다.\n",
    "Xstrain, Xqtrain, Ytrain = vectorize(train_data, word2idx, story_max_len, question_max_len)\n",
    "Xstest, Xqtest, Ytest = vectorize(test_data, word2idx, story_max_len, question_max_len)\n",
    "\n",
    "print(Xstrain.shape, Xqtrain.shape, Ytrain.shape, Xstest.shape, Xqtest.shape, Ytest.shape)"
   ]
  },
  {
   "cell_type": "code",
   "execution_count": 49,
   "metadata": {},
   "outputs": [
    {
     "name": "stdout",
     "output_type": "stream",
     "text": [
      "Stories : KerasTensor(type_spec=TensorSpec(shape=(None, 82), dtype=tf.float32, name='input_3'), name='input_3', description=\"created by layer 'input_3'\")\n",
      "Question: KerasTensor(type_spec=TensorSpec(shape=(None, 7), dtype=tf.float32, name='input_4'), name='input_4', description=\"created by layer 'input_4'\")\n",
      "Input encoded m KerasTensor(type_spec=TensorSpec(shape=(None, 82, 50), dtype=tf.float32, name=None), name='sequential_3/dropout_4/Identity:0', description=\"created by layer 'sequential_3'\") \n",
      "\n",
      "Input encoded c KerasTensor(type_spec=TensorSpec(shape=(None, 82, 7), dtype=tf.float32, name=None), name='sequential_4/dropout_5/Identity:0', description=\"created by layer 'sequential_4'\") \n",
      "\n",
      "Question encoded KerasTensor(type_spec=TensorSpec(shape=(None, 7, 50), dtype=tf.float32, name=None), name='sequential_5/dropout_6/Identity:0', description=\"created by layer 'sequential_5'\") \n",
      "\n",
      "Match shape KerasTensor(type_spec=TensorSpec(shape=(None, 82, 7), dtype=tf.float32, name=None), name='activation_2/truediv:0', description=\"created by layer 'activation_2'\")\n",
      "Response shape KerasTensor(type_spec=TensorSpec(shape=(None, 7, 82), dtype=tf.float32, name=None), name='permute_1/transpose:0', description=\"created by layer 'permute_1'\")\n",
      "Answer shape KerasTensor(type_spec=TensorSpec(shape=(None, 7, 132), dtype=tf.float32, name=None), name='concatenate_1/concat:0', description=\"created by layer 'concatenate_1'\")\n"
     ]
    }
   ],
   "source": [
    "# 에포크 횟수\n",
    "train_epochs = 120\n",
    "# 배치 크기\n",
    "batch_size = 32\n",
    "# 임베딩 크기\n",
    "embed_size = 50\n",
    "# LSTM의 크기\n",
    "lstm_size = 64\n",
    "# 과적합 방지 기법인 드롭아웃 적용 비율\n",
    "dropout_rate = 0.30\n",
    "\n",
    "#입력을 담아두는 변수들을 정의합니다.\n",
    "input_sequence = Input((story_max_len,))\n",
    "question = Input((question_max_len,))\n",
    " \n",
    "print('Stories :', input_sequence)\n",
    "print('Question:', question)\n",
    "\n",
    "\n",
    "# 스토리를 위한 첫 번째 임베딩. 그림에서의 Embedding A\n",
    "input_encoder_m = Sequential()\n",
    "input_encoder_m.add(Embedding(input_dim=vocab_size,\n",
    "                              output_dim=embed_size))\n",
    "input_encoder_m.add(Dropout(dropout_rate))\n",
    "# 결과 : (samples, story_max_len, embed_size) / 샘플의 수, 문장의 최대 길이, 임베딩 벡터의 차원\n",
    "\n",
    "# 스토리를 위한 두 번째 임베딩. 그림에서의 Embedding C\n",
    "# 임베딩 벡터의 차원을 question_max_len(질문의 최대 길이)로 한다.\n",
    "input_encoder_c = Sequential()\n",
    "input_encoder_c.add(Embedding(input_dim=vocab_size,\n",
    "                              output_dim=question_max_len))\n",
    "input_encoder_c.add(Dropout(dropout_rate))\n",
    "# 결과 : (samples, story_max_len, question_max_len) / 샘플의 수, 문장의 최대 길이, 질문의 최대 길이(임베딩 벡터의 차원)\n",
    "\n",
    "# 질문을 위한 임베딩. 그림에서의 Embedding B\n",
    "question_encoder = Sequential()\n",
    "question_encoder.add(Embedding(input_dim=vocab_size,\n",
    "                               output_dim=embed_size,\n",
    "                               input_length=question_max_len))\n",
    "question_encoder.add(Dropout(dropout_rate))\n",
    "# 결과 : (samples, question_max_len, embed_size) / 샘플의 수, 질문의 최대 길이, 임베딩 벡터의 차원\n",
    "\n",
    "# 실질적인 임베딩 과정\n",
    "input_encoded_m = input_encoder_m(input_sequence)\n",
    "input_encoded_c = input_encoder_c(input_sequence)\n",
    "question_encoded = question_encoder(question)\n",
    "\n",
    "print('Input encoded m', input_encoded_m, '\\n')\n",
    "print('Input encoded c', input_encoded_c, '\\n')\n",
    "print('Question encoded', question_encoded, '\\n')\n",
    "\n",
    "# 스토리 단어들과 질문 단어들 간의 유사도를 구하는 과정\n",
    "# 유사도는 내적을 사용한다.\n",
    "match = dot([input_encoded_m, question_encoded], axes=-1, normalize=False)\n",
    "match = Activation('softmax')(match)\n",
    "print('Match shape', match)\n",
    "# 결과 : (samples, story_max_len, question_max_len) / 샘플의 수, 문장의 최대 길이, 질문의 최대 길이\n",
    "\n",
    "# 매칭 유사도 행렬과 질문에 대한 임베딩을 더한다.\n",
    "response = add([match, input_encoded_c])  # (samples, story_maxlen, question_max_len)\n",
    "response = Permute((2, 1))(response)  # (samples, question_max_len, story_maxlen)\n",
    "print('Response shape', response)\n",
    "\n",
    "# concatenate the response vector with the question vector sequence\n",
    "answer = concatenate([response, question_encoded])\n",
    "print('Answer shape', answer)\n",
    " \n",
    "answer = LSTM(lstm_size)(answer)  # Generate tensors of shape 32\n",
    "answer = Dropout(dropout_rate)(answer)\n",
    "answer = Dense(vocab_size)(answer)  # (samples, vocab_size)\n",
    "# we output a probability distribution over the vocabulary\n",
    "answer = Activation('softmax')(answer)"
   ]
  },
  {
   "cell_type": "code",
   "execution_count": 50,
   "metadata": {},
   "outputs": [
    {
     "name": "stdout",
     "output_type": "stream",
     "text": [
      "Epoch 1/120\n",
      "313/313 [==============================] - 3s 5ms/step - loss: 2.0425 - acc: 0.1678 - val_loss: 1.6627 - val_acc: 0.2600\n",
      "Epoch 2/120\n",
      "313/313 [==============================] - 1s 3ms/step - loss: 1.7014 - acc: 0.2392 - val_loss: 1.6297 - val_acc: 0.2740\n",
      "Epoch 3/120\n",
      "313/313 [==============================] - 1s 4ms/step - loss: 1.6530 - acc: 0.2734 - val_loss: 1.6194 - val_acc: 0.3030\n",
      "Epoch 4/120\n",
      "313/313 [==============================] - 1s 3ms/step - loss: 1.6266 - acc: 0.3077 - val_loss: 1.4970 - val_acc: 0.4110\n",
      "Epoch 5/120\n",
      "313/313 [==============================] - 1s 3ms/step - loss: 1.5124 - acc: 0.4114 - val_loss: 1.4230 - val_acc: 0.4650\n",
      "Epoch 6/120\n",
      "313/313 [==============================] - 1s 3ms/step - loss: 1.4467 - acc: 0.4509 - val_loss: 1.4165 - val_acc: 0.4600\n",
      "Epoch 7/120\n",
      "313/313 [==============================] - 1s 3ms/step - loss: 1.3978 - acc: 0.4793 - val_loss: 1.3196 - val_acc: 0.4960\n",
      "Epoch 8/120\n",
      "313/313 [==============================] - 1s 3ms/step - loss: 1.3172 - acc: 0.5113 - val_loss: 1.2934 - val_acc: 0.5110\n",
      "Epoch 9/120\n",
      "313/313 [==============================] - 1s 3ms/step - loss: 1.2933 - acc: 0.5136 - val_loss: 1.2575 - val_acc: 0.5310\n",
      "Epoch 10/120\n",
      "313/313 [==============================] - 1s 4ms/step - loss: 1.2627 - acc: 0.5262 - val_loss: 1.2642 - val_acc: 0.5200\n",
      "Epoch 11/120\n",
      "313/313 [==============================] - 1s 4ms/step - loss: 1.2331 - acc: 0.5295 - val_loss: 1.2478 - val_acc: 0.5250\n",
      "Epoch 12/120\n",
      "313/313 [==============================] - 1s 3ms/step - loss: 1.1893 - acc: 0.5558 - val_loss: 1.1949 - val_acc: 0.5580\n",
      "Epoch 13/120\n",
      "313/313 [==============================] - 1s 4ms/step - loss: 1.1665 - acc: 0.5679 - val_loss: 1.1568 - val_acc: 0.5550\n",
      "Epoch 14/120\n",
      "313/313 [==============================] - 1s 4ms/step - loss: 1.1559 - acc: 0.5713 - val_loss: 1.1433 - val_acc: 0.5640\n",
      "Epoch 15/120\n",
      "313/313 [==============================] - 1s 3ms/step - loss: 1.1049 - acc: 0.5868 - val_loss: 1.1597 - val_acc: 0.5660\n",
      "Epoch 16/120\n",
      "313/313 [==============================] - 1s 3ms/step - loss: 1.0808 - acc: 0.5959 - val_loss: 1.1064 - val_acc: 0.5820\n",
      "Epoch 17/120\n",
      "313/313 [==============================] - 1s 3ms/step - loss: 1.0822 - acc: 0.5964 - val_loss: 1.1627 - val_acc: 0.5650\n",
      "Epoch 18/120\n",
      "313/313 [==============================] - 1s 3ms/step - loss: 1.0601 - acc: 0.5978 - val_loss: 1.1113 - val_acc: 0.5960\n",
      "Epoch 19/120\n",
      "313/313 [==============================] - 1s 3ms/step - loss: 1.0142 - acc: 0.6220 - val_loss: 1.1177 - val_acc: 0.5930\n",
      "Epoch 20/120\n",
      "313/313 [==============================] - 1s 3ms/step - loss: 1.0144 - acc: 0.6271 - val_loss: 1.0921 - val_acc: 0.5940\n",
      "Epoch 21/120\n",
      "313/313 [==============================] - 1s 3ms/step - loss: 0.9874 - acc: 0.6357 - val_loss: 1.0650 - val_acc: 0.6200\n",
      "Epoch 22/120\n",
      "313/313 [==============================] - 1s 3ms/step - loss: 0.9479 - acc: 0.6588 - val_loss: 1.0599 - val_acc: 0.6210\n",
      "Epoch 23/120\n",
      "313/313 [==============================] - 1s 3ms/step - loss: 0.9452 - acc: 0.6618 - val_loss: 1.0360 - val_acc: 0.6360\n",
      "Epoch 24/120\n",
      "313/313 [==============================] - 1s 4ms/step - loss: 0.8996 - acc: 0.6816 - val_loss: 0.9895 - val_acc: 0.6690\n",
      "Epoch 25/120\n",
      "313/313 [==============================] - 1s 4ms/step - loss: 0.8649 - acc: 0.6995 - val_loss: 0.9352 - val_acc: 0.6820\n",
      "Epoch 26/120\n",
      "313/313 [==============================] - 1s 3ms/step - loss: 0.7934 - acc: 0.7290 - val_loss: 0.8726 - val_acc: 0.7050\n",
      "Epoch 27/120\n",
      "313/313 [==============================] - 1s 3ms/step - loss: 0.7450 - acc: 0.7518 - val_loss: 0.7742 - val_acc: 0.7290\n",
      "Epoch 28/120\n",
      "313/313 [==============================] - 1s 3ms/step - loss: 0.7052 - acc: 0.7589 - val_loss: 0.7749 - val_acc: 0.7360\n",
      "Epoch 29/120\n",
      "313/313 [==============================] - 1s 3ms/step - loss: 0.6591 - acc: 0.7757 - val_loss: 0.7245 - val_acc: 0.7400\n",
      "Epoch 30/120\n",
      "313/313 [==============================] - 1s 3ms/step - loss: 0.6228 - acc: 0.7841 - val_loss: 0.7773 - val_acc: 0.7400\n",
      "Epoch 31/120\n",
      "313/313 [==============================] - 1s 3ms/step - loss: 0.5899 - acc: 0.7968 - val_loss: 0.7285 - val_acc: 0.7480\n",
      "Epoch 32/120\n",
      "313/313 [==============================] - 1s 3ms/step - loss: 0.5865 - acc: 0.7978 - val_loss: 0.7001 - val_acc: 0.7500\n",
      "Epoch 33/120\n",
      "313/313 [==============================] - 1s 3ms/step - loss: 0.5531 - acc: 0.8058 - val_loss: 0.6874 - val_acc: 0.7550\n",
      "Epoch 34/120\n",
      "313/313 [==============================] - 1s 4ms/step - loss: 0.5276 - acc: 0.8111 - val_loss: 0.6858 - val_acc: 0.7620\n",
      "Epoch 35/120\n",
      "313/313 [==============================] - 1s 4ms/step - loss: 0.5233 - acc: 0.8162 - val_loss: 0.7021 - val_acc: 0.7600\n",
      "Epoch 36/120\n",
      "313/313 [==============================] - 1s 3ms/step - loss: 0.5018 - acc: 0.8167 - val_loss: 0.6787 - val_acc: 0.7560\n",
      "Epoch 37/120\n",
      "313/313 [==============================] - 1s 3ms/step - loss: 0.4869 - acc: 0.8227 - val_loss: 0.6653 - val_acc: 0.7640\n",
      "Epoch 38/120\n",
      "313/313 [==============================] - 1s 3ms/step - loss: 0.4896 - acc: 0.8342 - val_loss: 0.6639 - val_acc: 0.7610\n",
      "Epoch 39/120\n",
      "313/313 [==============================] - 1s 3ms/step - loss: 0.4597 - acc: 0.8363 - val_loss: 0.6572 - val_acc: 0.7690\n",
      "Epoch 40/120\n",
      "313/313 [==============================] - 1s 3ms/step - loss: 0.4445 - acc: 0.8391 - val_loss: 0.6886 - val_acc: 0.7710\n",
      "Epoch 41/120\n",
      "313/313 [==============================] - 1s 3ms/step - loss: 0.4266 - acc: 0.8486 - val_loss: 0.6549 - val_acc: 0.7690\n",
      "Epoch 42/120\n",
      "313/313 [==============================] - 1s 3ms/step - loss: 0.4075 - acc: 0.8567 - val_loss: 0.6656 - val_acc: 0.7690\n",
      "Epoch 43/120\n",
      "313/313 [==============================] - 1s 3ms/step - loss: 0.4012 - acc: 0.8593 - val_loss: 0.6709 - val_acc: 0.7660\n",
      "Epoch 44/120\n",
      "313/313 [==============================] - 1s 3ms/step - loss: 0.3814 - acc: 0.8581 - val_loss: 0.6598 - val_acc: 0.7700\n",
      "Epoch 45/120\n",
      "313/313 [==============================] - 1s 3ms/step - loss: 0.3961 - acc: 0.8643 - val_loss: 0.6608 - val_acc: 0.7820\n",
      "Epoch 46/120\n",
      "313/313 [==============================] - 1s 3ms/step - loss: 0.3776 - acc: 0.8665 - val_loss: 0.6637 - val_acc: 0.7820\n",
      "Epoch 47/120\n",
      "313/313 [==============================] - 1s 3ms/step - loss: 0.3616 - acc: 0.8702 - val_loss: 0.6695 - val_acc: 0.7750\n",
      "Epoch 48/120\n",
      "313/313 [==============================] - 1s 3ms/step - loss: 0.3515 - acc: 0.8756 - val_loss: 0.6866 - val_acc: 0.7800\n",
      "Epoch 49/120\n",
      "313/313 [==============================] - 1s 3ms/step - loss: 0.3591 - acc: 0.8743 - val_loss: 0.6496 - val_acc: 0.7920\n",
      "Epoch 50/120\n",
      "313/313 [==============================] - 1s 3ms/step - loss: 0.3386 - acc: 0.8813 - val_loss: 0.6568 - val_acc: 0.7890\n",
      "Epoch 51/120\n",
      "313/313 [==============================] - 1s 3ms/step - loss: 0.3380 - acc: 0.8803 - val_loss: 0.6481 - val_acc: 0.7860\n",
      "Epoch 52/120\n",
      "313/313 [==============================] - 1s 3ms/step - loss: 0.3184 - acc: 0.8906 - val_loss: 0.6461 - val_acc: 0.7870\n",
      "Epoch 53/120\n",
      "313/313 [==============================] - 1s 3ms/step - loss: 0.3132 - acc: 0.8874 - val_loss: 0.6557 - val_acc: 0.7880\n",
      "Epoch 54/120\n",
      "313/313 [==============================] - 1s 3ms/step - loss: 0.3046 - acc: 0.8921 - val_loss: 0.6703 - val_acc: 0.7890\n",
      "Epoch 55/120\n",
      "313/313 [==============================] - 1s 3ms/step - loss: 0.2998 - acc: 0.8934 - val_loss: 0.7143 - val_acc: 0.7760\n",
      "Epoch 56/120\n",
      "313/313 [==============================] - 1s 3ms/step - loss: 0.2872 - acc: 0.8979 - val_loss: 0.6714 - val_acc: 0.7960\n",
      "Epoch 57/120\n",
      "313/313 [==============================] - 1s 3ms/step - loss: 0.2938 - acc: 0.8979 - val_loss: 0.6983 - val_acc: 0.7810\n",
      "Epoch 58/120\n",
      "313/313 [==============================] - 1s 3ms/step - loss: 0.2780 - acc: 0.8993 - val_loss: 0.6797 - val_acc: 0.7930\n",
      "Epoch 59/120\n",
      "313/313 [==============================] - 1s 3ms/step - loss: 0.2792 - acc: 0.9072 - val_loss: 0.6870 - val_acc: 0.8030\n",
      "Epoch 60/120\n",
      "313/313 [==============================] - 1s 3ms/step - loss: 0.2594 - acc: 0.9087 - val_loss: 0.7295 - val_acc: 0.7840\n",
      "Epoch 61/120\n",
      "313/313 [==============================] - 1s 3ms/step - loss: 0.2579 - acc: 0.9103 - val_loss: 0.7163 - val_acc: 0.8000\n",
      "Epoch 62/120\n",
      "313/313 [==============================] - 1s 3ms/step - loss: 0.2496 - acc: 0.9128 - val_loss: 0.7169 - val_acc: 0.7870\n",
      "Epoch 63/120\n",
      "313/313 [==============================] - 1s 3ms/step - loss: 0.2490 - acc: 0.9125 - val_loss: 0.6782 - val_acc: 0.7930\n",
      "Epoch 64/120\n",
      "313/313 [==============================] - 1s 3ms/step - loss: 0.2594 - acc: 0.9057 - val_loss: 0.7137 - val_acc: 0.7990\n",
      "Epoch 65/120\n",
      "313/313 [==============================] - 1s 3ms/step - loss: 0.2323 - acc: 0.9177 - val_loss: 0.7244 - val_acc: 0.7930\n",
      "Epoch 66/120\n",
      "313/313 [==============================] - 1s 3ms/step - loss: 0.2297 - acc: 0.9151 - val_loss: 0.8005 - val_acc: 0.7860\n",
      "Epoch 67/120\n",
      "313/313 [==============================] - 1s 3ms/step - loss: 0.2367 - acc: 0.9205 - val_loss: 0.7977 - val_acc: 0.7970\n",
      "Epoch 68/120\n",
      "313/313 [==============================] - 1s 3ms/step - loss: 0.2224 - acc: 0.9245 - val_loss: 0.7256 - val_acc: 0.8090\n",
      "Epoch 69/120\n",
      "313/313 [==============================] - 1s 3ms/step - loss: 0.2255 - acc: 0.9253 - val_loss: 0.7271 - val_acc: 0.7990\n",
      "Epoch 70/120\n",
      "313/313 [==============================] - 1s 3ms/step - loss: 0.2166 - acc: 0.9244 - val_loss: 0.7869 - val_acc: 0.7940\n",
      "Epoch 71/120\n",
      "313/313 [==============================] - 1s 3ms/step - loss: 0.2136 - acc: 0.9238 - val_loss: 0.7651 - val_acc: 0.8070\n",
      "Epoch 72/120\n",
      "313/313 [==============================] - 1s 3ms/step - loss: 0.2153 - acc: 0.9270 - val_loss: 0.7975 - val_acc: 0.7930\n",
      "Epoch 73/120\n",
      "313/313 [==============================] - 1s 3ms/step - loss: 0.2111 - acc: 0.9270 - val_loss: 0.7437 - val_acc: 0.7990\n",
      "Epoch 74/120\n",
      "313/313 [==============================] - 1s 3ms/step - loss: 0.1876 - acc: 0.9364 - val_loss: 0.7495 - val_acc: 0.7990\n",
      "Epoch 75/120\n",
      "313/313 [==============================] - 1s 3ms/step - loss: 0.1939 - acc: 0.9358 - val_loss: 0.7624 - val_acc: 0.8040\n",
      "Epoch 76/120\n",
      "313/313 [==============================] - 1s 3ms/step - loss: 0.1915 - acc: 0.9366 - val_loss: 0.7588 - val_acc: 0.8110\n",
      "Epoch 77/120\n",
      "313/313 [==============================] - 1s 3ms/step - loss: 0.1908 - acc: 0.9299 - val_loss: 0.8016 - val_acc: 0.8040\n",
      "Epoch 78/120\n",
      "313/313 [==============================] - 1s 3ms/step - loss: 0.1870 - acc: 0.9346 - val_loss: 0.7615 - val_acc: 0.8010\n",
      "Epoch 79/120\n",
      "313/313 [==============================] - 1s 3ms/step - loss: 0.1850 - acc: 0.9340 - val_loss: 0.7597 - val_acc: 0.8070\n",
      "Epoch 80/120\n",
      "313/313 [==============================] - 1s 3ms/step - loss: 0.1739 - acc: 0.9416 - val_loss: 0.8068 - val_acc: 0.8020\n",
      "Epoch 81/120\n",
      "313/313 [==============================] - 1s 3ms/step - loss: 0.1693 - acc: 0.9432 - val_loss: 0.7754 - val_acc: 0.8080\n",
      "Epoch 82/120\n",
      "313/313 [==============================] - 1s 3ms/step - loss: 0.1824 - acc: 0.9369 - val_loss: 0.7651 - val_acc: 0.8020\n",
      "Epoch 83/120\n",
      "313/313 [==============================] - 1s 3ms/step - loss: 0.1722 - acc: 0.9397 - val_loss: 0.8117 - val_acc: 0.8080\n",
      "Epoch 84/120\n",
      "313/313 [==============================] - 1s 3ms/step - loss: 0.1614 - acc: 0.9447 - val_loss: 0.8392 - val_acc: 0.8040\n",
      "Epoch 85/120\n",
      "313/313 [==============================] - 1s 3ms/step - loss: 0.1673 - acc: 0.9405 - val_loss: 0.7687 - val_acc: 0.8020\n",
      "Epoch 86/120\n",
      "313/313 [==============================] - 1s 3ms/step - loss: 0.1631 - acc: 0.9460 - val_loss: 0.8175 - val_acc: 0.8060\n",
      "Epoch 87/120\n",
      "313/313 [==============================] - 1s 3ms/step - loss: 0.1592 - acc: 0.9445 - val_loss: 0.8435 - val_acc: 0.8010\n",
      "Epoch 88/120\n",
      "313/313 [==============================] - 1s 3ms/step - loss: 0.1591 - acc: 0.9475 - val_loss: 0.8127 - val_acc: 0.8130\n",
      "Epoch 89/120\n",
      "313/313 [==============================] - 1s 3ms/step - loss: 0.1564 - acc: 0.9451 - val_loss: 0.8454 - val_acc: 0.8080\n",
      "Epoch 90/120\n",
      "313/313 [==============================] - 1s 3ms/step - loss: 0.1529 - acc: 0.9453 - val_loss: 0.8709 - val_acc: 0.7940\n",
      "Epoch 91/120\n",
      "313/313 [==============================] - 1s 3ms/step - loss: 0.1474 - acc: 0.9483 - val_loss: 0.8338 - val_acc: 0.7940\n",
      "Epoch 92/120\n",
      "313/313 [==============================] - 1s 3ms/step - loss: 0.1441 - acc: 0.9476 - val_loss: 0.8580 - val_acc: 0.8100\n",
      "Epoch 93/120\n",
      "313/313 [==============================] - 1s 4ms/step - loss: 0.1313 - acc: 0.9539 - val_loss: 0.8952 - val_acc: 0.8090\n",
      "Epoch 94/120\n",
      "313/313 [==============================] - 1s 4ms/step - loss: 0.1408 - acc: 0.9493 - val_loss: 0.8441 - val_acc: 0.8100\n",
      "Epoch 95/120\n",
      "313/313 [==============================] - 1s 3ms/step - loss: 0.1475 - acc: 0.9482 - val_loss: 0.9057 - val_acc: 0.8040\n",
      "Epoch 96/120\n",
      "313/313 [==============================] - 1s 3ms/step - loss: 0.1310 - acc: 0.9558 - val_loss: 0.8651 - val_acc: 0.8070\n",
      "Epoch 97/120\n",
      "313/313 [==============================] - 1s 4ms/step - loss: 0.1383 - acc: 0.9540 - val_loss: 0.8616 - val_acc: 0.8130\n",
      "Epoch 98/120\n",
      "313/313 [==============================] - 1s 4ms/step - loss: 0.1346 - acc: 0.9515 - val_loss: 0.8739 - val_acc: 0.8110\n",
      "Epoch 99/120\n",
      "313/313 [==============================] - 1s 4ms/step - loss: 0.1140 - acc: 0.9593 - val_loss: 0.8313 - val_acc: 0.8140\n",
      "Epoch 100/120\n",
      "313/313 [==============================] - 1s 4ms/step - loss: 0.1266 - acc: 0.9525 - val_loss: 0.8671 - val_acc: 0.8080\n",
      "Epoch 101/120\n",
      "313/313 [==============================] - 1s 4ms/step - loss: 0.1332 - acc: 0.9541 - val_loss: 0.9420 - val_acc: 0.8090\n",
      "Epoch 102/120\n",
      "313/313 [==============================] - 1s 4ms/step - loss: 0.1217 - acc: 0.9582 - val_loss: 0.9320 - val_acc: 0.8150\n",
      "Epoch 103/120\n",
      "313/313 [==============================] - 1s 4ms/step - loss: 0.1132 - acc: 0.9631 - val_loss: 0.9295 - val_acc: 0.8050\n",
      "Epoch 104/120\n",
      "313/313 [==============================] - 1s 4ms/step - loss: 0.1134 - acc: 0.9622 - val_loss: 0.9016 - val_acc: 0.8110\n",
      "Epoch 105/120\n",
      "313/313 [==============================] - 1s 4ms/step - loss: 0.1159 - acc: 0.9600 - val_loss: 0.8896 - val_acc: 0.8080\n",
      "Epoch 106/120\n",
      "313/313 [==============================] - 1s 4ms/step - loss: 0.1227 - acc: 0.9577 - val_loss: 0.8816 - val_acc: 0.8060\n",
      "Epoch 107/120\n",
      "313/313 [==============================] - 1s 3ms/step - loss: 0.1161 - acc: 0.9607 - val_loss: 0.9005 - val_acc: 0.8060\n",
      "Epoch 108/120\n",
      "313/313 [==============================] - 1s 3ms/step - loss: 0.1129 - acc: 0.9642 - val_loss: 0.9415 - val_acc: 0.8010\n",
      "Epoch 109/120\n",
      "313/313 [==============================] - 1s 3ms/step - loss: 0.1066 - acc: 0.9637 - val_loss: 0.9481 - val_acc: 0.8100\n",
      "Epoch 110/120\n",
      "313/313 [==============================] - 1s 4ms/step - loss: 0.1035 - acc: 0.9633 - val_loss: 0.9430 - val_acc: 0.8110\n",
      "Epoch 111/120\n",
      "313/313 [==============================] - 1s 3ms/step - loss: 0.1139 - acc: 0.9626 - val_loss: 0.9631 - val_acc: 0.8130\n",
      "Epoch 112/120\n",
      "313/313 [==============================] - 1s 4ms/step - loss: 0.1107 - acc: 0.9654 - val_loss: 0.9048 - val_acc: 0.8010\n",
      "Epoch 113/120\n",
      "313/313 [==============================] - 1s 4ms/step - loss: 0.1004 - acc: 0.9671 - val_loss: 0.9292 - val_acc: 0.8170\n",
      "Epoch 114/120\n",
      "313/313 [==============================] - 1s 4ms/step - loss: 0.1033 - acc: 0.9643 - val_loss: 0.9123 - val_acc: 0.8170\n",
      "Epoch 115/120\n",
      "313/313 [==============================] - 1s 4ms/step - loss: 0.1011 - acc: 0.9647 - val_loss: 0.9577 - val_acc: 0.8140\n",
      "Epoch 116/120\n",
      "313/313 [==============================] - 1s 4ms/step - loss: 0.0974 - acc: 0.9673 - val_loss: 0.9515 - val_acc: 0.8000\n",
      "Epoch 117/120\n",
      "313/313 [==============================] - 1s 4ms/step - loss: 0.1049 - acc: 0.9647 - val_loss: 0.9546 - val_acc: 0.8000\n",
      "Epoch 118/120\n",
      "313/313 [==============================] - 1s 4ms/step - loss: 0.0980 - acc: 0.9673 - val_loss: 0.9956 - val_acc: 0.8080\n",
      "Epoch 119/120\n",
      "313/313 [==============================] - 1s 4ms/step - loss: 0.1029 - acc: 0.9673 - val_loss: 1.0167 - val_acc: 0.7980\n",
      "Epoch 120/120\n",
      "313/313 [==============================] - 1s 4ms/step - loss: 0.1034 - acc: 0.9654 - val_loss: 0.9654 - val_acc: 0.8120\n"
     ]
    }
   ],
   "source": [
    "# 모델 컴파일\n",
    "model = Model([input_sequence, question], answer)\n",
    "model.compile(optimizer='rmsprop', loss='categorical_crossentropy',\n",
    "              metrics=['acc'])\n",
    " \n",
    "# 테스트 데이터를 검증 데이터로 사용하면서 모델 훈련 시작\n",
    "history = model.fit([Xstrain, Xqtrain],\n",
    "         Ytrain, batch_size, train_epochs,\n",
    "         validation_data=([Xstest, Xqtest], Ytest))\n",
    " \n",
    "# 훈련 후에는 모델 저장\n",
    "model_path = os.getenv('HOME')+'/aiffel/babi_memory_net/model2.h5'\n",
    "model.save(model_path)"
   ]
  },
  {
   "cell_type": "code",
   "execution_count": 51,
   "metadata": {},
   "outputs": [
    {
     "data": {
      "image/png": "[encoded data removed]",
      "text/plain": [
       "<Figure size 432x288 with 2 Axes>"
      ]
     },
     "metadata": {
      "needs_background": "light"
     },
     "output_type": "display_data"
    }
   ],
   "source": [
    "# plot accuracy and loss plot\n",
    "plt.subplot(211)\n",
    "plt.title(\"Accuracy\")\n",
    "plt.plot(history.history[\"acc\"], color=\"g\", label=\"train\")\n",
    "plt.plot(history.history[\"val_acc\"], color=\"b\", label=\"validation\")\n",
    "plt.legend(loc=\"best\")\n",
    "\n",
    "plt.subplot(212)\n",
    "plt.title(\"Loss\")\n",
    "plt.plot(history.history[\"loss\"], color=\"g\", label=\"train\")\n",
    "plt.plot(history.history[\"val_loss\"], color=\"b\", label=\"validation\")\n",
    "plt.legend(loc=\"best\")\n",
    "\n",
    "plt.tight_layout()\n",
    "plt.show()\n",
    "\n",
    "# labels\n",
    "ytest = np.argmax(Ytest, axis=1)\n",
    "\n",
    "# get predictions\n",
    "Ytest_ = model.predict([Xstest, Xqtest])\n",
    "ytest_ = np.argmax(Ytest_, axis=1)"
   ]
  },
  {
   "cell_type": "code",
   "execution_count": 52,
   "metadata": {},
   "outputs": [
    {
     "name": "stdout",
     "output_type": "stream",
     "text": [
      "32/32 [==============================] - 0s 2ms/step - loss: 0.9654 - acc: 0.8120\n",
      "\n",
      " 테스트 정확도: 0.8120\n"
     ]
    }
   ],
   "source": [
    "print(\"\\n 테스트 정확도: %.4f\" % (model.evaluate([Xstest, Xqtest], Ytest)[1])) #90퍼는 어떻게 달성해야 하나요?"
   ]
  },
  {
   "cell_type": "markdown",
   "metadata": {},
   "source": [
    "# 회고\n",
    "end-to-end 모델을 구현하는데 코드를 직접 짜지는 못하고 노드에 있는 코드들을 거의 복붙해다 쓰는 식이라 어렵지는 않았다.\n",
    "그냥 각각의 코드들이 어떤 역할을 할지 고민해보는 시간을 가졌던 것 같다."
   ]
  }
 ],
 "metadata": {
  "kernelspec": {
   "display_name": "aiffel",
   "language": "python",
   "name": "aiffel"
  },
  "language_info": {
   "codemirror_mode": {
    "name": "ipython",
    "version": 3
   },
   "file_extension": ".py",
   "mimetype": "text/x-python",
   "name": "python",
   "nbconvert_exporter": "python",
   "pygments_lexer": "ipython3",
   "version": "3.7.10"
  }
 },
 "nbformat": 4,
 "nbformat_minor": 4
}
