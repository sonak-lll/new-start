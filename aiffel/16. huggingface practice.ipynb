{
 "cells": [
  {
   "cell_type": "markdown",
   "metadata": {},
   "source": [
    "# HUGGINGFACE FRAMEWORK를 활용해보는 프로젝트\n",
    "1. Task 정의 후 그에 맞게 dataset가공\n",
    "2. model 선택과  model 빌드\n",
    "3. 데이터 학습\n",
    "4. weight와 config(설정)저장 => checkpoint 생성\n",
    "5. 배포 혹은 분석\n",
    "\n",
    "## transformers의 형태\n",
    "`Processors` : dataset 가공   \n",
    "`Tokenizer` : 전처리    \n",
    "`Model` : 모델    \n",
    "`Optimization` : optimizer와 학습 schedule(warm up 등)을 관리     \n",
    "`Trainer` : 학습 전반 관리     \n",
    "`Config` : 각종 설정에 대한 저정, w, tokenizer, model etc\n",
    "\n",
    "\n",
    "## 1. Model\n",
    "**model import**\n",
    "1. from transformers import TFBertForPreTraining\n",
    "2. from transformers import TFAutoModel\n",
    "\n",
    "huggingface의 pretrain된 모델을 불러오려면 Model ID를 strig으로 넣어주면 된다. model = TFAutoModel.from_pretrained(\"bert-base-cased\")\n",
    "*여기서 bert-base-cased가 model ID*\n",
    "\n",
    "## 2. Tokenizer\n",
    " 파라미터 구조가 동일한 Model이라 하더라도 Tokenizer가 다르거나 Tokenizer 내의 Dictionary가 달라지면 사실상 완전히 다른 모델이 됩니다. 그리고 Tokenizer는 어떤 언어를 다루느냐 하는 코퍼스 데이터셋에 따라서도 달라집니다"
   ]
  },
  {
   "cell_type": "code",
   "execution_count": null,
   "metadata": {},
   "outputs": [],
   "source": []
  }
 ],
 "metadata": {
  "kernelspec": {
   "display_name": "aiffel",
   "language": "python",
   "name": "aiffel"
  },
  "language_info": {
   "codemirror_mode": {
    "name": "ipython",
    "version": 3
   },
   "file_extension": ".py",
   "mimetype": "text/x-python",
   "name": "python",
   "nbconvert_exporter": "python",
   "pygments_lexer": "ipython3",
   "version": "3.7.10"
  }
 },
 "nbformat": 4,
 "nbformat_minor": 4
}
