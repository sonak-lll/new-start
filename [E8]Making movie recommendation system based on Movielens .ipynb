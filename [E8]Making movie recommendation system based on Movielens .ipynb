{
 "cells": [
  {
   "cell_type": "markdown",
   "id": "molecular-electricity",
   "metadata": {},
   "source": [
    "# 8-9. 프로젝트 - Movielens 영화 추천 실습"
   ]
  },
  {
   "cell_type": "markdown",
   "id": "painful-potato",
   "metadata": {},
   "source": [
    "# 1) 데이터 준비와 전처리"
   ]
  },
  {
   "cell_type": "code",
   "execution_count": 1,
   "id": "funded-convention",
   "metadata": {},
   "outputs": [
    {
     "data": {
      "text/html": [
       "<div>\n",
       "<style scoped>\n",
       "    .dataframe tbody tr th:only-of-type {\n",
       "        vertical-align: middle;\n",
       "    }\n",
       "\n",
       "    .dataframe tbody tr th {\n",
       "        vertical-align: top;\n",
       "    }\n",
       "\n",
       "    .dataframe thead th {\n",
       "        text-align: right;\n",
       "    }\n",
       "</style>\n",
       "<table border=\"1\" class=\"dataframe\">\n",
       "  <thead>\n",
       "    <tr style=\"text-align: right;\">\n",
       "      <th></th>\n",
       "      <th>user_id</th>\n",
       "      <th>movie_id</th>\n",
       "      <th>rating</th>\n",
       "      <th>timestamp</th>\n",
       "    </tr>\n",
       "  </thead>\n",
       "  <tbody>\n",
       "    <tr>\n",
       "      <th>0</th>\n",
       "      <td>1</td>\n",
       "      <td>1193</td>\n",
       "      <td>5</td>\n",
       "      <td>978300760</td>\n",
       "    </tr>\n",
       "    <tr>\n",
       "      <th>1</th>\n",
       "      <td>1</td>\n",
       "      <td>661</td>\n",
       "      <td>3</td>\n",
       "      <td>978302109</td>\n",
       "    </tr>\n",
       "    <tr>\n",
       "      <th>2</th>\n",
       "      <td>1</td>\n",
       "      <td>914</td>\n",
       "      <td>3</td>\n",
       "      <td>978301968</td>\n",
       "    </tr>\n",
       "    <tr>\n",
       "      <th>3</th>\n",
       "      <td>1</td>\n",
       "      <td>3408</td>\n",
       "      <td>4</td>\n",
       "      <td>978300275</td>\n",
       "    </tr>\n",
       "    <tr>\n",
       "      <th>4</th>\n",
       "      <td>1</td>\n",
       "      <td>2355</td>\n",
       "      <td>5</td>\n",
       "      <td>978824291</td>\n",
       "    </tr>\n",
       "  </tbody>\n",
       "</table>\n",
       "</div>"
      ],
      "text/plain": [
       "   user_id  movie_id  rating  timestamp\n",
       "0        1      1193       5  978300760\n",
       "1        1       661       3  978302109\n",
       "2        1       914       3  978301968\n",
       "3        1      3408       4  978300275\n",
       "4        1      2355       5  978824291"
      ]
     },
     "execution_count": 1,
     "metadata": {},
     "output_type": "execute_result"
    }
   ],
   "source": [
    "import pandas as pd\n",
    "import numpy as np\n",
    "import os\n",
    "rating_file_path=os.getenv('HOME') + '/aiffel/recommendata_iu/data/ml-1m/ratings.dat'\n",
    "ratings_cols = ['user_id', 'movie_id', 'rating', 'timestamp']\n",
    "ratings = pd.read_csv(rating_file_path, sep='::', names=ratings_cols, engine='python')\n",
    "orginal_data_size = len(ratings)\n",
    "ratings.head()"
   ]
  },
  {
   "cell_type": "code",
   "execution_count": 2,
   "id": "decreased-cache",
   "metadata": {},
   "outputs": [
    {
     "name": "stdout",
     "output_type": "stream",
     "text": [
      "orginal_data_size: 1000209, filtered_data_size: 836478\n",
      "Ratio of Remaining Data is 83.63%\n"
     ]
    }
   ],
   "source": [
    "# 3점 이상만 남깁니다.\n",
    "ratings = ratings[ratings['rating']>=3]\n",
    "filtered_data_size = len(ratings)\n",
    "print(f'orginal_data_size: {orginal_data_size}, filtered_data_size: {filtered_data_size}')\n",
    "print(f'Ratio of Remaining Data is {filtered_data_size / orginal_data_size:.2%}')"
   ]
  },
  {
   "cell_type": "code",
   "execution_count": 3,
   "id": "regular-passage",
   "metadata": {},
   "outputs": [],
   "source": [
    "# rating 컬럼의 이름을 count로 바꿉니다.\n",
    "ratings.rename(columns={'rating':'count'}, inplace=True)\n"
   ]
  },
  {
   "cell_type": "code",
   "execution_count": 4,
   "id": "continuing-compromise",
   "metadata": {},
   "outputs": [
    {
     "data": {
      "text/plain": [
       "0          5\n",
       "1          3\n",
       "2          3\n",
       "3          4\n",
       "4          5\n",
       "          ..\n",
       "1000203    3\n",
       "1000205    5\n",
       "1000206    5\n",
       "1000207    4\n",
       "1000208    4\n",
       "Name: count, Length: 836478, dtype: int64"
      ]
     },
     "execution_count": 4,
     "metadata": {},
     "output_type": "execute_result"
    }
   ],
   "source": [
    "ratings['count']"
   ]
  },
  {
   "cell_type": "code",
   "execution_count": 5,
   "id": "periodic-guard",
   "metadata": {},
   "outputs": [],
   "source": [
    "# 영화 제목을 보기 위해 메타 데이터를 읽어옵니다.\n",
    "movie_file_path=os.getenv('HOME') + '/aiffel/recommendata_iu/data/ml-1m/movies.dat'\n",
    "cols = ['movie_id', 'title', 'genre'] \n",
    "movies = pd.read_csv(movie_file_path, sep='::', names=cols, engine='python')"
   ]
  },
  {
   "cell_type": "markdown",
   "id": "royal-final",
   "metadata": {},
   "source": [
    ") 분석해 봅시다.\n",
    "ratings에 있는 유니크한 영화 개수\n",
    "rating에 있는 유니크한 사용자 수\n",
    "가장 인기 있는 영화 30개(인기순)"
   ]
  },
  {
   "cell_type": "code",
   "execution_count": 6,
   "id": "muslim-possibility",
   "metadata": {},
   "outputs": [
    {
     "data": {
      "text/html": [
       "<div>\n",
       "<style scoped>\n",
       "    .dataframe tbody tr th:only-of-type {\n",
       "        vertical-align: middle;\n",
       "    }\n",
       "\n",
       "    .dataframe tbody tr th {\n",
       "        vertical-align: top;\n",
       "    }\n",
       "\n",
       "    .dataframe thead th {\n",
       "        text-align: right;\n",
       "    }\n",
       "</style>\n",
       "<table border=\"1\" class=\"dataframe\">\n",
       "  <thead>\n",
       "    <tr style=\"text-align: right;\">\n",
       "      <th></th>\n",
       "      <th>movie_id</th>\n",
       "      <th>title</th>\n",
       "      <th>genre</th>\n",
       "    </tr>\n",
       "  </thead>\n",
       "  <tbody>\n",
       "    <tr>\n",
       "      <th>0</th>\n",
       "      <td>1</td>\n",
       "      <td>Toy Story (1995)</td>\n",
       "      <td>Animation|Children's|Comedy</td>\n",
       "    </tr>\n",
       "    <tr>\n",
       "      <th>1</th>\n",
       "      <td>2</td>\n",
       "      <td>Jumanji (1995)</td>\n",
       "      <td>Adventure|Children's|Fantasy</td>\n",
       "    </tr>\n",
       "    <tr>\n",
       "      <th>2</th>\n",
       "      <td>3</td>\n",
       "      <td>Grumpier Old Men (1995)</td>\n",
       "      <td>Comedy|Romance</td>\n",
       "    </tr>\n",
       "    <tr>\n",
       "      <th>3</th>\n",
       "      <td>4</td>\n",
       "      <td>Waiting to Exhale (1995)</td>\n",
       "      <td>Comedy|Drama</td>\n",
       "    </tr>\n",
       "    <tr>\n",
       "      <th>4</th>\n",
       "      <td>5</td>\n",
       "      <td>Father of the Bride Part II (1995)</td>\n",
       "      <td>Comedy</td>\n",
       "    </tr>\n",
       "  </tbody>\n",
       "</table>\n",
       "</div>"
      ],
      "text/plain": [
       "   movie_id                               title                         genre\n",
       "0         1                    Toy Story (1995)   Animation|Children's|Comedy\n",
       "1         2                      Jumanji (1995)  Adventure|Children's|Fantasy\n",
       "2         3             Grumpier Old Men (1995)                Comedy|Romance\n",
       "3         4            Waiting to Exhale (1995)                  Comedy|Drama\n",
       "4         5  Father of the Bride Part II (1995)                        Comedy"
      ]
     },
     "execution_count": 6,
     "metadata": {},
     "output_type": "execute_result"
    }
   ],
   "source": [
    "movies.head()"
   ]
  },
  {
   "cell_type": "code",
   "execution_count": 7,
   "id": "alive-designer",
   "metadata": {},
   "outputs": [
    {
     "data": {
      "text/plain": [
       "3883"
      ]
     },
     "execution_count": 7,
     "metadata": {},
     "output_type": "execute_result"
    }
   ],
   "source": [
    "# 총 3883개의 영화가 등록되어 있습니다. 많진 않군요.\n",
    "movies['title'].nunique()"
   ]
  },
  {
   "cell_type": "code",
   "execution_count": 8,
   "id": "quiet-collective",
   "metadata": {},
   "outputs": [
    {
     "data": {
      "text/plain": [
       "6039"
      ]
     },
     "execution_count": 8,
     "metadata": {},
     "output_type": "execute_result"
    }
   ],
   "source": [
    "#총 유저수는 6040명입니다\n",
    "ratings['user_id'].nunique()"
   ]
  },
  {
   "cell_type": "code",
   "execution_count": 9,
   "id": "endless-pleasure",
   "metadata": {},
   "outputs": [
    {
     "data": {
      "text/plain": [
       "genre\n",
       "Drama             843\n",
       "Comedy            521\n",
       "Horror            178\n",
       "Comedy|Drama      162\n",
       "Comedy|Romance    142\n",
       "Drama|Romance     134\n",
       "Documentary       116\n",
       "Thriller          101\n",
       "Action             65\n",
       "Drama|Thriller     63\n",
       "Name: title, dtype: int64"
      ]
     },
     "execution_count": 9,
     "metadata": {},
     "output_type": "execute_result"
    }
   ],
   "source": [
    "# 드라마와 코메디 장르가 많이 등록되어 있네요\n",
    "movies_count = movies.groupby('genre')['title'].count()\n",
    "movies_count.sort_values(ascending=False).head(10)"
   ]
  },
  {
   "cell_type": "code",
   "execution_count": 10,
   "id": "classified-lesbian",
   "metadata": {},
   "outputs": [
    {
     "data": {
      "text/html": [
       "<div>\n",
       "<style scoped>\n",
       "    .dataframe tbody tr th:only-of-type {\n",
       "        vertical-align: middle;\n",
       "    }\n",
       "\n",
       "    .dataframe tbody tr th {\n",
       "        vertical-align: top;\n",
       "    }\n",
       "\n",
       "    .dataframe thead th {\n",
       "        text-align: right;\n",
       "    }\n",
       "</style>\n",
       "<table border=\"1\" class=\"dataframe\">\n",
       "  <thead>\n",
       "    <tr style=\"text-align: right;\">\n",
       "      <th></th>\n",
       "      <th>movie_id</th>\n",
       "      <th>title</th>\n",
       "      <th>genre</th>\n",
       "    </tr>\n",
       "  </thead>\n",
       "  <tbody>\n",
       "    <tr>\n",
       "      <th>47</th>\n",
       "      <td>48</td>\n",
       "      <td>Pocahontas (1995)</td>\n",
       "      <td>Animation|Children's|Musical|Romance</td>\n",
       "    </tr>\n",
       "    <tr>\n",
       "      <th>72</th>\n",
       "      <td>73</td>\n",
       "      <td>Mis�rables, Les (1995)</td>\n",
       "      <td>Drama|Musical</td>\n",
       "    </tr>\n",
       "    <tr>\n",
       "      <th>105</th>\n",
       "      <td>107</td>\n",
       "      <td>Muppet Treasure Island (1996)</td>\n",
       "      <td>Adventure|Children's|Comedy|Musical</td>\n",
       "    </tr>\n",
       "    <tr>\n",
       "      <th>197</th>\n",
       "      <td>199</td>\n",
       "      <td>Umbrellas of Cherbourg, The (Parapluies de Che...</td>\n",
       "      <td>Drama|Musical</td>\n",
       "    </tr>\n",
       "    <tr>\n",
       "      <th>239</th>\n",
       "      <td>242</td>\n",
       "      <td>Farinelli: il castrato (1994)</td>\n",
       "      <td>Drama|Musical</td>\n",
       "    </tr>\n",
       "    <tr>\n",
       "      <th>323</th>\n",
       "      <td>327</td>\n",
       "      <td>Tank Girl (1995)</td>\n",
       "      <td>Action|Comedy|Musical|Sci-Fi</td>\n",
       "    </tr>\n",
       "    <tr>\n",
       "      <th>342</th>\n",
       "      <td>346</td>\n",
       "      <td>Backbeat (1993)</td>\n",
       "      <td>Drama|Musical</td>\n",
       "    </tr>\n",
       "    <tr>\n",
       "      <th>360</th>\n",
       "      <td>364</td>\n",
       "      <td>Lion King, The (1994)</td>\n",
       "      <td>Animation|Children's|Musical</td>\n",
       "    </tr>\n",
       "    <tr>\n",
       "      <th>547</th>\n",
       "      <td>551</td>\n",
       "      <td>Nightmare Before Christmas, The (1993)</td>\n",
       "      <td>Children's|Comedy|Musical</td>\n",
       "    </tr>\n",
       "    <tr>\n",
       "      <th>584</th>\n",
       "      <td>588</td>\n",
       "      <td>Aladdin (1992)</td>\n",
       "      <td>Animation|Children's|Comedy|Musical</td>\n",
       "    </tr>\n",
       "    <tr>\n",
       "      <th>590</th>\n",
       "      <td>594</td>\n",
       "      <td>Snow White and the Seven Dwarfs (1937)</td>\n",
       "      <td>Animation|Children's|Musical</td>\n",
       "    </tr>\n",
       "    <tr>\n",
       "      <th>591</th>\n",
       "      <td>595</td>\n",
       "      <td>Beauty and the Beast (1991)</td>\n",
       "      <td>Animation|Children's|Musical</td>\n",
       "    </tr>\n",
       "    <tr>\n",
       "      <th>626</th>\n",
       "      <td>631</td>\n",
       "      <td>All Dogs Go to Heaven 2 (1996)</td>\n",
       "      <td>Animation|Children's|Musical</td>\n",
       "    </tr>\n",
       "    <tr>\n",
       "      <th>655</th>\n",
       "      <td>661</td>\n",
       "      <td>James and the Giant Peach (1996)</td>\n",
       "      <td>Animation|Children's|Musical</td>\n",
       "    </tr>\n",
       "    <tr>\n",
       "      <th>773</th>\n",
       "      <td>783</td>\n",
       "      <td>Hunchback of Notre Dame, The (1996)</td>\n",
       "      <td>Animation|Children's|Musical</td>\n",
       "    </tr>\n",
       "    <tr>\n",
       "      <th>818</th>\n",
       "      <td>829</td>\n",
       "      <td>Joe's Apartment (1996)</td>\n",
       "      <td>Comedy|Musical</td>\n",
       "    </tr>\n",
       "    <tr>\n",
       "      <th>887</th>\n",
       "      <td>899</td>\n",
       "      <td>Singin' in the Rain (1952)</td>\n",
       "      <td>Musical|Romance</td>\n",
       "    </tr>\n",
       "    <tr>\n",
       "      <th>888</th>\n",
       "      <td>900</td>\n",
       "      <td>American in Paris, An (1951)</td>\n",
       "      <td>Musical|Romance</td>\n",
       "    </tr>\n",
       "    <tr>\n",
       "      <th>889</th>\n",
       "      <td>901</td>\n",
       "      <td>Funny Face (1957)</td>\n",
       "      <td>Comedy|Musical</td>\n",
       "    </tr>\n",
       "    <tr>\n",
       "      <th>895</th>\n",
       "      <td>907</td>\n",
       "      <td>Gay Divorcee, The (1934)</td>\n",
       "      <td>Comedy|Musical|Romance</td>\n",
       "    </tr>\n",
       "    <tr>\n",
       "      <th>902</th>\n",
       "      <td>914</td>\n",
       "      <td>My Fair Lady (1964)</td>\n",
       "      <td>Musical|Romance</td>\n",
       "    </tr>\n",
       "    <tr>\n",
       "      <th>906</th>\n",
       "      <td>918</td>\n",
       "      <td>Meet Me in St. Louis (1944)</td>\n",
       "      <td>Musical</td>\n",
       "    </tr>\n",
       "    <tr>\n",
       "      <th>907</th>\n",
       "      <td>919</td>\n",
       "      <td>Wizard of Oz, The (1939)</td>\n",
       "      <td>Adventure|Children's|Drama|Musical</td>\n",
       "    </tr>\n",
       "    <tr>\n",
       "      <th>923</th>\n",
       "      <td>935</td>\n",
       "      <td>Band Wagon, The (1953)</td>\n",
       "      <td>Comedy|Musical</td>\n",
       "    </tr>\n",
       "    <tr>\n",
       "      <th>926</th>\n",
       "      <td>938</td>\n",
       "      <td>Gigi (1958)</td>\n",
       "      <td>Musical</td>\n",
       "    </tr>\n",
       "    <tr>\n",
       "      <th>933</th>\n",
       "      <td>945</td>\n",
       "      <td>Top Hat (1935)</td>\n",
       "      <td>Comedy|Musical|Romance</td>\n",
       "    </tr>\n",
       "    <tr>\n",
       "      <th>951</th>\n",
       "      <td>963</td>\n",
       "      <td>Inspector General, The (1949)</td>\n",
       "      <td>Musical</td>\n",
       "    </tr>\n",
       "    <tr>\n",
       "      <th>963</th>\n",
       "      <td>975</td>\n",
       "      <td>Something to Sing About (1937)</td>\n",
       "      <td>Comedy|Musical</td>\n",
       "    </tr>\n",
       "    <tr>\n",
       "      <th>1009</th>\n",
       "      <td>1022</td>\n",
       "      <td>Cinderella (1950)</td>\n",
       "      <td>Animation|Children's|Musical</td>\n",
       "    </tr>\n",
       "    <tr>\n",
       "      <th>1011</th>\n",
       "      <td>1024</td>\n",
       "      <td>Three Caballeros, The (1945)</td>\n",
       "      <td>Animation|Children's|Musical</td>\n",
       "    </tr>\n",
       "    <tr>\n",
       "      <th>1015</th>\n",
       "      <td>1028</td>\n",
       "      <td>Mary Poppins (1964)</td>\n",
       "      <td>Children's|Comedy|Musical</td>\n",
       "    </tr>\n",
       "    <tr>\n",
       "      <th>1016</th>\n",
       "      <td>1029</td>\n",
       "      <td>Dumbo (1941)</td>\n",
       "      <td>Animation|Children's|Musical</td>\n",
       "    </tr>\n",
       "    <tr>\n",
       "      <th>1017</th>\n",
       "      <td>1030</td>\n",
       "      <td>Pete's Dragon (1977)</td>\n",
       "      <td>Adventure|Animation|Children's|Musical</td>\n",
       "    </tr>\n",
       "    <tr>\n",
       "      <th>1018</th>\n",
       "      <td>1031</td>\n",
       "      <td>Bedknobs and Broomsticks (1971)</td>\n",
       "      <td>Adventure|Children's|Musical</td>\n",
       "    </tr>\n",
       "    <tr>\n",
       "      <th>1019</th>\n",
       "      <td>1032</td>\n",
       "      <td>Alice in Wonderland (1951)</td>\n",
       "      <td>Animation|Children's|Musical</td>\n",
       "    </tr>\n",
       "    <tr>\n",
       "      <th>1022</th>\n",
       "      <td>1035</td>\n",
       "      <td>Sound of Music, The (1965)</td>\n",
       "      <td>Musical</td>\n",
       "    </tr>\n",
       "    <tr>\n",
       "      <th>1043</th>\n",
       "      <td>1057</td>\n",
       "      <td>Everyone Says I Love You (1996)</td>\n",
       "      <td>Comedy|Musical|Romance</td>\n",
       "    </tr>\n",
       "    <tr>\n",
       "      <th>1052</th>\n",
       "      <td>1066</td>\n",
       "      <td>Shall We Dance? (1937)</td>\n",
       "      <td>Comedy|Musical|Romance</td>\n",
       "    </tr>\n",
       "    <tr>\n",
       "      <th>1053</th>\n",
       "      <td>1067</td>\n",
       "      <td>Damsel in Distress, A (1937)</td>\n",
       "      <td>Comedy|Musical|Romance</td>\n",
       "    </tr>\n",
       "    <tr>\n",
       "      <th>1065</th>\n",
       "      <td>1081</td>\n",
       "      <td>Victor/Victoria (1982)</td>\n",
       "      <td>Comedy|Musical</td>\n",
       "    </tr>\n",
       "  </tbody>\n",
       "</table>\n",
       "</div>"
      ],
      "text/plain": [
       "      movie_id                                              title  \\\n",
       "47          48                                  Pocahontas (1995)   \n",
       "72          73                             Mis�rables, Les (1995)   \n",
       "105        107                      Muppet Treasure Island (1996)   \n",
       "197        199  Umbrellas of Cherbourg, The (Parapluies de Che...   \n",
       "239        242                      Farinelli: il castrato (1994)   \n",
       "323        327                                   Tank Girl (1995)   \n",
       "342        346                                    Backbeat (1993)   \n",
       "360        364                              Lion King, The (1994)   \n",
       "547        551             Nightmare Before Christmas, The (1993)   \n",
       "584        588                                     Aladdin (1992)   \n",
       "590        594             Snow White and the Seven Dwarfs (1937)   \n",
       "591        595                        Beauty and the Beast (1991)   \n",
       "626        631                     All Dogs Go to Heaven 2 (1996)   \n",
       "655        661                   James and the Giant Peach (1996)   \n",
       "773        783                Hunchback of Notre Dame, The (1996)   \n",
       "818        829                             Joe's Apartment (1996)   \n",
       "887        899                         Singin' in the Rain (1952)   \n",
       "888        900                       American in Paris, An (1951)   \n",
       "889        901                                  Funny Face (1957)   \n",
       "895        907                           Gay Divorcee, The (1934)   \n",
       "902        914                                My Fair Lady (1964)   \n",
       "906        918                        Meet Me in St. Louis (1944)   \n",
       "907        919                           Wizard of Oz, The (1939)   \n",
       "923        935                             Band Wagon, The (1953)   \n",
       "926        938                                        Gigi (1958)   \n",
       "933        945                                     Top Hat (1935)   \n",
       "951        963                      Inspector General, The (1949)   \n",
       "963        975                     Something to Sing About (1937)   \n",
       "1009      1022                                  Cinderella (1950)   \n",
       "1011      1024                       Three Caballeros, The (1945)   \n",
       "1015      1028                                Mary Poppins (1964)   \n",
       "1016      1029                                       Dumbo (1941)   \n",
       "1017      1030                               Pete's Dragon (1977)   \n",
       "1018      1031                    Bedknobs and Broomsticks (1971)   \n",
       "1019      1032                         Alice in Wonderland (1951)   \n",
       "1022      1035                         Sound of Music, The (1965)   \n",
       "1043      1057                    Everyone Says I Love You (1996)   \n",
       "1052      1066                             Shall We Dance? (1937)   \n",
       "1053      1067                       Damsel in Distress, A (1937)   \n",
       "1065      1081                             Victor/Victoria (1982)   \n",
       "\n",
       "                                       genre  \n",
       "47      Animation|Children's|Musical|Romance  \n",
       "72                             Drama|Musical  \n",
       "105      Adventure|Children's|Comedy|Musical  \n",
       "197                            Drama|Musical  \n",
       "239                            Drama|Musical  \n",
       "323             Action|Comedy|Musical|Sci-Fi  \n",
       "342                            Drama|Musical  \n",
       "360             Animation|Children's|Musical  \n",
       "547                Children's|Comedy|Musical  \n",
       "584      Animation|Children's|Comedy|Musical  \n",
       "590             Animation|Children's|Musical  \n",
       "591             Animation|Children's|Musical  \n",
       "626             Animation|Children's|Musical  \n",
       "655             Animation|Children's|Musical  \n",
       "773             Animation|Children's|Musical  \n",
       "818                           Comedy|Musical  \n",
       "887                          Musical|Romance  \n",
       "888                          Musical|Romance  \n",
       "889                           Comedy|Musical  \n",
       "895                   Comedy|Musical|Romance  \n",
       "902                          Musical|Romance  \n",
       "906                                  Musical  \n",
       "907       Adventure|Children's|Drama|Musical  \n",
       "923                           Comedy|Musical  \n",
       "926                                  Musical  \n",
       "933                   Comedy|Musical|Romance  \n",
       "951                                  Musical  \n",
       "963                           Comedy|Musical  \n",
       "1009            Animation|Children's|Musical  \n",
       "1011            Animation|Children's|Musical  \n",
       "1015               Children's|Comedy|Musical  \n",
       "1016            Animation|Children's|Musical  \n",
       "1017  Adventure|Animation|Children's|Musical  \n",
       "1018            Adventure|Children's|Musical  \n",
       "1019            Animation|Children's|Musical  \n",
       "1022                                 Musical  \n",
       "1043                  Comedy|Musical|Romance  \n",
       "1052                  Comedy|Musical|Romance  \n",
       "1053                  Comedy|Musical|Romance  \n",
       "1065                          Comedy|Musical  "
      ]
     },
     "execution_count": 10,
     "metadata": {},
     "output_type": "execute_result"
    }
   ],
   "source": [
    "genre_musical = movies[movies['genre'].str.contains(\"Musical\")]\n",
    "genre_musical.head(40)\n",
    "#저는 뮤지컬 장르를 좋아하니까 genre칼럼에서 Musical 영화들만 찾아볼게요."
   ]
  },
  {
   "cell_type": "code",
   "execution_count": 11,
   "id": "documentary-worthy",
   "metadata": {},
   "outputs": [
    {
     "data": {
      "text/plain": [
       "movie_id\n",
       "2858    3211\n",
       "260     2910\n",
       "1196    2885\n",
       "1210    2716\n",
       "2028    2561\n",
       "589     2509\n",
       "593     2498\n",
       "1198    2473\n",
       "1270    2460\n",
       "2571    2434\n",
       "Name: count, dtype: int64"
      ]
     },
     "execution_count": 11,
     "metadata": {},
     "output_type": "execute_result"
    }
   ],
   "source": [
    "# 인기 많은 영화들의 id를 뽑아봤습니다.\n",
    "hot_rated = ratings.groupby('movie_id')['count'].count()\n",
    "hot_rated.sort_values(ascending=False).head(10)"
   ]
  },
  {
   "cell_type": "code",
   "execution_count": 12,
   "id": "ruled-polish",
   "metadata": {},
   "outputs": [
    {
     "data": {
      "text/html": [
       "<div>\n",
       "<style scoped>\n",
       "    .dataframe tbody tr th:only-of-type {\n",
       "        vertical-align: middle;\n",
       "    }\n",
       "\n",
       "    .dataframe tbody tr th {\n",
       "        vertical-align: top;\n",
       "    }\n",
       "\n",
       "    .dataframe thead th {\n",
       "        text-align: right;\n",
       "    }\n",
       "</style>\n",
       "<table border=\"1\" class=\"dataframe\">\n",
       "  <thead>\n",
       "    <tr style=\"text-align: right;\">\n",
       "      <th></th>\n",
       "      <th>user_id</th>\n",
       "      <th>movie_id</th>\n",
       "      <th>count</th>\n",
       "      <th>timestamp</th>\n",
       "      <th>title</th>\n",
       "      <th>genre</th>\n",
       "    </tr>\n",
       "  </thead>\n",
       "  <tbody>\n",
       "    <tr>\n",
       "      <th>0</th>\n",
       "      <td>1</td>\n",
       "      <td>1193</td>\n",
       "      <td>5</td>\n",
       "      <td>978300760</td>\n",
       "      <td>One Flew Over the Cuckoo's Nest (1975)</td>\n",
       "      <td>Drama</td>\n",
       "    </tr>\n",
       "    <tr>\n",
       "      <th>1</th>\n",
       "      <td>1</td>\n",
       "      <td>661</td>\n",
       "      <td>3</td>\n",
       "      <td>978302109</td>\n",
       "      <td>James and the Giant Peach (1996)</td>\n",
       "      <td>Animation|Children's|Musical</td>\n",
       "    </tr>\n",
       "    <tr>\n",
       "      <th>2</th>\n",
       "      <td>1</td>\n",
       "      <td>914</td>\n",
       "      <td>3</td>\n",
       "      <td>978301968</td>\n",
       "      <td>My Fair Lady (1964)</td>\n",
       "      <td>Musical|Romance</td>\n",
       "    </tr>\n",
       "    <tr>\n",
       "      <th>3</th>\n",
       "      <td>1</td>\n",
       "      <td>3408</td>\n",
       "      <td>4</td>\n",
       "      <td>978300275</td>\n",
       "      <td>Erin Brockovich (2000)</td>\n",
       "      <td>Drama</td>\n",
       "    </tr>\n",
       "    <tr>\n",
       "      <th>4</th>\n",
       "      <td>1</td>\n",
       "      <td>2355</td>\n",
       "      <td>5</td>\n",
       "      <td>978824291</td>\n",
       "      <td>Bug's Life, A (1998)</td>\n",
       "      <td>Animation|Children's|Comedy</td>\n",
       "    </tr>\n",
       "    <tr>\n",
       "      <th>...</th>\n",
       "      <td>...</td>\n",
       "      <td>...</td>\n",
       "      <td>...</td>\n",
       "      <td>...</td>\n",
       "      <td>...</td>\n",
       "      <td>...</td>\n",
       "    </tr>\n",
       "    <tr>\n",
       "      <th>836473</th>\n",
       "      <td>6040</td>\n",
       "      <td>1090</td>\n",
       "      <td>3</td>\n",
       "      <td>956715518</td>\n",
       "      <td>Platoon (1986)</td>\n",
       "      <td>Drama|War</td>\n",
       "    </tr>\n",
       "    <tr>\n",
       "      <th>836474</th>\n",
       "      <td>6040</td>\n",
       "      <td>1094</td>\n",
       "      <td>5</td>\n",
       "      <td>956704887</td>\n",
       "      <td>Crying Game, The (1992)</td>\n",
       "      <td>Drama|Romance|War</td>\n",
       "    </tr>\n",
       "    <tr>\n",
       "      <th>836475</th>\n",
       "      <td>6040</td>\n",
       "      <td>562</td>\n",
       "      <td>5</td>\n",
       "      <td>956704746</td>\n",
       "      <td>Welcome to the Dollhouse (1995)</td>\n",
       "      <td>Comedy|Drama</td>\n",
       "    </tr>\n",
       "    <tr>\n",
       "      <th>836476</th>\n",
       "      <td>6040</td>\n",
       "      <td>1096</td>\n",
       "      <td>4</td>\n",
       "      <td>956715648</td>\n",
       "      <td>Sophie's Choice (1982)</td>\n",
       "      <td>Drama</td>\n",
       "    </tr>\n",
       "    <tr>\n",
       "      <th>836477</th>\n",
       "      <td>6040</td>\n",
       "      <td>1097</td>\n",
       "      <td>4</td>\n",
       "      <td>956715569</td>\n",
       "      <td>E.T. the Extra-Terrestrial (1982)</td>\n",
       "      <td>Children's|Drama|Fantasy|Sci-Fi</td>\n",
       "    </tr>\n",
       "  </tbody>\n",
       "</table>\n",
       "<p>836478 rows × 6 columns</p>\n",
       "</div>"
      ],
      "text/plain": [
       "        user_id  movie_id  count  timestamp  \\\n",
       "0             1      1193      5  978300760   \n",
       "1             1       661      3  978302109   \n",
       "2             1       914      3  978301968   \n",
       "3             1      3408      4  978300275   \n",
       "4             1      2355      5  978824291   \n",
       "...         ...       ...    ...        ...   \n",
       "836473     6040      1090      3  956715518   \n",
       "836474     6040      1094      5  956704887   \n",
       "836475     6040       562      5  956704746   \n",
       "836476     6040      1096      4  956715648   \n",
       "836477     6040      1097      4  956715569   \n",
       "\n",
       "                                         title  \\\n",
       "0       One Flew Over the Cuckoo's Nest (1975)   \n",
       "1             James and the Giant Peach (1996)   \n",
       "2                          My Fair Lady (1964)   \n",
       "3                       Erin Brockovich (2000)   \n",
       "4                         Bug's Life, A (1998)   \n",
       "...                                        ...   \n",
       "836473                          Platoon (1986)   \n",
       "836474                 Crying Game, The (1992)   \n",
       "836475         Welcome to the Dollhouse (1995)   \n",
       "836476                  Sophie's Choice (1982)   \n",
       "836477       E.T. the Extra-Terrestrial (1982)   \n",
       "\n",
       "                                  genre  \n",
       "0                                 Drama  \n",
       "1          Animation|Children's|Musical  \n",
       "2                       Musical|Romance  \n",
       "3                                 Drama  \n",
       "4           Animation|Children's|Comedy  \n",
       "...                                 ...  \n",
       "836473                        Drama|War  \n",
       "836474                Drama|Romance|War  \n",
       "836475                     Comedy|Drama  \n",
       "836476                            Drama  \n",
       "836477  Children's|Drama|Fantasy|Sci-Fi  \n",
       "\n",
       "[836478 rows x 6 columns]"
      ]
     },
     "execution_count": 12,
     "metadata": {},
     "output_type": "execute_result"
    }
   ],
   "source": [
    "#조금 더 보기 편하게 만들기 위해 movie_id를 기준으로 데이터프레임을 합쳐봅니다. \n",
    "check = pd.merge(ratings,movies,on ='movie_id', how ='left')\n",
    "check"
   ]
  },
  {
   "cell_type": "code",
   "execution_count": null,
   "id": "light-repository",
   "metadata": {},
   "outputs": [],
   "source": [
    "# 아까 뽑은 id들의 제목을 확인해봅니다.\n",
    "hot_rated = check.groupby('title')['movie_id'].count()\n",
    "hot_rated.sort_values(ascending=False).head(10)"
   ]
  },
  {
   "cell_type": "markdown",
   "id": "atlantic-finnish",
   "metadata": {},
   "source": [
    "# 3) 내가 선호하는 영화를 5가지 골라서 rating에 추가해 줍시다.\n",
    "\n",
    "별점 데이터는 대표적인 explicit 데이터입니다. 하지만 implicit 데이터로 간주하고 테스트해볼 수 있습니다.\n",
    "별점을 시청횟수로 해석해서 생각하겠습니다.\n",
    "또한 유저가 3점 미만으로 준 데이터는 선호하지 않는다고 가정하고 제외하겠습니다."
   ]
  },
  {
   "cell_type": "code",
   "execution_count": null,
   "id": "selected-buffalo",
   "metadata": {},
   "outputs": [],
   "source": [
    "# 본인이 좋아하시는 아티스트 데이터로 바꿔서 추가하셔도 됩니다! 단, 이름은 꼭 데이터셋에 있는 것과 동일하게 맞춰주세요. \n",
    "my_favorite = ['Terminator 2: Judgment Day (1991)' , 'Toy Story (1995)' ,'Nightmare Before Christmas, The (1993)' ,'Sound of Music, The (1965)' ,'Mary Poppins (1964)']\n",
    "\n",
    "# 'zimin'이라는 user_id가 위 아티스트의 노래를 30회씩 들었다고 가정하겠습니다.\n",
    "my_playlist = pd.DataFrame({'user_id': ['MIN']*5, 'title': my_favorite, 'count':[5]*5})\n",
    "\n",
    "if not  check.isin({'user_id':['MIN']})['user_id'].any():  # user_id에 'zimin'이라는 데이터가 없다면\n",
    "    data = check.append(my_playlist)                           # 위에 임의로 만든 my_favorite 데이터를 추가해 줍니다. \n",
    "\n",
    "data.tail(10)       # 잘 추가되었는지 확인해 봅시다."
   ]
  },
  {
   "cell_type": "markdown",
   "id": "arbitrary-midwest",
   "metadata": {},
   "source": [
    "# 4) CSR matrix를 직접 만들어 봅시다."
   ]
  },
  {
   "cell_type": "code",
   "execution_count": null,
   "id": "interested-sweden",
   "metadata": {},
   "outputs": [],
   "source": [
    "# 고유한 유저, 아티스트를 찾아내는 코드\n",
    "user_unique = data['user_id'].unique()\n",
    "artist_unique = data['title'].unique()\n",
    "\n",
    "# 유저, 아티스트 indexing 하는 코드 idx는 index의 약자입니다.\n",
    "user_to_idx = {v:k for k,v in enumerate(user_unique)}\n",
    "artist_to_idx = {v:k for k,v in enumerate(artist_unique)}"
   ]
  },
  {
   "cell_type": "code",
   "execution_count": null,
   "id": "alive-bedroom",
   "metadata": {},
   "outputs": [],
   "source": [
    "# 인덱싱이 잘 되었는지 확인해 봅니다. \n",
    "print(user_to_idx['MIN'])    \n",
    "print(artist_to_idx['Terminator 2: Judgment Day (1991)'])"
   ]
  },
  {
   "cell_type": "code",
   "execution_count": null,
   "id": "dried-builder",
   "metadata": {},
   "outputs": [],
   "source": [
    "# indexing을 통해 데이터 컬럼 내 값을 바꾸는 코드\n",
    "# dictionary 자료형의 get 함수는 https://wikidocs.net/16 을 참고하세요.\n",
    "\n",
    "# user_to_idx.get을 통해 user_id 컬럼의 모든 값을 인덱싱한 Series를 구해 봅시다. \n",
    "# 혹시 정상적으로 인덱싱되지 않은 row가 있다면 인덱스가 NaN이 될 테니 dropna()로 제거합니다. \n",
    "temp_user_data = data['user_id'].map(user_to_idx.get).dropna()\n",
    "if len(temp_user_data) == len(data):   # 모든 row가 정상적으로 인덱싱되었다면\n",
    "    print('user_id column indexing OK!!')\n",
    "    data['user_id'] = temp_user_data   # data['user_id']을 인덱싱된 Series로 교체해 줍니다. \n",
    "else:\n",
    "    print('user_id column indexing Fail!!')\n",
    "\n",
    "temp_movies_data = data['title'].map(artist_to_idx.get).dropna()\n",
    "if len(temp_movies_data) == len(data):\n",
    "    print('title column indexing OK!!')\n",
    "    data['title'] = temp_movies_data\n",
    "else:\n",
    "    print('artist column indexing Fail!!')\n",
    "\n",
    "data"
   ]
  },
  {
   "cell_type": "code",
   "execution_count": null,
   "id": "infinite-threshold",
   "metadata": {},
   "outputs": [],
   "source": [
    "#학습시에 사용하지 않을 데이터를 지워줍니다.\n",
    "del data[\"movie_id\"]\n",
    "del data[\"timestamp\"]\n",
    "#movie_id와 'timestamp'를 지워줍니다. genre는 활용할 예정이기에 남겨둡니다."
   ]
  },
  {
   "cell_type": "code",
   "execution_count": null,
   "id": "identified-seating",
   "metadata": {},
   "outputs": [],
   "source": [
    "#genre의 결측치 부분을  Musical로 채워줍니다.\n",
    "data = data.fillna('Musical')"
   ]
  },
  {
   "cell_type": "code",
   "execution_count": null,
   "id": "legendary-entrepreneur",
   "metadata": {},
   "outputs": [],
   "source": [
    "#확인해봅니다. 잘됐네요. 결과물에 뮤지컬 영화들 추천이 많이 나올까요?\n",
    "data.tail(10)"
   ]
  },
  {
   "cell_type": "code",
   "execution_count": null,
   "id": "pediatric-evanescence",
   "metadata": {},
   "outputs": [],
   "source": [
    "from scipy.sparse import csr_matrix\n",
    "\n",
    "num_user = data['user_id'].nunique()\n",
    "num_movies = data['title'].nunique()\n",
    "csr_data = csr_matrix((data['count'],(data.user_id, data.title)),shape= (num_user, num_movies))\n",
    "csr_data"
   ]
  },
  {
   "cell_type": "markdown",
   "id": "characteristic-acoustic",
   "metadata": {},
   "source": [
    "# 5) als_model = AlternatingLeastSquares 모델을 직접 구성하여 훈련시켜 봅시다."
   ]
  },
  {
   "cell_type": "code",
   "execution_count": null,
   "id": "meaningful-liquid",
   "metadata": {},
   "outputs": [],
   "source": [
    "from implicit.als import AlternatingLeastSquares\n",
    "import os\n",
    "import numpy as np\n",
    "\n",
    "# implicit 라이브러리에서 권장하고 있는 부분입니다. 학습 내용과는 무관합니다.\n",
    "os.environ['OPENBLAS_NUM_THREADS']='1'\n",
    "os.environ['KMP_DUPLICATE_LIB_OK']='True'\n",
    "os.environ['MKL_NUM_THREADS']='1'"
   ]
  },
  {
   "cell_type": "code",
   "execution_count": null,
   "id": "educated-output",
   "metadata": {},
   "outputs": [],
   "source": [
    "# Implicit AlternatingLeastSquares 모델의 선언\n",
    "als_model = AlternatingLeastSquares(factors=100, regularization=0.01, use_gpu=False, iterations=15, dtype=np.float32)"
   ]
  },
  {
   "cell_type": "code",
   "execution_count": null,
   "id": "herbal-algeria",
   "metadata": {},
   "outputs": [],
   "source": [
    "# als 모델은 input으로 (item X user 꼴의 matrix를 받기 때문에 Transpose해줍니다.)\n",
    "csr_data_transpose = csr_data.T\n",
    "csr_data_transpose"
   ]
  },
  {
   "cell_type": "code",
   "execution_count": null,
   "id": "numerical-nudist",
   "metadata": {},
   "outputs": [],
   "source": [
    "# 모델 훈련\n",
    "als_model.fit(csr_data_transpose)"
   ]
  },
  {
   "cell_type": "markdown",
   "id": "deluxe-baker",
   "metadata": {},
   "source": [
    "# 6) 내가 선호하는 5가지 영화 중 하나와 그 외의 영화 하나를 골라 훈련된 모델이 예측한 나의 선호도를 파악해 보세요.    \n",
    "이 과정을 통해서는 모델 학습 과정을 유추해볼 수 있었습니다."
   ]
  },
  {
   "cell_type": "code",
   "execution_count": null,
   "id": "skilled-insurance",
   "metadata": {},
   "outputs": [],
   "source": [
    "Pocahontas, WE = artist_to_idx['Pocahontas (1995)'], artist_to_idx['Waiting to Exhale (1995)']\n",
    "Pocahontas_vector, WE_vector = als_model.item_factors[Pocahontas], als_model.item_factors[WE]"
   ]
  },
  {
   "cell_type": "code",
   "execution_count": null,
   "id": "destroyed-yahoo",
   "metadata": {},
   "outputs": [],
   "source": [
    "Pocahontas_vector"
   ]
  },
  {
   "cell_type": "code",
   "execution_count": null,
   "id": "assigned-magic",
   "metadata": {},
   "outputs": [],
   "source": [
    "WE_vector"
   ]
  },
  {
   "cell_type": "code",
   "execution_count": null,
   "id": "trying-annex",
   "metadata": {},
   "outputs": [],
   "source": [
    "#내적하는 코드\n",
    "np.dot(Pocahontas_vector, WE_vector)\n",
    "#포카혼타스는 애니메이션 뮤지컬이고 사랑을 기다리며는 로맨스 드라마 장르입니다. 일부러 서로 먼 걸 골라봤어요. \n",
    "#예상대로 낮은 점수가 나오네요."
   ]
  },
  {
   "cell_type": "markdown",
   "id": "growing-literature",
   "metadata": {},
   "source": [
    "# 7) 내가 좋아하는 영화와 비슷한 영화를 추천받아 봅시다."
   ]
  },
  {
   "cell_type": "code",
   "execution_count": null,
   "id": "recovered-malpractice",
   "metadata": {},
   "outputs": [],
   "source": [
    "favorite_artist = 'Sound of Music, The (1965)'\n",
    "artist_id = artist_to_idx[favorite_artist]\n",
    "similar_artist = als_model.similar_items(artist_id, N=10)\n",
    "similar_artist"
   ]
  },
  {
   "cell_type": "code",
   "execution_count": null,
   "id": "material-death",
   "metadata": {},
   "outputs": [],
   "source": [
    "idx_to_artist = {v:k for k,v in artist_to_idx.items()}\n",
    "[idx_to_artist[i[0]] for i in similar_artist]\n",
    "\n",
    "def get_similar_artist(artist_name: str):\n",
    "    artist_id = artist_to_idx[artist_name]\n",
    "    similar_artist = als_model.similar_items(artist_id)\n",
    "    similar_artist = [idx_to_artist[i[0]] for i in similar_artist]\n",
    "    return similar_artist"
   ]
  },
  {
   "cell_type": "code",
   "execution_count": null,
   "id": "approximate-owner",
   "metadata": {},
   "outputs": [],
   "source": [
    "get_similar_artist('Sound of Music, The (1965)')"
   ]
  },
  {
   "cell_type": "markdown",
   "id": "stupid-trailer",
   "metadata": {},
   "source": [
    "추천값이 뮤지컬 영화들인지 궁금해서 구글링을 해봤습니다.     \n",
    "Rosemary's Baby (1968)를 제외하면 ***장르가 뮤지컬이네요.***"
   ]
  },
  {
   "cell_type": "markdown",
   "id": "stock-spine",
   "metadata": {},
   "source": [
    "# 8) 내가 가장 좋아할 만한 영화들을 추천받아 봅시다.    \n",
    "이번에는 제가 고른 특정 영화가 아니라 유저인 ***MIN***이 좋아할 것 같은 영화들을 추천받아봅니다.      \n",
    "뮤지컬 영화들 사이에 이질적인 영화를 하나 섞어봤어요. 터미네이터 혼자 SF 액션 영화입니다. 과연 잘 찾아낼까요?\n",
    "```\n",
    "'Terminator 2: Judgment Day (1991)' ,    \n",
    "'Toy Story (1995)' ,   \n",
    "'Nightmare Before Christmas, The (1993)' ,    \n",
    "'Sound of Music, The (1965)' ,    \n",
    "'Mary Poppins (1964)'\n",
    "```\n"
   ]
  },
  {
   "cell_type": "code",
   "execution_count": null,
   "id": "round-astrology",
   "metadata": {},
   "outputs": [],
   "source": [
    "user = user_to_idx['MIN']\n",
    "# recommend에서는 user*item CSR Matrix를 받습니다.\n",
    "movie_recommended = als_model.recommend(user, csr_data, N=20, filter_already_liked_items=True)\n",
    "movie_recommended"
   ]
  },
  {
   "cell_type": "code",
   "execution_count": null,
   "id": "narrative-chain",
   "metadata": {},
   "outputs": [],
   "source": [
    "[idx_to_artist[i[0]] for i in movie_recommended]"
   ]
  },
  {
   "cell_type": "code",
   "execution_count": null,
   "id": "latter-ordinary",
   "metadata": {},
   "outputs": [],
   "source": [
    "Matrix = artist_to_idx['Matrix, The (1999)']\n",
    "explain = als_model.explain(user, csr_data, itemid=Matrix)"
   ]
  },
  {
   "cell_type": "code",
   "execution_count": null,
   "id": "further-american",
   "metadata": {},
   "outputs": [],
   "source": [
    "[(idx_to_artist[i[0]], i[1]) for i in explain[1]]\n",
    "#'Matrix'를 추천하는데 가장 크게 기여를 한 건 'Terminator 2: Judgment Day'입니다.   \n",
    "#둘 다 미래를 배경으로 하는 공상과학 액션 영화네요!\n",
    "#단 하나의 영화만 있어도 추천에는 문제가 없군요!"
   ]
  },
  {
   "cell_type": "markdown",
   "id": "prerequisite-warehouse",
   "metadata": {},
   "source": [
    "# summary  \n",
    "Movielens를 기반으로 한 영화 추천 시스템을 만들어봤습니다.     \n",
    "과정은 다음과 같습니다.\n",
    "1. 데이터 전처리      \n",
    "학습을 위해 컬럼내의 정보들을 정수 index화 해줍니다.\n",
    "2. rating과 movie dataframe을 합쳐준다.     \n",
    "별점(평가기준)을 기준으로 합쳐줍니다. \n",
    "3. csr matrix를 형성해줍니다.\n",
    "4. 모델 학습    \n",
    "implicit 안의 als(AlternatingLeastSquares) 모델을 활용합니다.    \n",
    "als 모델은 input으로 ***item X user*** 꼴의 matrix를 받습니다.\n",
    "5. AlternatingLeastSquares 클래스 속 ```similar_items``` 사용해보기 \n",
    "6. AlternatingLeastSquares 클래스 속 ```recommend``` 사용해보기\n",
    "\n",
    "     \n",
    "\n",
    "\n",
    "```Matrix Factorization(MF, 행렬분해)``` 모델에 대해 알게되었습니다.   \n",
    "벡터를 곱했을 때 1에 가까워야 모델이 잘 학습했다는 것을 의미합니다.                   \n",
    "                        \n",
    "          \n",
    "               \n",
    "```CSR(Compressed Sparse Row) Matrix```\n",
    "유저 수 X 아티스트 수만큼의 정보 안에는 유저가 들어보지 않은      \n",
    "아티스트에 대한 정보까지 모두 행렬에 포함되어 계산되기에     \n",
    "평가행렬은 ***Sparse Matrix***(평가행렬 내의 대부분의 공간이 0인 행렬)이 됩니다.    \n",
    "***CSR Matrix***는 Sparse한 matrix에서 0이 아닌 유효한 데이터로 채워지는 데이터의 값과 좌표 정보만으로 구성하여    \n",
    "메모리 사용량을 최소화하면서도 Sparse한 matrix와 동일한 행렬을 표현할 수 있도록 하는 데이터 구조입니다. "
   ]
  },
  {
   "cell_type": "markdown",
   "id": "dependent-fortune",
   "metadata": {},
   "source": [
    "# 후기      \n",
    "\n",
    "행렬을 내적해서 추천 시스템을 만든다는 발상이 신기했다. 처음에는 user_id와 counts(ratings) 그리고 movie_title을 제외한   \n",
    "정보들을 제거하려 했었으나 스트리밍 사이트들에 **장르기반** 추천 시스템이 있다는 것을 기억해내고 남겨두기로 했다. 나와 비슷한 취향을 가진 \n",
    "누군가의 데이터에 기대기보다는 내 자료를 (겨우 5개지만) 일관성있게 musical 장르로 모아 학습시키니 만족스러운 결과를 얻을 수 있었다."
   ]
  },
  {
   "cell_type": "code",
   "execution_count": null,
   "id": "nonprofit-field",
   "metadata": {},
   "outputs": [],
   "source": []
  }
 ],
 "metadata": {
  "kernelspec": {
   "display_name": "aiffel",
   "language": "python",
   "name": "aiffel"
  },
  "language_info": {
   "codemirror_mode": {
    "name": "ipython",
    "version": 3
   },
   "file_extension": ".py",
   "mimetype": "text/x-python",
   "name": "python",
   "nbconvert_exporter": "python",
   "pygments_lexer": "ipython3",
   "version": "3.7.9"
  }
 },
 "nbformat": 4,
 "nbformat_minor": 5
}
