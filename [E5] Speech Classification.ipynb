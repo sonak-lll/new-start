{
 "cells": [
  {
   "cell_type": "code",
   "execution_count": 1,
   "metadata": {},
   "outputs": [],
   "source": [
    "import numpy as np\n",
    "import os\n",
    "\n",
    "data_path = os.getenv(\"HOME\")+'/aiffel/speech_recognition/data/speech_wav_8000.npz'\n",
    "speech_data = np.load(data_path)    \n",
    "\n",
    "#스피치 데이터를 불러와줍니다. waveform형식의 데이터를 다운받았습니다. yes, no 같은 짧은 단어들에 라벨이 달려있어서 \n",
    "#간단한 분류기 학습 모델을 만드는데 적합하다고 합니다."
   ]
  },
  {
   "cell_type": "markdown",
   "metadata": {},
   "source": [
    "오디오셋 구성 (Train, Test 데이터 구성)\n",
    "\n",
    "구별해야할 레이블에는 \n",
    "**['yes', 'no', 'up', 'down', 'left', 'right', 'on', 'off', 'stop', 'go' ]** 이 있습니다.\n"
   ]
  },
  {
   "cell_type": "code",
   "execution_count": 2,
   "metadata": {},
   "outputs": [
    {
     "name": "stdout",
     "output_type": "stream",
     "text": [
      "LABEL :  ['yes', 'no', 'up', 'down', 'left', 'right', 'on', 'off', 'stop', 'go', 'unknown', 'silence']\n",
      "Indexed LABEL :  {'yes': 0, 'no': 1, 'up': 2, 'down': 3, 'left': 4, 'right': 5, 'on': 6, 'off': 7, 'stop': 8, 'go': 9, 'unknown': 10, 'silence': 11}\n"
     ]
    }
   ],
   "source": [
    "#라벨을 인덱싱 해줍니다.\n",
    "#딕셔너리를 만들어 new_label_value라고 이름 붙여주고 인덱싱 해주었다.\n",
    "#Q. 그냥 enumerate 함수만 사용해도 인덱싱이 될 텐데 왜 굳이 '새로운 딕셔너리'를 생성해주는걸까?\n",
    "target_list = ['yes', 'no', 'up', 'down', 'left', 'right', 'on', 'off', 'stop', 'go']\n",
    "\n",
    "label_value = target_list\n",
    "label_value.append('unknown')\n",
    "label_value.append('silence')\n",
    "\n",
    "print('LABEL : ', label_value)\n",
    "\n",
    "new_label_value = dict()\n",
    "for i, l in enumerate(label_value):\n",
    "    new_label_value[l] = i\n",
    "label_value = new_label_value\n",
    "\n",
    "print('Indexed LABEL : ', new_label_value)"
   ]
  },
  {
   "cell_type": "code",
   "execution_count": 4,
   "metadata": {},
   "outputs": [
    {
     "name": "stdout",
     "output_type": "stream",
     "text": [
      "[[ 3.29382019e-03  4.73433267e-03  8.27394761e-05 ...  2.57896585e-03\n",
      "   2.08522100e-03 -1.77786360e-03]\n",
      " [-7.89344485e-05 -3.73922783e-04 -4.78024187e-04 ...  3.69290181e-04\n",
      "   2.79870146e-04  2.77746964e-04]\n",
      " [ 3.29129561e-03  4.73915599e-03  1.10617155e-04 ...  2.57171458e-03\n",
      "   2.12259637e-03 -1.78144639e-03]\n",
      " ...\n",
      " [ 3.68149928e-03  5.37393196e-03  1.92978172e-04 ...  2.02738284e-03\n",
      "   1.77311827e-03 -2.18975171e-03]\n",
      " [ 3.07198381e-03  4.35279449e-03 -3.54647986e-04 ...  2.00132374e-03\n",
      "   1.53117185e-03 -2.38927803e-03]\n",
      " [ 9.92913963e-04 -6.73621136e-04 -2.14048848e-03 ...  3.86722223e-03\n",
      "   3.08308657e-03  3.95817123e-03]]\n",
      "✅\n"
     ]
    }
   ],
   "source": [
    "#데이터를 분리해줍니다. \n",
    "\n",
    "temp = []\n",
    "for v in speech_data[\"label_vals\"]:\n",
    "    temp.append(label_value[v[0]])\n",
    "label_data = np.array(temp)\n",
    "\n",
    "\n",
    "from sklearn.model_selection import train_test_split\n",
    "\n",
    "sr = 8000\n",
    "train_wav, test_wav, train_label, test_label = train_test_split(speech_data[\"wav_vals\"], \n",
    "                                                                label_data, \n",
    "                                                                test_size=0.1,\n",
    "                                                                shuffle=True)\n",
    "print(train_wav)\n",
    "\n",
    "train_wav = train_wav.reshape([-1, sr, 1]) # add channel for CNN\n",
    "test_wav = test_wav.reshape([-1, sr, 1])\n",
    "print(\"✅\")"
   ]
  },
  {
   "cell_type": "code",
   "execution_count": 5,
   "metadata": {},
   "outputs": [
    {
     "name": "stdout",
     "output_type": "stream",
     "text": [
      "train data :  (45558, 8000, 1)\n",
      "train labels :  (45558,)\n",
      "test data :  (5062, 8000, 1)\n",
      "test labels :  (5062,)\n",
      "✅\n"
     ]
    }
   ],
   "source": [
    "print(\"train data : \", train_wav.shape)\n",
    "print(\"train labels : \", train_label.shape)\n",
    "print(\"test data : \", test_wav.shape)\n",
    "print(\"test labels : \", test_label.shape)\n",
    "print(\"✅\")"
   ]
  },
  {
   "cell_type": "markdown",
   "metadata": {},
   "source": [
    "Hyper-parameters setting\n",
    "학습을 위한 하이퍼파라미터를 설정해줍니다.모델 체크포인트 저장을 위한 체크포인트의 경로를 설정해줍니다.\n",
    "후에 모델 체크포인트 Callback 함수를 설정하거나, 모델을 불러올때 사용합니다.\n",
    "\n"
   ]
  },
  {
   "cell_type": "code",
   "execution_count": 6,
   "metadata": {},
   "outputs": [
    {
     "data": {
      "text/plain": [
       "'/home/aiffel-dj57/aiffel/speech_recognition/models/wav'"
      ]
     },
     "execution_count": 6,
     "metadata": {},
     "output_type": "execute_result"
    }
   ],
   "source": [
    "batch_size = 32\n",
    "max_epochs = 1\n",
    "\n",
    "# the save point\n",
    "checkpoint_dir = os.getenv('HOME')+'/aiffel/speech_recognition/models/wav'\n",
    "\n",
    "checkpoint_dir"
   ]
  },
  {
   "cell_type": "markdown",
   "metadata": {},
   "source": [
    "## 정신적으로 힘든일이 생겨서 진행을 많이 못했어요 꼼수로라도 일단 제출합니다."
   ]
  }
 ],
 "metadata": {
  "kernelspec": {
   "display_name": "aiffel",
   "language": "python",
   "name": "aiffel"
  },
  "language_info": {
   "codemirror_mode": {
    "name": "ipython",
    "version": 3
   },
   "file_extension": ".py",
   "mimetype": "text/x-python",
   "name": "python",
   "nbconvert_exporter": "python",
   "pygments_lexer": "ipython3",
   "version": "3.7.9"
  }
 },
 "nbformat": 4,
 "nbformat_minor": 4
}
